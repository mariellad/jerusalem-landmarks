{
 "cells": [
  {
   "cell_type": "code",
   "execution_count": 1,
   "id": "00acd993",
   "metadata": {},
   "outputs": [],
   "source": [
    "import pandas as pd\n",
    "import openai\n",
    "import time\n",
    "import requests\n",
    "from tqdm import tqdm\n",
    "from tenacity import retry, wait_exponential, stop_after_attempt, retry_if_exception_type, RetryError\n",
    "\n",
    "#insert openAI key\n",
    "openai.api_key = 'my_key'"
   ]
  },
  {
   "cell_type": "code",
   "execution_count": 15,
   "id": "c2151753",
   "metadata": {},
   "outputs": [],
   "source": [
    "# read file containing 300 randomly slected urls from the total urls \n",
    "#that we got from the search result: jerusalem, from the LOC\n",
    "with open('./random_jerusalem.csv', 'r') as file:\n",
    "      df = (pd.read_csv(file))"
   ]
  },
  {
   "cell_type": "code",
   "execution_count": 16,
   "id": "a9dda3b8",
   "metadata": {},
   "outputs": [],
   "source": [
    "#convert csv to list\n",
    "random_urls = df['URLs'].to_list()"
   ]
  },
  {
   "cell_type": "code",
   "execution_count": 7,
   "id": "ac0ccee4",
   "metadata": {},
   "outputs": [],
   "source": [
    "def get_selected_metadata(image_url):\n",
    "    metadata_url = image_url + \"?fo=json\"\n",
    "    try:\n",
    "        response = requests.get(metadata_url)\n",
    "        if response.status_code == 200:\n",
    "            data = response.json()\n",
    "\n",
    "            # Extracting nested fields from the JSON response\n",
    "            interesting_fields = {\n",
    "                \"id\": data.get(\"item\", {}).get(\"id\"),\n",
    "                \"contributor_names\": data.get(\"item\", {}).get(\"contributor_names\"),\n",
    "                \"created_published\": data.get(\"item\", {}).get(\"created_published\"),\n",
    "                \"created_published_date\": data.get(\"item\", {}).get(\"created_published_date\"),\n",
    "                \"description\": data.get(\"item\", {}).get(\"description\"),\n",
    "                \"format\": data.get(\"item\", {}).get(\"format\"),\n",
    "                \"location\": data.get(\"item\", {}).get(\"location\"),\n",
    "                \"title\": data.get(\"item\", {}).get(\"title\"),\n",
    "                \"notes\": data.get(\"item\", {}).get(\"notes\"),\n",
    "                \"number_lccn\": data.get(\"item\", {}).get(\"number_lccn\")  # Added \"number_lccn\"\n",
    "            }\n",
    "\n",
    "            return interesting_fields\n",
    "    except Exception as e:\n",
    "        tqdm.write(f\"An error occurred while fetching metadata for {image_url}: {e}\")\n",
    "    return None\n",
    "\n",
    "\n",
    "\n",
    "# Function to call the OpenAI API with retry mechanism\n",
    "@retry(wait=wait_exponential(multiplier=1, min=4, max=10), \n",
    "       stop=stop_after_attempt(3), \n",
    "       retry=retry_if_exception_type(openai.error.RateLimitError))\n",
    "def call_openai_api(prompt, metadata, results_list):\n",
    "    response = openai.ChatCompletion.create(\n",
    "        model=\"gpt-3.5-turbo-1106\",\n",
    "        messages=[\n",
    "            {\"role\": \"system\", \"content\": \"You are a helpful assistant.\"},\n",
    "            {\"role\": \"user\", \"content\": prompt.format(metadata=metadata)}\n",
    "        ]\n",
    "    )\n",
    "    result = response.choices[0].message['content']\n",
    "    results_list.append(result)\n",
    "    return result\n",
    "\n",
    "# Function to save the results to a file\n",
    "def save_results(results_list):\n",
    "    with open('results.txt', 'w', encoding='utf-8') as file:\n",
    "        for result in results_list:\n",
    "            file.write(result + '\\n')\n",
    "\n",
    "# Generator function to create batches from a list of URLs\n",
    "def batch_process(urls, batch_size):\n",
    "    for i in range(0, len(urls), batch_size):\n",
    "        yield urls[i:i + batch_size]\n",
    "\n",
    "# Main function to analyze image metadata\n",
    "def analyze_image_metadata(prompt, image_urls, batch_size=20, delay_seconds=5):\n",
    "    start_time = time.time()\n",
    "    results_list = []\n",
    "\n",
    "    # Loop through each batch of URLs\n",
    "    for batch in batch_process(image_urls, batch_size):\n",
    "        for url in tqdm(batch, desc='Processing Batch', unit='image'):\n",
    "            while True:\n",
    "                try:\n",
    "                    metadata = get_selected_metadata(url)\n",
    "                    if metadata:\n",
    "                        tqdm.write(f\"Processing image {url}...\")\n",
    "                        result = call_openai_api(prompt, metadata, results_list)\n",
    "                        if result:\n",
    "                            tqdm.write(f\"Result: {result}\")\n",
    "                        time.sleep(delay_seconds)  # Fixed delay between each API call\n",
    "                        break  # Break the while loop once the API call is successful\n",
    "                    else:\n",
    "                        tqdm.write(f\"No metadata available for image {url}.\")\n",
    "                        break  # Break the while loop if no metadata is available\n",
    "                except RetryError:\n",
    "                    tqdm.write(\"Maximum retry attempts reached. Pausing for 15 minutes before retrying.\")\n",
    "                    save_results(results_list)  # Save progress\n",
    "                    time.sleep(900)  # Pause for 15 minutes\n",
    "\n",
    "        # Sleep for 15 minutes between each batch\n",
    "        tqdm.write(\"Completed a batch. Pausing for 15 minutes before starting the next batch.\")\n",
    "        #time.sleep(900)\n",
    "\n",
    "    end_time = time.time()\n",
    "    tqdm.write(f\"Total time taken: {end_time - start_time:.2f} seconds\")\n",
    "    save_results(results_list)\n",
    "    "
   ]
  },
  {
   "cell_type": "code",
   "execution_count": 8,
   "id": "7fd388cc",
   "metadata": {},
   "outputs": [
    {
     "name": "stderr",
     "output_type": "stream",
     "text": [
      "Processing Batch:   0%|                                                                      | 0/20 [00:00<?, ?image/s]"
     ]
    },
    {
     "name": "stdout",
     "output_type": "stream",
     "text": [
      "Processing image http://www.loc.gov/item/2019698100/...\n"
     ]
    },
    {
     "name": "stderr",
     "output_type": "stream",
     "text": [
      "Processing Batch:   0%|                                                                      | 0/20 [00:02<?, ?image/s]"
     ]
    },
    {
     "name": "stdout",
     "output_type": "stream",
     "text": [
      "Result: ```json\n",
      "{\n",
      "  \"id\": \"http://www.loc.gov/item/2019698100/\",\n",
      "  \"city\": \"Jerusalem\",\n",
      "  \"landmarks\": [\"Unknown\"]\n",
      "}\n",
      "```\n"
     ]
    },
    {
     "name": "stderr",
     "output_type": "stream",
     "text": [
      "Processing Batch:   5%|███                                                           | 1/20 [00:09<02:18,  7.27s/image]"
     ]
    },
    {
     "name": "stdout",
     "output_type": "stream",
     "text": [
      "Processing image http://www.loc.gov/item/2019695847/...\n"
     ]
    },
    {
     "name": "stderr",
     "output_type": "stream",
     "text": [
      "Processing Batch:   5%|███                                                           | 1/20 [00:10<02:18,  7.27s/image]"
     ]
    },
    {
     "name": "stdout",
     "output_type": "stream",
     "text": [
      "Result: {\n",
      "  \"id\": \"http://www.loc.gov/item/2019695847/\",\n",
      "  \"city\": \"Aleppo\",\n",
      "  \"landmarks\": [\"Jami el-Adliyeh\"]\n",
      "}\n"
     ]
    },
    {
     "name": "stderr",
     "output_type": "stream",
     "text": [
      "Processing Batch:  10%|██████▏                                                       | 2/20 [00:17<02:20,  7.81s/image]"
     ]
    },
    {
     "name": "stdout",
     "output_type": "stream",
     "text": [
      "Processing image http://www.loc.gov/item/2019696630/...\n"
     ]
    },
    {
     "name": "stderr",
     "output_type": "stream",
     "text": [
      "Processing Batch:  10%|██████▏                                                       | 2/20 [00:18<02:20,  7.81s/image]"
     ]
    },
    {
     "name": "stdout",
     "output_type": "stream",
     "text": [
      "Result: {\n",
      "  \"id\": \"http://www.loc.gov/item/2019696630/\",\n",
      "  \"city\": \"Unknown\",\n",
      "  \"landmarks\": [\"Sahyun Castle\", \"Qal'at Salahuddin\"]\n",
      "}\n"
     ]
    },
    {
     "name": "stderr",
     "output_type": "stream",
     "text": [
      "Processing Batch:  15%|█████████▎                                                    | 3/20 [00:27<02:17,  8.11s/image]"
     ]
    },
    {
     "name": "stdout",
     "output_type": "stream",
     "text": [
      "Processing image http://www.loc.gov/item/2019706891/...\n"
     ]
    },
    {
     "name": "stderr",
     "output_type": "stream",
     "text": [
      "Processing Batch:  15%|█████████▎                                                    | 3/20 [00:28<02:17,  8.11s/image]"
     ]
    },
    {
     "name": "stdout",
     "output_type": "stream",
     "text": [
      "Result: {\n",
      "  \"id\": \"http://www.loc.gov/item/2019706891/\",\n",
      "  \"city\": \"Unknown\",\n",
      "  \"landmarks\": [\"Unknown\"]\n",
      "}\n"
     ]
    },
    {
     "name": "stderr",
     "output_type": "stream",
     "text": [
      "Processing Batch:  20%|████████████▍                                                 | 4/20 [00:35<02:18,  8.64s/image]"
     ]
    },
    {
     "name": "stdout",
     "output_type": "stream",
     "text": [
      "Processing image http://www.loc.gov/item/2019695725/...\n"
     ]
    },
    {
     "name": "stderr",
     "output_type": "stream",
     "text": [
      "Processing Batch:  20%|████████████▍                                                 | 4/20 [00:37<02:18,  8.64s/image]"
     ]
    },
    {
     "name": "stdout",
     "output_type": "stream",
     "text": [
      "Result: {\n",
      "  \"id\": \"http://www.loc.gov/item/2019695725/\",\n",
      "  \"city\": \"Unknown\",\n",
      "  \"landmarks\": [\"Monastery of St. Catherine\"]\n",
      "}\n"
     ]
    },
    {
     "name": "stderr",
     "output_type": "stream",
     "text": [
      "Processing Batch:  25%|███████████████▌                                              | 5/20 [00:43<02:09,  8.64s/image]"
     ]
    },
    {
     "name": "stdout",
     "output_type": "stream",
     "text": [
      "Processing image http://www.loc.gov/item/2019704839/...\n"
     ]
    },
    {
     "name": "stderr",
     "output_type": "stream",
     "text": [
      "Processing Batch:  25%|███████████████▌                                              | 5/20 [00:44<02:09,  8.64s/image]"
     ]
    },
    {
     "name": "stdout",
     "output_type": "stream",
     "text": [
      "Result: {\n",
      "  \"id\": \"http://www.loc.gov/item/2019704839/\",\n",
      "  \"city\": \"Jerusalem\",\n",
      "  \"landmarks\": [\"St. George's School\"]\n",
      "}\n"
     ]
    },
    {
     "name": "stderr",
     "output_type": "stream",
     "text": [
      "Processing Batch:  30%|██████████████████▌                                           | 6/20 [00:52<01:57,  8.37s/image]"
     ]
    },
    {
     "name": "stdout",
     "output_type": "stream",
     "text": [
      "Processing image http://www.loc.gov/item/2019699738/...\n"
     ]
    },
    {
     "name": "stderr",
     "output_type": "stream",
     "text": [
      "Processing Batch:  30%|██████████████████▌                                           | 6/20 [00:53<01:57,  8.37s/image]"
     ]
    },
    {
     "name": "stdout",
     "output_type": "stream",
     "text": [
      "Result: ```json\n",
      "{\n",
      "  \"id\": \"2019699738\",\n",
      "  \"city\": \"Jerusalem\",\n",
      "  \"landmarks\": [\"Unknown\"]\n",
      "}\n",
      "```\n"
     ]
    },
    {
     "name": "stderr",
     "output_type": "stream",
     "text": [
      "Processing Batch:  35%|█████████████████████▋                                        | 7/20 [01:00<01:48,  8.35s/image]"
     ]
    },
    {
     "name": "stdout",
     "output_type": "stream",
     "text": [
      "Processing image http://www.loc.gov/item/2019698895/...\n"
     ]
    },
    {
     "name": "stderr",
     "output_type": "stream",
     "text": [
      "Processing Batch:  35%|█████████████████████▋                                        | 7/20 [01:01<01:48,  8.35s/image]"
     ]
    },
    {
     "name": "stdout",
     "output_type": "stream",
     "text": [
      "Result: {\n",
      "  \"id\": \"http://www.loc.gov/item/2019698895/\",\n",
      "  \"city\": \"Beirut\",\n",
      "  \"landmarks\": [\"American University\"]\n",
      "}\n"
     ]
    },
    {
     "name": "stderr",
     "output_type": "stream",
     "text": [
      "Processing Batch:  40%|████████████████████████▊                                     | 8/20 [01:08<01:40,  8.37s/image]"
     ]
    },
    {
     "name": "stdout",
     "output_type": "stream",
     "text": [
      "Processing image http://www.loc.gov/item/2019696549/...\n"
     ]
    },
    {
     "name": "stderr",
     "output_type": "stream",
     "text": [
      "Processing Batch:  40%|████████████████████████▊                                     | 8/20 [01:10<01:40,  8.37s/image]"
     ]
    },
    {
     "name": "stdout",
     "output_type": "stream",
     "text": [
      "Result: {\n",
      "  \"id\": \"http://www.loc.gov/item/2019696549/\",\n",
      "  \"city\": \"Jerusalem\",\n",
      "  \"landmarks\": [\"Mount Scopus\"]\n",
      "}\n"
     ]
    },
    {
     "name": "stderr",
     "output_type": "stream",
     "text": [
      "Processing Batch:  45%|███████████████████████████▉                                  | 9/20 [01:20<01:32,  8.45s/image]"
     ]
    },
    {
     "name": "stdout",
     "output_type": "stream",
     "text": [
      "Processing image http://www.loc.gov/item/2006686285/...\n"
     ]
    },
    {
     "name": "stderr",
     "output_type": "stream",
     "text": [
      "Processing Batch:  45%|███████████████████████████▉                                  | 9/20 [01:21<01:32,  8.45s/image]"
     ]
    },
    {
     "name": "stdout",
     "output_type": "stream",
     "text": [
      "Result: {\n",
      "  \"id\": \"http://www.loc.gov/item/2006686285/\",\n",
      "  \"city\": \"Jerusalem\",\n",
      "  \"landmarks\": [\"Unknown\"]\n",
      "}\n"
     ]
    },
    {
     "name": "stderr",
     "output_type": "stream",
     "text": [
      "Processing Batch:  50%|██████████████████████████████▌                              | 10/20 [01:28<01:34,  9.40s/image]"
     ]
    },
    {
     "name": "stdout",
     "output_type": "stream",
     "text": [
      "Processing image http://www.loc.gov/item/2019713028/...\n"
     ]
    },
    {
     "name": "stderr",
     "output_type": "stream",
     "text": [
      "Processing Batch:  50%|██████████████████████████████▌                              | 10/20 [01:30<01:34,  9.40s/image]"
     ]
    },
    {
     "name": "stdout",
     "output_type": "stream",
     "text": [
      "Result: ```json\n",
      "{\n",
      "  \"id\": \"http://www.loc.gov/item/2019713028/\",\n",
      "  \"city\": \"Jerusalem\",\n",
      "  \"landmarks\": [\"The Old City\", \"Damascus Gate\", \"Governorate\"]\n",
      "}\n",
      "```\n"
     ]
    },
    {
     "name": "stderr",
     "output_type": "stream",
     "text": [
      "Processing Batch:  55%|█████████████████████████████████▌                           | 11/20 [01:38<01:22,  9.14s/image]"
     ]
    },
    {
     "name": "stdout",
     "output_type": "stream",
     "text": [
      "Processing image http://www.loc.gov/item/2019706007/...\n"
     ]
    },
    {
     "name": "stderr",
     "output_type": "stream",
     "text": [
      "Processing Batch:  55%|█████████████████████████████████▌                           | 11/20 [01:40<01:22,  9.14s/image]"
     ]
    },
    {
     "name": "stdout",
     "output_type": "stream",
     "text": [
      "Result: ```json\n",
      "{\n",
      "  \"id\": \"http://www.loc.gov/item/2019706007/\",\n",
      "  \"city\": \"Geva\",\n",
      "  \"landmarks\": [\"The Keren Hayesod\", \"Agricultural Colonies on Plain of Esdraelon\", \"Homes and chicken yards\"]\n",
      "}\n",
      "```\n"
     ]
    },
    {
     "name": "stderr",
     "output_type": "stream",
     "text": [
      "Processing Batch:  60%|████████████████████████████████████▌                        | 12/20 [01:47<01:15,  9.40s/image]"
     ]
    },
    {
     "name": "stdout",
     "output_type": "stream",
     "text": [
      "Processing image http://www.loc.gov/item/2019710082/...\n"
     ]
    },
    {
     "name": "stderr",
     "output_type": "stream",
     "text": [
      "Processing Batch:  60%|████████████████████████████████████▌                        | 12/20 [01:48<01:15,  9.40s/image]"
     ]
    },
    {
     "name": "stdout",
     "output_type": "stream",
     "text": [
      "Result: {\n",
      "  \"id\": \"http://www.loc.gov/item/2019710082/\",\n",
      "  \"city\": \"Tel Aviv\",\n",
      "  \"landmarks\": [\"Unknown\"]\n",
      "}\n"
     ]
    },
    {
     "name": "stderr",
     "output_type": "stream",
     "text": [
      "Processing Batch:  65%|███████████████████████████████████████▋                     | 13/20 [01:55<01:03,  9.03s/image]"
     ]
    },
    {
     "name": "stdout",
     "output_type": "stream",
     "text": [
      "Processing image http://www.loc.gov/item/2023681976/...\n"
     ]
    },
    {
     "name": "stderr",
     "output_type": "stream",
     "text": [
      "Processing Batch:  65%|███████████████████████████████████████▋                     | 13/20 [01:57<01:03,  9.03s/image]"
     ]
    },
    {
     "name": "stdout",
     "output_type": "stream",
     "text": [
      "Result: {\n",
      "  \"id\": \"http://www.loc.gov/item/2023681976/\",\n",
      "  \"city\": \"Jerusalem\",\n",
      "  \"landmarks\": [\"Apartment hotel (Residential hotel)\", \"Hebrew University\"]\n",
      "}\n"
     ]
    },
    {
     "name": "stderr",
     "output_type": "stream",
     "text": [
      "Processing Batch:  70%|██████████████████████████████████████████▋                  | 14/20 [02:03<00:53,  8.92s/image]"
     ]
    },
    {
     "name": "stdout",
     "output_type": "stream",
     "text": [
      "Processing image http://www.loc.gov/item/2006675890/...\n"
     ]
    },
    {
     "name": "stderr",
     "output_type": "stream",
     "text": [
      "Processing Batch:  70%|██████████████████████████████████████████▋                  | 14/20 [02:05<00:53,  8.92s/image]"
     ]
    },
    {
     "name": "stdout",
     "output_type": "stream",
     "text": [
      "Result: {\n",
      "  \"id\": \"http://www.loc.gov/item/2006675890/\",\n",
      "  \"city\": \"Jerusalem\",\n",
      "  \"landmarks\": [\"Church of the Holy Sepulchre\"]\n",
      "}\n"
     ]
    },
    {
     "name": "stderr",
     "output_type": "stream",
     "text": [
      "Processing Batch:  75%|█████████████████████████████████████████████▊               | 15/20 [02:11<00:43,  8.61s/image]"
     ]
    },
    {
     "name": "stdout",
     "output_type": "stream",
     "text": [
      "Processing image http://www.loc.gov/item/2019711778/...\n"
     ]
    },
    {
     "name": "stderr",
     "output_type": "stream",
     "text": [
      "Processing Batch:  75%|█████████████████████████████████████████████▊               | 15/20 [02:13<00:43,  8.61s/image]"
     ]
    },
    {
     "name": "stdout",
     "output_type": "stream",
     "text": [
      "Result: {\n",
      "  \"id\": \"http://www.loc.gov/item/2019711778/\",\n",
      "  \"city\": \"Jerusalem\",\n",
      "  \"landmarks\": [\"Holy Sepulchre\"]\n",
      "}\n"
     ]
    },
    {
     "name": "stderr",
     "output_type": "stream",
     "text": [
      "Processing Batch:  80%|████████████████████████████████████████████████▊            | 16/20 [02:19<00:33,  8.45s/image]"
     ]
    },
    {
     "name": "stdout",
     "output_type": "stream",
     "text": [
      "Processing image http://www.loc.gov/item/2019694162/...\n"
     ]
    },
    {
     "name": "stderr",
     "output_type": "stream",
     "text": [
      "Processing Batch:  80%|████████████████████████████████████████████████▊            | 16/20 [02:21<00:33,  8.45s/image]"
     ]
    },
    {
     "name": "stdout",
     "output_type": "stream",
     "text": [
      "Result: {\n",
      "  \"id\": \"http://www.loc.gov/item/2019694162/\",\n",
      "  \"city\": \"Unknown\",\n",
      "  \"landmarks\": [\"Sphinx\", \"Pyramids\", \"Temple\"]\n",
      "}\n"
     ]
    },
    {
     "name": "stderr",
     "output_type": "stream",
     "text": [
      "Processing Batch:  85%|███████████████████████████████████████████████████▊         | 17/20 [02:28<00:25,  8.42s/image]"
     ]
    },
    {
     "name": "stdout",
     "output_type": "stream",
     "text": [
      "Processing image http://www.loc.gov/item/2019702474/...\n"
     ]
    },
    {
     "name": "stderr",
     "output_type": "stream",
     "text": [
      "Processing Batch:  85%|███████████████████████████████████████████████████▊         | 17/20 [02:29<00:25,  8.42s/image]"
     ]
    },
    {
     "name": "stdout",
     "output_type": "stream",
     "text": [
      "Result: {\n",
      "  \"id\": \"2019702474\",\n",
      "  \"city\": \"Jerusalem\",\n",
      "  \"landmarks\": [\"Anna Spafford baby home\"]\n",
      "}\n"
     ]
    },
    {
     "name": "stderr",
     "output_type": "stream",
     "text": [
      "Processing Batch:  90%|██████████████████████████████████████████████████████▉      | 18/20 [02:36<00:16,  8.30s/image]"
     ]
    },
    {
     "name": "stdout",
     "output_type": "stream",
     "text": [
      "Processing image http://www.loc.gov/item/2019697433/...\n"
     ]
    },
    {
     "name": "stderr",
     "output_type": "stream",
     "text": [
      "Processing Batch:  90%|██████████████████████████████████████████████████████▉      | 18/20 [02:38<00:16,  8.30s/image]"
     ]
    },
    {
     "name": "stdout",
     "output_type": "stream",
     "text": [
      "Result: {\n",
      "  \"id\": \"http://www.loc.gov/item/2019697433/\",\n",
      "  \"city\": \"Jerusalem\",\n",
      "  \"landmarks\": [\"Unknown\"]\n",
      "}\n"
     ]
    },
    {
     "name": "stderr",
     "output_type": "stream",
     "text": [
      "Processing Batch:  95%|█████████████████████████████████████████████████████████▉   | 19/20 [02:44<00:08,  8.43s/image]"
     ]
    },
    {
     "name": "stdout",
     "output_type": "stream",
     "text": [
      "Processing image http://www.loc.gov/item/2019697722/...\n"
     ]
    },
    {
     "name": "stderr",
     "output_type": "stream",
     "text": [
      "Processing Batch:  95%|█████████████████████████████████████████████████████████▉   | 19/20 [02:46<00:08,  8.43s/image]"
     ]
    },
    {
     "name": "stdout",
     "output_type": "stream",
     "text": [
      "Result: {\n",
      "  \"id\": \"http://www.loc.gov/item/2019697722/\",\n",
      "  \"city\": \"Jerusalem\",\n",
      "  \"landmarks\": [\"Municipal Hospital\"]\n",
      "}\n"
     ]
    },
    {
     "name": "stderr",
     "output_type": "stream",
     "text": [
      "Processing Batch: 100%|█████████████████████████████████████████████████████████████| 20/20 [02:51<00:00,  8.55s/image]\n"
     ]
    },
    {
     "name": "stdout",
     "output_type": "stream",
     "text": [
      "Completed a batch. Pausing for 15 minutes before starting the next batch.\n"
     ]
    },
    {
     "name": "stderr",
     "output_type": "stream",
     "text": [
      "Processing Batch:   0%|                                                                      | 0/20 [00:03<?, ?image/s]"
     ]
    },
    {
     "name": "stdout",
     "output_type": "stream",
     "text": [
      "Processing image http://www.loc.gov/item/2019709143/...\n"
     ]
    },
    {
     "name": "stderr",
     "output_type": "stream",
     "text": [
      "Processing Batch:   0%|                                                                      | 0/20 [00:05<?, ?image/s]"
     ]
    },
    {
     "name": "stdout",
     "output_type": "stream",
     "text": [
      "Result: ```json\n",
      "{\n",
      "  \"id\": \"http://www.loc.gov/item/2019709143/\",\n",
      "  \"city\": \"Tel Aviv\",\n",
      "  \"landmarks\": [\"Unknown\"]\n",
      "}\n",
      "```\n"
     ]
    },
    {
     "name": "stderr",
     "output_type": "stream",
     "text": [
      "Processing Batch:   5%|███                                                           | 1/20 [00:12<03:12, 10.15s/image]"
     ]
    },
    {
     "name": "stdout",
     "output_type": "stream",
     "text": [
      "Processing image http://www.loc.gov/item/2019713120/...\n"
     ]
    },
    {
     "name": "stderr",
     "output_type": "stream",
     "text": [
      "Processing Batch:   5%|███                                                           | 1/20 [00:13<03:12, 10.15s/image]"
     ]
    },
    {
     "name": "stdout",
     "output_type": "stream",
     "text": [
      "Result: {\n",
      "  \"id\": \"http://www.loc.gov/item/2019713120/\",\n",
      "  \"city\": \"Unknown\",\n",
      "  \"landmarks\": [\"Al-Qubaybah (al-Qubeibah)\"]\n",
      "}\n"
     ]
    },
    {
     "name": "stderr",
     "output_type": "stream",
     "text": [
      "Processing Batch:  10%|██████▏                                                       | 2/20 [00:20<02:48,  9.39s/image]"
     ]
    },
    {
     "name": "stdout",
     "output_type": "stream",
     "text": [
      "Processing image http://www.loc.gov/item/2019703357/...\n"
     ]
    },
    {
     "name": "stderr",
     "output_type": "stream",
     "text": [
      "Processing Batch:  10%|██████▏                                                       | 2/20 [00:21<02:48,  9.39s/image]"
     ]
    },
    {
     "name": "stdout",
     "output_type": "stream",
     "text": [
      "Result: {\n",
      "  \"id\": \"http://www.loc.gov/item/2019703357/\",\n",
      "  \"city\": \"Unknown\",\n",
      "  \"landmarks\": [\"Unknown\"]\n",
      "}\n"
     ]
    },
    {
     "name": "stderr",
     "output_type": "stream",
     "text": [
      "Processing Batch:  15%|█████████▎                                                    | 3/20 [00:28<02:27,  8.66s/image]"
     ]
    },
    {
     "name": "stdout",
     "output_type": "stream",
     "text": [
      "Processing image http://www.loc.gov/item/2019694298/...\n"
     ]
    },
    {
     "name": "stderr",
     "output_type": "stream",
     "text": [
      "Processing Batch:  15%|█████████▎                                                    | 3/20 [00:29<02:27,  8.66s/image]"
     ]
    },
    {
     "name": "stdout",
     "output_type": "stream",
     "text": [
      "Result: {\n",
      "  \"id\": \"http://www.loc.gov/item/2019694298/\",\n",
      "  \"city\": \"Caesarea\",\n",
      "  \"landmarks\": [\"Roman aqueduct\"]\n",
      "}\n"
     ]
    },
    {
     "name": "stderr",
     "output_type": "stream",
     "text": [
      "Processing Batch:  20%|████████████▍                                                 | 4/20 [00:36<02:12,  8.29s/image]"
     ]
    },
    {
     "name": "stdout",
     "output_type": "stream",
     "text": [
      "Processing image http://www.loc.gov/item/2019692641/...\n"
     ]
    },
    {
     "name": "stderr",
     "output_type": "stream",
     "text": [
      "Processing Batch:  20%|████████████▍                                                 | 4/20 [00:38<02:12,  8.29s/image]"
     ]
    },
    {
     "name": "stdout",
     "output_type": "stream",
     "text": [
      "Result: ```json\n",
      "{\n",
      "  \"id\": \"http://www.loc.gov/item/2019692641/\",\n",
      "  \"city\": \"Damascus\",\n",
      "  \"landmarks\": [\"Old Damascus\"]\n",
      "}\n",
      "```\n"
     ]
    },
    {
     "name": "stderr",
     "output_type": "stream",
     "text": [
      "Processing Batch:  25%|███████████████▌                                              | 5/20 [00:45<02:06,  8.42s/image]"
     ]
    },
    {
     "name": "stdout",
     "output_type": "stream",
     "text": [
      "Processing image http://www.loc.gov/item/2019694669/...\n"
     ]
    },
    {
     "name": "stderr",
     "output_type": "stream",
     "text": [
      "Processing Batch:  25%|███████████████▌                                              | 5/20 [00:47<02:06,  8.42s/image]"
     ]
    },
    {
     "name": "stdout",
     "output_type": "stream",
     "text": [
      "Result: {\n",
      "  \"id\": \"http://www.loc.gov/item/2019694669/\",\n",
      "  \"city\": \"Jerusalem\",\n",
      "  \"landmarks\": [\"The Greek patriarch\"]\n",
      "}\n"
     ]
    },
    {
     "name": "stderr",
     "output_type": "stream",
     "text": [
      "Processing Batch:  30%|██████████████████▌                                           | 6/20 [00:54<02:00,  8.60s/image]"
     ]
    },
    {
     "name": "stdout",
     "output_type": "stream",
     "text": [
      "Processing image http://www.loc.gov/item/2019709114/...\n"
     ]
    },
    {
     "name": "stderr",
     "output_type": "stream",
     "text": [
      "Processing Batch:  30%|██████████████████▌                                           | 6/20 [00:55<02:00,  8.60s/image]"
     ]
    },
    {
     "name": "stdout",
     "output_type": "stream",
     "text": [
      "Result: {\n",
      "  \"id\": \"http://www.loc.gov/item/2019709114/\",\n",
      "  \"city\": \"Jerusalem\",\n",
      "  \"landmarks\": [\"King George Avenue\"]\n",
      "}\n"
     ]
    },
    {
     "name": "stderr",
     "output_type": "stream",
     "text": [
      "Processing Batch:  35%|█████████████████████▋                                        | 7/20 [01:03<01:50,  8.53s/image]"
     ]
    },
    {
     "name": "stdout",
     "output_type": "stream",
     "text": [
      "Processing image http://www.loc.gov/item/2019704649/...\n"
     ]
    },
    {
     "name": "stderr",
     "output_type": "stream",
     "text": [
      "Processing Batch:  35%|█████████████████████▋                                        | 7/20 [01:05<01:50,  8.53s/image]"
     ]
    },
    {
     "name": "stdout",
     "output_type": "stream",
     "text": [
      "Result: {\n",
      "  \"id\": \"http://www.loc.gov/item/2019704649/\",\n",
      "  \"city\": \"Unknown\",\n",
      "  \"landmarks\": [\"Unknown\"]\n",
      "}\n"
     ]
    },
    {
     "name": "stderr",
     "output_type": "stream",
     "text": [
      "Processing Batch:  40%|████████████████████████▊                                     | 8/20 [01:12<01:47,  8.93s/image]"
     ]
    },
    {
     "name": "stdout",
     "output_type": "stream",
     "text": [
      "Processing image http://www.loc.gov/item/2019699936/...\n"
     ]
    },
    {
     "name": "stderr",
     "output_type": "stream",
     "text": [
      "Processing Batch:  40%|████████████████████████▊                                     | 8/20 [01:14<01:47,  8.93s/image]"
     ]
    },
    {
     "name": "stdout",
     "output_type": "stream",
     "text": [
      "Result: {\n",
      "  \"id\": \"http://www.loc.gov/item/2019699936/\",\n",
      "  \"city\": \"Jerusalem\",\n",
      "  \"landmarks\": [\"Y.M.C.A.\" ]\n",
      "}\n"
     ]
    },
    {
     "name": "stderr",
     "output_type": "stream",
     "text": [
      "Processing Batch:  45%|███████████████████████████▉                                  | 9/20 [01:22<01:37,  8.88s/image]"
     ]
    },
    {
     "name": "stdout",
     "output_type": "stream",
     "text": [
      "Processing image http://www.loc.gov/item/2019710830/...\n"
     ]
    },
    {
     "name": "stderr",
     "output_type": "stream",
     "text": [
      "Processing Batch:  45%|███████████████████████████▉                                  | 9/20 [01:23<01:37,  8.88s/image]"
     ]
    },
    {
     "name": "stdout",
     "output_type": "stream",
     "text": [
      "Result: {\n",
      "  \"id\": \"http://www.loc.gov/item/2019710830/\",\n",
      "  \"city\": \"Beersheba\",\n",
      "  \"landmarks\": [\"Unknown\"]\n",
      "}\n"
     ]
    },
    {
     "name": "stderr",
     "output_type": "stream",
     "text": [
      "Processing Batch:  50%|██████████████████████████████▌                              | 10/20 [01:30<01:30,  9.05s/image]"
     ]
    },
    {
     "name": "stdout",
     "output_type": "stream",
     "text": [
      "Processing image http://www.loc.gov/item/2019692639/...\n"
     ]
    },
    {
     "name": "stderr",
     "output_type": "stream",
     "text": [
      "Processing Batch:  50%|██████████████████████████████▌                              | 10/20 [01:31<01:30,  9.05s/image]"
     ]
    },
    {
     "name": "stdout",
     "output_type": "stream",
     "text": [
      "Result: ```json\n",
      "{\n",
      "  \"id\": \"2019692639\",\n",
      "  \"city\": \"Damascus\",\n",
      "  \"landmarks\": [\"Esh-Sham Oriental Bazaar\"]\n",
      "}\n",
      "```\n"
     ]
    },
    {
     "name": "stderr",
     "output_type": "stream",
     "text": [
      "Processing Batch:  55%|█████████████████████████████████▌                           | 11/20 [01:37<01:17,  8.65s/image]"
     ]
    },
    {
     "name": "stdout",
     "output_type": "stream",
     "text": [
      "Processing image http://www.loc.gov/item/2019705596/...\n"
     ]
    },
    {
     "name": "stderr",
     "output_type": "stream",
     "text": [
      "Processing Batch:  55%|█████████████████████████████████▌                           | 11/20 [01:39<01:17,  8.65s/image]"
     ]
    },
    {
     "name": "stdout",
     "output_type": "stream",
     "text": [
      "Result: {\n",
      "  \"id\": \"http://www.loc.gov/item/2019705596/\",\n",
      "  \"city\": \"Jerusalem\",\n",
      "  \"landmarks\": [\"Ahab's Well, Jezreel\"]\n",
      "}\n"
     ]
    },
    {
     "name": "stderr",
     "output_type": "stream",
     "text": [
      "Processing Batch:  60%|████████████████████████████████████▌                        | 12/20 [01:46<01:07,  8.42s/image]"
     ]
    },
    {
     "name": "stdout",
     "output_type": "stream",
     "text": [
      "Processing image http://www.loc.gov/item/2019701771/...\n"
     ]
    },
    {
     "name": "stderr",
     "output_type": "stream",
     "text": [
      "Processing Batch:  60%|████████████████████████████████████▌                        | 12/20 [01:47<01:07,  8.42s/image]"
     ]
    },
    {
     "name": "stdout",
     "output_type": "stream",
     "text": [
      "Result: ```json\n",
      "{\n",
      "  \"id\": \"http://www.loc.gov/item/2019701771/\",\n",
      "  \"city\": \"Unknown\",\n",
      "  \"landmarks\": [\"Unknown\"]\n",
      "}\n",
      "```\n"
     ]
    },
    {
     "name": "stderr",
     "output_type": "stream",
     "text": [
      "Processing Batch:  65%|███████████████████████████████████████▋                     | 13/20 [01:54<00:58,  8.41s/image]"
     ]
    },
    {
     "name": "stdout",
     "output_type": "stream",
     "text": [
      "Processing image http://www.loc.gov/item/2019692500/...\n"
     ]
    },
    {
     "name": "stderr",
     "output_type": "stream",
     "text": [
      "Processing Batch:  65%|███████████████████████████████████████▋                     | 13/20 [01:55<00:58,  8.41s/image]"
     ]
    },
    {
     "name": "stdout",
     "output_type": "stream",
     "text": [
      "Result: {\n",
      "  \"id\": \"2019692500\",\n",
      "  \"city\": \"Jerusalem\",\n",
      "  \"landmarks\": [\"St. George's Convent\"]\n",
      "}\n"
     ]
    },
    {
     "name": "stderr",
     "output_type": "stream",
     "text": [
      "Processing Batch:  70%|██████████████████████████████████████████▋                  | 14/20 [02:02<00:50,  8.41s/image]"
     ]
    },
    {
     "name": "stdout",
     "output_type": "stream",
     "text": [
      "Processing image http://www.loc.gov/item/2019709213/...\n"
     ]
    },
    {
     "name": "stderr",
     "output_type": "stream",
     "text": [
      "Processing Batch:  70%|██████████████████████████████████████████▋                  | 14/20 [02:03<00:50,  8.41s/image]"
     ]
    },
    {
     "name": "stdout",
     "output_type": "stream",
     "text": [
      "Result: {\n",
      "  \"id\": \"http://www.loc.gov/item/2019709213/\",\n",
      "  \"city\": \"Jerusalem\",\n",
      "  \"landmarks\": [\"Iranian Consulate\"]\n",
      "}\n"
     ]
    },
    {
     "name": "stderr",
     "output_type": "stream",
     "text": [
      "Processing Batch:  75%|█████████████████████████████████████████████▊               | 15/20 [02:10<00:40,  8.18s/image]"
     ]
    },
    {
     "name": "stdout",
     "output_type": "stream",
     "text": [
      "Processing image http://www.loc.gov/item/2019709115/...\n"
     ]
    },
    {
     "name": "stderr",
     "output_type": "stream",
     "text": [
      "Processing Batch:  75%|█████████████████████████████████████████████▊               | 15/20 [02:11<00:40,  8.18s/image]"
     ]
    },
    {
     "name": "stdout",
     "output_type": "stream",
     "text": [
      "Result: ```json\n",
      "{\n",
      "  \"id\": \"http://www.loc.gov/item/2019709115/\",\n",
      "  \"city\": \"Jerusalem\",\n",
      "  \"landmarks\": [\"Yeshurun Synagogue\"]\n",
      "}\n",
      "```\n"
     ]
    },
    {
     "name": "stderr",
     "output_type": "stream",
     "text": [
      "Processing Batch:  80%|████████████████████████████████████████████████▊            | 16/20 [02:18<00:32,  8.11s/image]"
     ]
    },
    {
     "name": "stdout",
     "output_type": "stream",
     "text": [
      "Processing image http://www.loc.gov/item/2019706305/...\n"
     ]
    },
    {
     "name": "stderr",
     "output_type": "stream",
     "text": [
      "Processing Batch:  80%|████████████████████████████████████████████████▊            | 16/20 [02:20<00:32,  8.11s/image]"
     ]
    },
    {
     "name": "stdout",
     "output_type": "stream",
     "text": [
      "Result: ```json\n",
      "{\n",
      "  \"id\": \"http://www.loc.gov/item/2019706305/\",\n",
      "  \"city\": \"Unknown\",\n",
      "  \"landmarks\": [\"Beersheba\"]\n",
      "}\n",
      "```\n"
     ]
    },
    {
     "name": "stderr",
     "output_type": "stream",
     "text": [
      "Processing Batch:  85%|███████████████████████████████████████████████████▊         | 17/20 [02:27<00:24,  8.23s/image]"
     ]
    },
    {
     "name": "stdout",
     "output_type": "stream",
     "text": [
      "Processing image http://www.loc.gov/item/2019707678/...\n"
     ]
    },
    {
     "name": "stderr",
     "output_type": "stream",
     "text": [
      "Processing Batch:  85%|███████████████████████████████████████████████████▊         | 17/20 [02:28<00:24,  8.23s/image]"
     ]
    },
    {
     "name": "stdout",
     "output_type": "stream",
     "text": [
      "Result: {\n",
      "  \"id\": \"http://www.loc.gov/item/2019707678/\",\n",
      "  \"city\": \"Unknown\",\n",
      "  \"landmarks\": [\"Caesarea\"]\n",
      "}\n"
     ]
    },
    {
     "name": "stderr",
     "output_type": "stream",
     "text": [
      "Processing Batch:  90%|██████████████████████████████████████████████████████▉      | 18/20 [02:34<00:16,  8.23s/image]"
     ]
    },
    {
     "name": "stdout",
     "output_type": "stream",
     "text": [
      "Processing image http://www.loc.gov/item/2019706916/...\n"
     ]
    },
    {
     "name": "stderr",
     "output_type": "stream",
     "text": [
      "Processing Batch:  90%|██████████████████████████████████████████████████████▉      | 18/20 [02:35<00:16,  8.23s/image]"
     ]
    },
    {
     "name": "stdout",
     "output_type": "stream",
     "text": [
      "Result: {\n",
      "  \"id\": \"2019706916\",\n",
      "  \"city\": \"Unknown\",\n",
      "  \"landmarks\": [\"Jewish shrine to the prophet Ezekiel\"]\n",
      "}\n"
     ]
    },
    {
     "name": "stderr",
     "output_type": "stream",
     "text": [
      "Processing Batch:  95%|█████████████████████████████████████████████████████████▉   | 19/20 [02:43<00:08,  8.06s/image]"
     ]
    },
    {
     "name": "stdout",
     "output_type": "stream",
     "text": [
      "Processing image http://www.loc.gov/item/2019712373/...\n"
     ]
    },
    {
     "name": "stderr",
     "output_type": "stream",
     "text": [
      "Processing Batch:  95%|█████████████████████████████████████████████████████████▉   | 19/20 [02:44<00:08,  8.06s/image]"
     ]
    },
    {
     "name": "stdout",
     "output_type": "stream",
     "text": [
      "Result: {\n",
      "  \"id\": \"http://www.loc.gov/item/2019712373/\",\n",
      "  \"city\": \"Jerusalem\",\n",
      "  \"landmarks\": [\"Barclays Bank\"]\n",
      "}\n"
     ]
    },
    {
     "name": "stderr",
     "output_type": "stream",
     "text": [
      "Processing Batch: 100%|█████████████████████████████████████████████████████████████| 20/20 [02:49<00:00,  8.48s/image]\n"
     ]
    },
    {
     "name": "stdout",
     "output_type": "stream",
     "text": [
      "Completed a batch. Pausing for 15 minutes before starting the next batch.\n"
     ]
    },
    {
     "name": "stderr",
     "output_type": "stream",
     "text": [
      "Processing Batch:   0%|                                                                      | 0/20 [00:02<?, ?image/s]"
     ]
    },
    {
     "name": "stdout",
     "output_type": "stream",
     "text": [
      "Processing image http://www.loc.gov/item/2019696318/...\n"
     ]
    },
    {
     "name": "stderr",
     "output_type": "stream",
     "text": [
      "Processing Batch:   0%|                                                                      | 0/20 [00:03<?, ?image/s]"
     ]
    },
    {
     "name": "stdout",
     "output_type": "stream",
     "text": [
      "Result: {\n",
      "  \"id\": \"2019696318\",\n",
      "  \"city\": \"Hebron\",\n",
      "  \"landmarks\": [\"Machpelah\"]\n",
      "}\n"
     ]
    },
    {
     "name": "stderr",
     "output_type": "stream",
     "text": [
      "Processing Batch:   5%|███                                                           | 1/20 [00:09<02:36,  8.25s/image]"
     ]
    },
    {
     "name": "stdout",
     "output_type": "stream",
     "text": [
      "Processing image http://www.loc.gov/item/2019691868/...\n"
     ]
    },
    {
     "name": "stderr",
     "output_type": "stream",
     "text": [
      "Processing Batch:   5%|███                                                           | 1/20 [00:10<02:36,  8.25s/image]"
     ]
    },
    {
     "name": "stdout",
     "output_type": "stream",
     "text": [
      "Result: {\n",
      "  \"id\": \"http://www.loc.gov/item/2019691868/\",\n",
      "  \"city\": \"Unknown\",\n",
      "  \"landmarks\": [\"Unknown\"]\n",
      "}\n"
     ]
    },
    {
     "name": "stderr",
     "output_type": "stream",
     "text": [
      "Processing Batch:  10%|██████▏                                                       | 2/20 [00:18<02:21,  7.86s/image]"
     ]
    },
    {
     "name": "stdout",
     "output_type": "stream",
     "text": [
      "Processing image http://www.loc.gov/item/2019697552/...\n"
     ]
    },
    {
     "name": "stderr",
     "output_type": "stream",
     "text": [
      "Processing Batch:  10%|██████▏                                                       | 2/20 [00:19<02:21,  7.86s/image]"
     ]
    },
    {
     "name": "stdout",
     "output_type": "stream",
     "text": [
      "Result: {\n",
      "  \"id\": \"2019697552\",\n",
      "  \"city\": \"Jerusalem\",\n",
      "  \"landmarks\": [\"Dome of the Rock\"]\n",
      "}\n"
     ]
    },
    {
     "name": "stderr",
     "output_type": "stream",
     "text": [
      "Processing Batch:  15%|█████████▎                                                    | 3/20 [00:26<02:23,  8.44s/image]"
     ]
    },
    {
     "name": "stdout",
     "output_type": "stream",
     "text": [
      "Processing image http://www.loc.gov/item/2019693605/...\n"
     ]
    },
    {
     "name": "stderr",
     "output_type": "stream",
     "text": [
      "Processing Batch:  15%|█████████▎                                                    | 3/20 [00:29<02:23,  8.44s/image]"
     ]
    },
    {
     "name": "stdout",
     "output_type": "stream",
     "text": [
      "Result: {\n",
      "  \"id\": \"http://www.loc.gov/item/2019693605/\",\n",
      "  \"city\": \"Unknown\",\n",
      "  \"landmarks\": [\"Temple of Baal\", \"Justinian's Byzantine wall\"]\n",
      "}\n"
     ]
    },
    {
     "name": "stderr",
     "output_type": "stream",
     "text": [
      "Processing Batch:  20%|████████████▍                                                 | 4/20 [00:36<02:20,  8.79s/image]"
     ]
    },
    {
     "name": "stdout",
     "output_type": "stream",
     "text": [
      "Processing image http://www.loc.gov/item/2019695130/...\n"
     ]
    },
    {
     "name": "stderr",
     "output_type": "stream",
     "text": [
      "Processing Batch:  20%|████████████▍                                                 | 4/20 [00:38<02:20,  8.79s/image]"
     ]
    },
    {
     "name": "stdout",
     "output_type": "stream",
     "text": [
      "Result: {\n",
      "  \"id\": \"http://www.loc.gov/item/2019695130/\",\n",
      "  \"city\": \"Amman\",\n",
      "  \"landmarks\": [\"Unknown\"]\n",
      "}\n"
     ]
    },
    {
     "name": "stderr",
     "output_type": "stream",
     "text": [
      "Processing Batch:  25%|███████████████▌                                              | 5/20 [00:45<02:11,  8.78s/image]"
     ]
    },
    {
     "name": "stdout",
     "output_type": "stream",
     "text": [
      "Processing image http://www.loc.gov/item/2019695779/...\n"
     ]
    },
    {
     "name": "stderr",
     "output_type": "stream",
     "text": [
      "Processing Batch:  25%|███████████████▌                                              | 5/20 [00:46<02:11,  8.78s/image]"
     ]
    },
    {
     "name": "stdout",
     "output_type": "stream",
     "text": [
      "Result: {\n",
      "  \"id\": \"http://www.loc.gov/item/2019695779/\",\n",
      "  \"city\": \"Unknown\",\n",
      "  \"landmarks\": [\"Unknown\"]\n",
      "}\n"
     ]
    },
    {
     "name": "stderr",
     "output_type": "stream",
     "text": [
      "Processing Batch:  30%|██████████████████▌                                           | 6/20 [00:53<02:00,  8.62s/image]"
     ]
    },
    {
     "name": "stdout",
     "output_type": "stream",
     "text": [
      "Processing image http://www.loc.gov/item/2019695347/...\n"
     ]
    },
    {
     "name": "stderr",
     "output_type": "stream",
     "text": [
      "Processing Batch:  30%|██████████████████▌                                           | 6/20 [00:54<02:00,  8.62s/image]"
     ]
    },
    {
     "name": "stdout",
     "output_type": "stream",
     "text": [
      "Result: {\n",
      "  \"id\": \"http://www.loc.gov/item/2019695347/\",\n",
      "  \"city\": \"Unknown\",\n",
      "  \"landmarks\": [\"Unknown\"]\n",
      "}\n"
     ]
    },
    {
     "name": "stderr",
     "output_type": "stream",
     "text": [
      "Processing Batch:  35%|█████████████████████▋                                        | 7/20 [01:01<01:49,  8.46s/image]"
     ]
    },
    {
     "name": "stdout",
     "output_type": "stream",
     "text": [
      "Processing image http://www.loc.gov/item/2019712928/...\n"
     ]
    },
    {
     "name": "stderr",
     "output_type": "stream",
     "text": [
      "Processing Batch:  35%|█████████████████████▋                                        | 7/20 [01:03<01:49,  8.46s/image]"
     ]
    },
    {
     "name": "stdout",
     "output_type": "stream",
     "text": [
      "Result: {\n",
      "  \"id\": \"http://www.loc.gov/item/2019712928/\",\n",
      "  \"city\": \"Jerusalem\",\n",
      "  \"landmarks\": [\"Good Samaritan's Inn\"]\n",
      "}\n"
     ]
    },
    {
     "name": "stderr",
     "output_type": "stream",
     "text": [
      "Processing Batch:  40%|████████████████████████▊                                     | 8/20 [01:09<01:41,  8.48s/image]"
     ]
    },
    {
     "name": "stdout",
     "output_type": "stream",
     "text": [
      "Processing image http://www.loc.gov/item/2019701717/...\n"
     ]
    },
    {
     "name": "stderr",
     "output_type": "stream",
     "text": [
      "Processing Batch:  40%|████████████████████████▊                                     | 8/20 [01:11<01:41,  8.48s/image]"
     ]
    },
    {
     "name": "stdout",
     "output_type": "stream",
     "text": [
      "Result: {\n",
      "  \"id\": \"http://www.loc.gov/item/2019701717/\",\n",
      "  \"city\": \"Jerusalem\",\n",
      "  \"landmarks\": [\"Jaffa Gate\"]\n",
      "}\n"
     ]
    },
    {
     "name": "stderr",
     "output_type": "stream",
     "text": [
      "Processing Batch:  45%|███████████████████████████▉                                  | 9/20 [01:17<01:31,  8.34s/image]"
     ]
    },
    {
     "name": "stdout",
     "output_type": "stream",
     "text": [
      "Processing image http://www.loc.gov/item/2019705863/...\n"
     ]
    },
    {
     "name": "stderr",
     "output_type": "stream",
     "text": [
      "Processing Batch:  45%|███████████████████████████▉                                  | 9/20 [01:19<01:31,  8.34s/image]"
     ]
    },
    {
     "name": "stdout",
     "output_type": "stream",
     "text": [
      "Result: {\n",
      "  \"id\": \"http://www.loc.gov/item/2019705863/\",\n",
      "  \"city\": \"Bethany\",\n",
      "  \"landmarks\": [\"Ruins of House of Simon the Leper\"]\n",
      "}\n"
     ]
    },
    {
     "name": "stderr",
     "output_type": "stream",
     "text": [
      "Processing Batch:  50%|██████████████████████████████▌                              | 10/20 [01:26<01:22,  8.24s/image]"
     ]
    },
    {
     "name": "stdout",
     "output_type": "stream",
     "text": [
      "Processing image http://www.loc.gov/item/2019702999/...\n"
     ]
    },
    {
     "name": "stderr",
     "output_type": "stream",
     "text": [
      "Processing Batch:  50%|██████████████████████████████▌                              | 10/20 [01:27<01:22,  8.24s/image]"
     ]
    },
    {
     "name": "stdout",
     "output_type": "stream",
     "text": [
      "Result: {\n",
      "  \"id\": \"http://www.loc.gov/item/2019702999/\",\n",
      "  \"city\": \"Jerusalem\",\n",
      "  \"landmarks\": [\"Dome of the Rock\"]\n",
      "}\n"
     ]
    },
    {
     "name": "stderr",
     "output_type": "stream",
     "text": [
      "Processing Batch:  55%|█████████████████████████████████▌                           | 11/20 [01:34<01:14,  8.29s/image]"
     ]
    },
    {
     "name": "stdout",
     "output_type": "stream",
     "text": [
      "Processing image http://www.loc.gov/item/2019705175/...\n"
     ]
    },
    {
     "name": "stderr",
     "output_type": "stream",
     "text": [
      "Processing Batch:  55%|█████████████████████████████████▌                           | 11/20 [01:35<01:14,  8.29s/image]"
     ]
    },
    {
     "name": "stdout",
     "output_type": "stream",
     "text": [
      "Result: {\n",
      "  \"id\": \"http://www.loc.gov/item/2019705175/\",\n",
      "  \"city\": \"Jerusalem\",\n",
      "  \"landmarks\": [\"Mount of Olives\"]\n",
      "}\n"
     ]
    },
    {
     "name": "stderr",
     "output_type": "stream",
     "text": [
      "Processing Batch:  60%|████████████████████████████████████▌                        | 12/20 [01:42<01:05,  8.16s/image]"
     ]
    },
    {
     "name": "stdout",
     "output_type": "stream",
     "text": [
      "Processing image http://www.loc.gov/item/2019691766/...\n"
     ]
    },
    {
     "name": "stderr",
     "output_type": "stream",
     "text": [
      "Processing Batch:  60%|████████████████████████████████████▌                        | 12/20 [01:43<01:05,  8.16s/image]"
     ]
    },
    {
     "name": "stdout",
     "output_type": "stream",
     "text": [
      "Result: ```json\n",
      "{\n",
      "  \"id\": \"http://www.loc.gov/item/2019691766/\",\n",
      "  \"city\": \"Unknown\",\n",
      "  \"landmarks\": [\"Church of Annunciation\"]\n",
      "}\n",
      "```\n"
     ]
    },
    {
     "name": "stderr",
     "output_type": "stream",
     "text": [
      "Processing Batch:  65%|███████████████████████████████████████▋                     | 13/20 [01:51<00:57,  8.25s/image]"
     ]
    },
    {
     "name": "stdout",
     "output_type": "stream",
     "text": [
      "Processing image http://www.loc.gov/item/2019709971/...\n"
     ]
    },
    {
     "name": "stderr",
     "output_type": "stream",
     "text": [
      "Processing Batch:  65%|███████████████████████████████████████▋                     | 13/20 [01:52<00:57,  8.25s/image]"
     ]
    },
    {
     "name": "stdout",
     "output_type": "stream",
     "text": [
      "Result: {\n",
      "  \"id\": \"http://www.loc.gov/item/2019709971/\",\n",
      "  \"city\": \"Bethlehem\",\n",
      "  \"landmarks\": [\"Police barracks\", \"Post office\"]\n",
      "}\n"
     ]
    },
    {
     "name": "stderr",
     "output_type": "stream",
     "text": [
      "Processing Batch:  70%|██████████████████████████████████████████▋                  | 14/20 [02:00<00:50,  8.48s/image]"
     ]
    },
    {
     "name": "stdout",
     "output_type": "stream",
     "text": [
      "Processing image http://www.loc.gov/item/2019694358/...\n"
     ]
    },
    {
     "name": "stderr",
     "output_type": "stream",
     "text": [
      "Processing Batch:  70%|██████████████████████████████████████████▋                  | 14/20 [02:01<00:50,  8.48s/image]"
     ]
    },
    {
     "name": "stdout",
     "output_type": "stream",
     "text": [
      "Result: {\n",
      "  \"id\": \"http://www.loc.gov/item/2019694358/\",\n",
      "  \"city\": \"Unknown\",\n",
      "  \"landmarks\": [\"Caesarea Hippodrome\"]\n",
      "}\n"
     ]
    },
    {
     "name": "stderr",
     "output_type": "stream",
     "text": [
      "Processing Batch:  75%|█████████████████████████████████████████████▊               | 15/20 [02:08<00:42,  8.53s/image]"
     ]
    },
    {
     "name": "stdout",
     "output_type": "stream",
     "text": [
      "Processing image http://www.loc.gov/item/2019710536/...\n"
     ]
    },
    {
     "name": "stderr",
     "output_type": "stream",
     "text": [
      "Processing Batch:  75%|█████████████████████████████████████████████▊               | 15/20 [02:09<00:42,  8.53s/image]"
     ]
    },
    {
     "name": "stdout",
     "output_type": "stream",
     "text": [
      "Result: {\n",
      "  \"id\": \"http://www.loc.gov/item/2019710536/\",\n",
      "  \"city\": \"Rishon Le-Zion\",\n",
      "  \"landmarks\": [\"Unknown\"]\n",
      "}\n"
     ]
    },
    {
     "name": "stderr",
     "output_type": "stream",
     "text": [
      "Processing Batch:  80%|████████████████████████████████████████████████▊            | 16/20 [02:16<00:33,  8.38s/image]"
     ]
    },
    {
     "name": "stdout",
     "output_type": "stream",
     "text": [
      "Processing image http://www.loc.gov/item/2019713187/...\n"
     ]
    },
    {
     "name": "stderr",
     "output_type": "stream",
     "text": [
      "Processing Batch:  80%|████████████████████████████████████████████████▊            | 16/20 [02:18<00:33,  8.38s/image]"
     ]
    },
    {
     "name": "stdout",
     "output_type": "stream",
     "text": [
      "Result: {\n",
      "  \"id\": \"http://www.loc.gov/item/2019713187/\",\n",
      "  \"city\": \"Jerusalem\",\n",
      "  \"landmarks\": [\"New broadcasting studios on Queen Milisande's Way\"]\n",
      "}\n"
     ]
    },
    {
     "name": "stderr",
     "output_type": "stream",
     "text": [
      "Processing Batch:  85%|███████████████████████████████████████████████████▊         | 17/20 [02:24<00:25,  8.46s/image]"
     ]
    },
    {
     "name": "stdout",
     "output_type": "stream",
     "text": [
      "Processing image http://www.loc.gov/item/2019696235/...\n"
     ]
    },
    {
     "name": "stderr",
     "output_type": "stream",
     "text": [
      "Processing Batch:  85%|███████████████████████████████████████████████████▊         | 17/20 [02:26<00:25,  8.46s/image]"
     ]
    },
    {
     "name": "stdout",
     "output_type": "stream",
     "text": [
      "Result: ```json\n",
      "{\n",
      "  \"id\": \"2019696235\",\n",
      "  \"city\": \"Jerusalem\",\n",
      "  \"landmarks\": [\"Church of All Nations\", \"Church of the Agony\"]\n",
      "}\n",
      "```\n"
     ]
    },
    {
     "name": "stderr",
     "output_type": "stream",
     "text": [
      "Processing Batch:  90%|██████████████████████████████████████████████████████▉      | 18/20 [02:33<00:16,  8.29s/image]"
     ]
    },
    {
     "name": "stdout",
     "output_type": "stream",
     "text": [
      "Processing image http://www.loc.gov/item/2019702275/...\n"
     ]
    },
    {
     "name": "stderr",
     "output_type": "stream",
     "text": [
      "Processing Batch:  90%|██████████████████████████████████████████████████████▉      | 18/20 [02:34<00:16,  8.29s/image]"
     ]
    },
    {
     "name": "stdout",
     "output_type": "stream",
     "text": [
      "Result: {\n",
      "  \"id\": \"http://www.loc.gov/item/2019702275/\",\n",
      "  \"city\": \"Unknown\",\n",
      "  \"landmarks\": [\"Palmyra, Temple of Baal\"]\n",
      "}\n"
     ]
    },
    {
     "name": "stderr",
     "output_type": "stream",
     "text": [
      "Processing Batch:  95%|█████████████████████████████████████████████████████████▉   | 19/20 [02:41<00:08,  8.34s/image]"
     ]
    },
    {
     "name": "stdout",
     "output_type": "stream",
     "text": [
      "Processing image http://www.loc.gov/item/2019707058/...\n"
     ]
    },
    {
     "name": "stderr",
     "output_type": "stream",
     "text": [
      "Processing Batch:  95%|█████████████████████████████████████████████████████████▉   | 19/20 [02:42<00:08,  8.34s/image]"
     ]
    },
    {
     "name": "stdout",
     "output_type": "stream",
     "text": [
      "Result: {\n",
      "  \"id\": \"http://www.loc.gov/item/2019707058/\",\n",
      "  \"city\": \"Unknown\",\n",
      "  \"landmarks\": [\"Petra\", \"El-Habis area\", \"Sacellum on el-Habis\"]\n",
      "}\n"
     ]
    },
    {
     "name": "stderr",
     "output_type": "stream",
     "text": [
      "Processing Batch: 100%|█████████████████████████████████████████████████████████████| 20/20 [02:47<00:00,  8.37s/image]\n"
     ]
    },
    {
     "name": "stdout",
     "output_type": "stream",
     "text": [
      "Completed a batch. Pausing for 15 minutes before starting the next batch.\n"
     ]
    },
    {
     "name": "stderr",
     "output_type": "stream",
     "text": [
      "Processing Batch:   0%|                                                                      | 0/20 [00:01<?, ?image/s]"
     ]
    },
    {
     "name": "stdout",
     "output_type": "stream",
     "text": [
      "Processing image http://www.loc.gov/item/2019709882/...\n"
     ]
    },
    {
     "name": "stderr",
     "output_type": "stream",
     "text": [
      "Processing Batch:   0%|                                                                      | 0/20 [00:02<?, ?image/s]"
     ]
    },
    {
     "name": "stdout",
     "output_type": "stream",
     "text": [
      "Result: {\n",
      "  \"id\": \"http://www.loc.gov/item/2019709882/\",\n",
      "  \"city\": \"Jerusalem\",\n",
      "  \"landmarks\": [\"Unknown\"]\n",
      "}\n"
     ]
    },
    {
     "name": "stderr",
     "output_type": "stream",
     "text": [
      "Processing Batch:   5%|███                                                           | 1/20 [00:09<02:30,  7.92s/image]"
     ]
    },
    {
     "name": "stdout",
     "output_type": "stream",
     "text": [
      "Processing image http://www.loc.gov/item/2019709508/...\n"
     ]
    },
    {
     "name": "stderr",
     "output_type": "stream",
     "text": [
      "Processing Batch:   5%|███                                                           | 1/20 [00:10<02:30,  7.92s/image]"
     ]
    },
    {
     "name": "stdout",
     "output_type": "stream",
     "text": [
      "Result: {\n",
      "  \"id\": \"http://www.loc.gov/item/2019709508/\",\n",
      "  \"city\": \"Jerusalem\",\n",
      "  \"landmarks\": [\"Jericho Road\"]\n",
      "}\n"
     ]
    },
    {
     "name": "stderr",
     "output_type": "stream",
     "text": [
      "Processing Batch:  10%|██████▏                                                       | 2/20 [00:18<02:22,  7.92s/image]"
     ]
    },
    {
     "name": "stdout",
     "output_type": "stream",
     "text": [
      "Processing image http://www.loc.gov/item/2019692595/...\n"
     ]
    },
    {
     "name": "stderr",
     "output_type": "stream",
     "text": [
      "Processing Batch:  10%|██████▏                                                       | 2/20 [00:19<02:22,  7.92s/image]"
     ]
    },
    {
     "name": "stdout",
     "output_type": "stream",
     "text": [
      "Result: {\n",
      "  \"id\": \"http://www.loc.gov/item/2019692595/\",\n",
      "  \"city\": \"Unknown\",\n",
      "  \"landmarks\": [\"Unknown\"]\n",
      "}\n"
     ]
    },
    {
     "name": "stderr",
     "output_type": "stream",
     "text": [
      "Processing Batch:  15%|█████████▎                                                    | 3/20 [00:26<02:19,  8.22s/image]"
     ]
    },
    {
     "name": "stdout",
     "output_type": "stream",
     "text": [
      "Processing image http://www.loc.gov/item/2019709470/...\n"
     ]
    },
    {
     "name": "stderr",
     "output_type": "stream",
     "text": [
      "Processing Batch:  15%|█████████▎                                                    | 3/20 [00:27<02:19,  8.22s/image]"
     ]
    },
    {
     "name": "stdout",
     "output_type": "stream",
     "text": [
      "Result: {\n",
      "  \"id\": \"http://www.loc.gov/item/2019709470/\",\n",
      "  \"city\": \"Jerusalem\",\n",
      "  \"landmarks\": [\"Jaffa Gate\"]\n",
      "}\n"
     ]
    },
    {
     "name": "stderr",
     "output_type": "stream",
     "text": [
      "Processing Batch:  20%|████████████▍                                                 | 4/20 [00:33<02:09,  8.06s/image]"
     ]
    },
    {
     "name": "stdout",
     "output_type": "stream",
     "text": [
      "Processing image http://www.loc.gov/item/2019707907/...\n"
     ]
    },
    {
     "name": "stderr",
     "output_type": "stream",
     "text": [
      "Processing Batch:  20%|████████████▍                                                 | 4/20 [00:35<02:09,  8.06s/image]"
     ]
    },
    {
     "name": "stdout",
     "output_type": "stream",
     "text": [
      "Result: ```json\n",
      "{\n",
      "  \"id\": \"http://www.loc.gov/item/2019707907/\",\n",
      "  \"city\": \"Jerusalem\",\n",
      "  \"landmarks\": [\"St. Stephen's Gate\"]\n",
      "}\n",
      "```\n"
     ]
    },
    {
     "name": "stderr",
     "output_type": "stream",
     "text": [
      "Processing Batch:  25%|███████████████▌                                              | 5/20 [00:41<02:00,  8.02s/image]"
     ]
    },
    {
     "name": "stdout",
     "output_type": "stream",
     "text": [
      "Processing image http://www.loc.gov/item/2019706961/...\n"
     ]
    },
    {
     "name": "stderr",
     "output_type": "stream",
     "text": [
      "Processing Batch:  25%|███████████████▌                                              | 5/20 [00:43<02:00,  8.02s/image]"
     ]
    },
    {
     "name": "stdout",
     "output_type": "stream",
     "text": [
      "Result: ```json\n",
      "{\n",
      "  \"id\": \"http://www.loc.gov/item/2019706961/\",\n",
      "  \"city\": \"Unknown\",\n",
      "  \"landmarks\": [\"Unknown\"]\n",
      "}\n",
      "```\n"
     ]
    },
    {
     "name": "stderr",
     "output_type": "stream",
     "text": [
      "Processing Batch:  30%|██████████████████▌                                           | 6/20 [00:52<01:52,  8.05s/image]"
     ]
    },
    {
     "name": "stdout",
     "output_type": "stream",
     "text": [
      "Processing image http://www.loc.gov/item/2019698732/...\n"
     ]
    },
    {
     "name": "stderr",
     "output_type": "stream",
     "text": [
      "Processing Batch:  30%|██████████████████▌                                           | 6/20 [00:53<01:52,  8.05s/image]"
     ]
    },
    {
     "name": "stdout",
     "output_type": "stream",
     "text": [
      "Result: ```json\n",
      "{\n",
      "  \"id\": \"2019698732\",\n",
      "  \"city\": \"Nazareth\",\n",
      "  \"landmarks\": [\"Home of Christ\"]\n",
      "}\n",
      "```\n"
     ]
    },
    {
     "name": "stderr",
     "output_type": "stream",
     "text": [
      "Processing Batch:  35%|█████████████████████▋                                        | 7/20 [01:01<01:55,  8.85s/image]"
     ]
    },
    {
     "name": "stdout",
     "output_type": "stream",
     "text": [
      "Processing image http://www.loc.gov/item/2019711341/...\n"
     ]
    },
    {
     "name": "stderr",
     "output_type": "stream",
     "text": [
      "Processing Batch:  35%|█████████████████████▋                                        | 7/20 [01:03<01:55,  8.85s/image]"
     ]
    },
    {
     "name": "stdout",
     "output_type": "stream",
     "text": [
      "Result: {\n",
      "  \"id\": \"http://www.loc.gov/item/2019711341/\",\n",
      "  \"city\": \"Jerusalem\",\n",
      "  \"landmarks\": [\"Y.M.C.A. Hostel\", \"Garden tea after opening\"]\n",
      "}\n"
     ]
    },
    {
     "name": "stderr",
     "output_type": "stream",
     "text": [
      "Processing Batch:  40%|████████████████████████▊                                     | 8/20 [01:10<01:48,  9.02s/image]"
     ]
    },
    {
     "name": "stdout",
     "output_type": "stream",
     "text": [
      "Processing image http://www.loc.gov/item/2019694177/...\n"
     ]
    },
    {
     "name": "stderr",
     "output_type": "stream",
     "text": [
      "Processing Batch:  40%|████████████████████████▊                                     | 8/20 [01:12<01:48,  9.02s/image]"
     ]
    },
    {
     "name": "stdout",
     "output_type": "stream",
     "text": [
      "Result: {\n",
      "  \"id\": \"http://www.loc.gov/item/2019694177/\",\n",
      "  \"city\": \"Tabgha\",\n",
      "  \"landmarks\": [\"Plain of Gennesareth\"]\n",
      "}\n"
     ]
    },
    {
     "name": "stderr",
     "output_type": "stream",
     "text": [
      "Processing Batch:  45%|███████████████████████████▉                                  | 9/20 [01:18<01:38,  8.98s/image]"
     ]
    },
    {
     "name": "stdout",
     "output_type": "stream",
     "text": [
      "Processing image http://www.loc.gov/item/2019694408/...\n"
     ]
    },
    {
     "name": "stderr",
     "output_type": "stream",
     "text": [
      "Processing Batch:  45%|███████████████████████████▉                                  | 9/20 [01:19<01:38,  8.98s/image]"
     ]
    },
    {
     "name": "stdout",
     "output_type": "stream",
     "text": [
      "Result: {\n",
      "  \"id\": \"http://www.loc.gov/item/2019694408/\",\n",
      "  \"city\": \"Tiberias\",\n",
      "  \"landmarks\": [\"Scots Mission Hospital\"]\n",
      "}\n"
     ]
    },
    {
     "name": "stderr",
     "output_type": "stream",
     "text": [
      "Processing Batch:  50%|██████████████████████████████▌                              | 10/20 [01:27<01:26,  8.65s/image]"
     ]
    },
    {
     "name": "stdout",
     "output_type": "stream",
     "text": [
      "Processing image http://www.loc.gov/item/2019701827/...\n"
     ]
    },
    {
     "name": "stderr",
     "output_type": "stream",
     "text": [
      "Processing Batch:  50%|██████████████████████████████▌                              | 10/20 [01:28<01:26,  8.65s/image]"
     ]
    },
    {
     "name": "stdout",
     "output_type": "stream",
     "text": [
      "Result: {\n",
      "  \"id\": \"http://www.loc.gov/item/2019701827/\",\n",
      "  \"city\": \"Jerusalem\",\n",
      "  \"landmarks\": [\"Garden Tomb\"]\n",
      "}\n"
     ]
    },
    {
     "name": "stderr",
     "output_type": "stream",
     "text": [
      "Processing Batch:  55%|█████████████████████████████████▌                           | 11/20 [01:36<01:18,  8.67s/image]"
     ]
    },
    {
     "name": "stdout",
     "output_type": "stream",
     "text": [
      "Processing image http://www.loc.gov/item/2019705918/...\n"
     ]
    },
    {
     "name": "stderr",
     "output_type": "stream",
     "text": [
      "Processing Batch:  55%|█████████████████████████████████▌                           | 11/20 [01:37<01:18,  8.67s/image]"
     ]
    },
    {
     "name": "stdout",
     "output_type": "stream",
     "text": [
      "Result: ```json\n",
      "{\n",
      "  \"id\": \"http://www.loc.gov/item/2019705918/\",\n",
      "  \"city\": \"Istanbul\",\n",
      "  \"landmarks\": [\"Mosque of St. Sophia\"]\n",
      "}\n",
      "```\n"
     ]
    },
    {
     "name": "stderr",
     "output_type": "stream",
     "text": [
      "Processing Batch:  60%|████████████████████████████████████▌                        | 12/20 [01:45<01:10,  8.77s/image]"
     ]
    },
    {
     "name": "stdout",
     "output_type": "stream",
     "text": [
      "Processing image http://www.loc.gov/item/92500667/...\n"
     ]
    },
    {
     "name": "stderr",
     "output_type": "stream",
     "text": [
      "Processing Batch:  60%|████████████████████████████████████▌                        | 12/20 [01:46<01:10,  8.77s/image]"
     ]
    },
    {
     "name": "stdout",
     "output_type": "stream",
     "text": [
      "Result: {\n",
      "  \"id\": \"http://www.loc.gov/item/92500667/\",\n",
      "  \"city\": \"Jerusalem\",\n",
      "  \"landmarks\": [\"Tombs of St. James\", \"Tombs of Zachariah\", \"Valley of Kedron\"]\n",
      "}\n"
     ]
    },
    {
     "name": "stderr",
     "output_type": "stream",
     "text": [
      "Processing Batch:  65%|███████████████████████████████████████▋                     | 13/20 [01:53<01:02,  8.93s/image]"
     ]
    },
    {
     "name": "stdout",
     "output_type": "stream",
     "text": [
      "Processing image http://www.loc.gov/item/2019700506/...\n"
     ]
    },
    {
     "name": "stderr",
     "output_type": "stream",
     "text": [
      "Processing Batch:  65%|███████████████████████████████████████▋                     | 13/20 [01:55<01:02,  8.93s/image]"
     ]
    },
    {
     "name": "stdout",
     "output_type": "stream",
     "text": [
      "Result: ```json\n",
      "{\n",
      "  \"id\": \"http://www.loc.gov/item/2019700506/\",\n",
      "  \"city\": \"Unknown\",\n",
      "  \"landmarks\": [\"Unknown\"]\n",
      "}\n",
      "```\n"
     ]
    },
    {
     "name": "stderr",
     "output_type": "stream",
     "text": [
      "Processing Batch:  70%|██████████████████████████████████████████▋                  | 14/20 [02:03<00:52,  8.74s/image]"
     ]
    },
    {
     "name": "stdout",
     "output_type": "stream",
     "text": [
      "Processing image http://www.loc.gov/item/2002725076/...\n"
     ]
    },
    {
     "name": "stderr",
     "output_type": "stream",
     "text": [
      "Processing Batch:  70%|██████████████████████████████████████████▋                  | 14/20 [02:04<00:52,  8.74s/image]"
     ]
    },
    {
     "name": "stdout",
     "output_type": "stream",
     "text": [
      "Result: {\n",
      "  \"id\": \"http://www.loc.gov/item/2002725076/\",\n",
      "  \"city\": \"Jerusalem\",\n",
      "  \"landmarks\": [\"Unknown\"]\n",
      "}\n"
     ]
    },
    {
     "name": "stderr",
     "output_type": "stream",
     "text": [
      "Processing Batch:  75%|█████████████████████████████████████████████▊               | 15/20 [02:20<00:44,  8.91s/image]"
     ]
    },
    {
     "name": "stdout",
     "output_type": "stream",
     "text": [
      "Processing image http://www.loc.gov/item/2003653058/...\n"
     ]
    },
    {
     "name": "stderr",
     "output_type": "stream",
     "text": [
      "Processing Batch:  75%|█████████████████████████████████████████████▊               | 15/20 [02:21<00:44,  8.91s/image]"
     ]
    },
    {
     "name": "stdout",
     "output_type": "stream",
     "text": [
      "Result: {\n",
      "  \"id\": \"http://www.loc.gov/item/2003653058/\",\n",
      "  \"city\": \"Jerusalem\",\n",
      "  \"landmarks\": [\"Unknown\"]\n",
      "}\n"
     ]
    },
    {
     "name": "stderr",
     "output_type": "stream",
     "text": [
      "Processing Batch:  80%|████████████████████████████████████████████████▊            | 16/20 [02:29<00:45, 11.34s/image]"
     ]
    },
    {
     "name": "stdout",
     "output_type": "stream",
     "text": [
      "Processing image http://www.loc.gov/item/2019711883/...\n"
     ]
    },
    {
     "name": "stderr",
     "output_type": "stream",
     "text": [
      "Processing Batch:  80%|████████████████████████████████████████████████▊            | 16/20 [02:30<00:45, 11.34s/image]"
     ]
    },
    {
     "name": "stdout",
     "output_type": "stream",
     "text": [
      "Result: ```json\n",
      "{\n",
      "  \"id\": \"http://www.loc.gov/item/2019711883/\",\n",
      "  \"city\": \"Jerusalem\",\n",
      "  \"landmarks\": [\"Y.M.C.A. hostel\", \"Old Post Office\"]\n",
      "}\n",
      "```\n"
     ]
    },
    {
     "name": "stderr",
     "output_type": "stream",
     "text": [
      "Processing Batch:  85%|███████████████████████████████████████████████████▊         | 17/20 [02:37<00:31, 10.55s/image]"
     ]
    },
    {
     "name": "stdout",
     "output_type": "stream",
     "text": [
      "Processing image http://www.loc.gov/item/2019712799/...\n"
     ]
    },
    {
     "name": "stderr",
     "output_type": "stream",
     "text": [
      "Processing Batch:  85%|███████████████████████████████████████████████████▊         | 17/20 [02:38<00:31, 10.55s/image]"
     ]
    },
    {
     "name": "stdout",
     "output_type": "stream",
     "text": [
      "Result: ```json\n",
      "{\n",
      "  \"id\": \"2019712799\",\n",
      "  \"city\": \"Unknown\",\n",
      "  \"landmarks\": [\"Unknown\"]\n",
      "}\n",
      "```\n"
     ]
    },
    {
     "name": "stderr",
     "output_type": "stream",
     "text": [
      "Processing Batch:  90%|██████████████████████████████████████████████████████▉      | 18/20 [02:45<00:19,  9.96s/image]"
     ]
    },
    {
     "name": "stdout",
     "output_type": "stream",
     "text": [
      "Processing image http://www.loc.gov/item/2019693188/...\n"
     ]
    },
    {
     "name": "stderr",
     "output_type": "stream",
     "text": [
      "Processing Batch:  90%|██████████████████████████████████████████████████████▉      | 18/20 [02:46<00:19,  9.96s/image]"
     ]
    },
    {
     "name": "stdout",
     "output_type": "stream",
     "text": [
      "Result: {\n",
      "  \"id\": \"http://www.loc.gov/item/2019693188/\",\n",
      "  \"city\": \"Amman\",\n",
      "  \"landmarks\": [\"Rabbath Amman\", \"Philadelphia\"]\n",
      "}\n"
     ]
    },
    {
     "name": "stderr",
     "output_type": "stream",
     "text": [
      "Processing Batch:  95%|█████████████████████████████████████████████████████████▉   | 19/20 [02:52<00:09,  9.39s/image]"
     ]
    },
    {
     "name": "stdout",
     "output_type": "stream",
     "text": [
      "Processing image http://www.loc.gov/item/2019693170/...\n"
     ]
    },
    {
     "name": "stderr",
     "output_type": "stream",
     "text": [
      "Processing Batch:  95%|█████████████████████████████████████████████████████████▉   | 19/20 [02:53<00:09,  9.39s/image]"
     ]
    },
    {
     "name": "stdout",
     "output_type": "stream",
     "text": [
      "Result: {\n",
      "  \"id\": \"http://www.loc.gov/item/2019693170/\",\n",
      "  \"city\": \"Unknown\",\n",
      "  \"landmarks\": [\"Shobeck\"]\n",
      "}\n"
     ]
    },
    {
     "name": "stderr",
     "output_type": "stream",
     "text": [
      "Processing Batch: 100%|█████████████████████████████████████████████████████████████| 20/20 [02:58<00:00,  8.93s/image]\n"
     ]
    },
    {
     "name": "stdout",
     "output_type": "stream",
     "text": [
      "Completed a batch. Pausing for 15 minutes before starting the next batch.\n"
     ]
    },
    {
     "name": "stderr",
     "output_type": "stream",
     "text": [
      "Processing Batch:   0%|                                                                      | 0/20 [00:00<?, ?image/s]"
     ]
    },
    {
     "name": "stdout",
     "output_type": "stream",
     "text": [
      "Processing image http://www.loc.gov/item/2019694155/...\n"
     ]
    },
    {
     "name": "stderr",
     "output_type": "stream",
     "text": [
      "Processing Batch:   0%|                                                                      | 0/20 [00:01<?, ?image/s]"
     ]
    },
    {
     "name": "stdout",
     "output_type": "stream",
     "text": [
      "Result: {\n",
      "  \"id\": \"2019694155\",\n",
      "  \"city\": \"Unknown\",\n",
      "  \"landmarks\": [\"Egypt. Sphinx & pyramids\"]\n",
      "}\n"
     ]
    },
    {
     "name": "stderr",
     "output_type": "stream",
     "text": [
      "Processing Batch:   5%|███                                                           | 1/20 [00:07<02:10,  6.86s/image]"
     ]
    },
    {
     "name": "stdout",
     "output_type": "stream",
     "text": [
      "Processing image http://www.loc.gov/item/2019698743/...\n"
     ]
    },
    {
     "name": "stderr",
     "output_type": "stream",
     "text": [
      "Processing Batch:   5%|███                                                           | 1/20 [00:08<02:10,  6.86s/image]"
     ]
    },
    {
     "name": "stdout",
     "output_type": "stream",
     "text": [
      "Result: ```json\n",
      "{\n",
      "  \"id\": \"http://www.loc.gov/item/2019698743/\",\n",
      "  \"city\": \"Nazareth\",\n",
      "  \"landmarks\": [\"Joseph's workshop\"]\n",
      "}\n",
      "```\n"
     ]
    },
    {
     "name": "stderr",
     "output_type": "stream",
     "text": [
      "Processing Batch:  10%|██████▏                                                       | 2/20 [00:14<02:04,  6.93s/image]"
     ]
    },
    {
     "name": "stdout",
     "output_type": "stream",
     "text": [
      "Processing image http://www.loc.gov/item/2019710608/...\n"
     ]
    },
    {
     "name": "stderr",
     "output_type": "stream",
     "text": [
      "Processing Batch:  10%|██████▏                                                       | 2/20 [00:15<02:04,  6.93s/image]"
     ]
    },
    {
     "name": "stdout",
     "output_type": "stream",
     "text": [
      "Result: {\n",
      "  \"id\": \"2019710608\",\n",
      "  \"city\": \"Unknown\",\n",
      "  \"landmarks\": []\n",
      "}\n"
     ]
    },
    {
     "name": "stderr",
     "output_type": "stream",
     "text": [
      "Processing Batch:  15%|█████████▎                                                    | 3/20 [00:21<01:55,  6.78s/image]"
     ]
    },
    {
     "name": "stdout",
     "output_type": "stream",
     "text": [
      "Processing image http://www.loc.gov/item/2019697321/...\n"
     ]
    },
    {
     "name": "stderr",
     "output_type": "stream",
     "text": [
      "Processing Batch:  15%|█████████▎                                                    | 3/20 [00:22<01:55,  6.78s/image]"
     ]
    },
    {
     "name": "stdout",
     "output_type": "stream",
     "text": [
      "Result: {\n",
      "  \"id\": \"2019697321\",\n",
      "  \"city\": \"Jerusalem\",\n",
      "  \"landmarks\": [\"Russian Chapel in Alexander Hospice\"]\n",
      "}\n"
     ]
    },
    {
     "name": "stderr",
     "output_type": "stream",
     "text": [
      "Processing Batch:  20%|████████████▍                                                 | 4/20 [00:28<01:49,  6.84s/image]"
     ]
    },
    {
     "name": "stdout",
     "output_type": "stream",
     "text": [
      "Processing image http://www.loc.gov/item/2019706831/...\n"
     ]
    },
    {
     "name": "stderr",
     "output_type": "stream",
     "text": [
      "Processing Batch:  20%|████████████▍                                                 | 4/20 [00:29<01:49,  6.84s/image]"
     ]
    },
    {
     "name": "stdout",
     "output_type": "stream",
     "text": [
      "Result: {\n",
      "  \"id\": \"http://www.loc.gov/item/2019706831/\",\n",
      "  \"city\": \"Baghdad\",\n",
      "  \"landmarks\": [\"Unknown\"]\n",
      "}\n"
     ]
    },
    {
     "name": "stderr",
     "output_type": "stream",
     "text": [
      "Processing Batch:  25%|███████████████▌                                              | 5/20 [00:35<01:44,  6.94s/image]"
     ]
    },
    {
     "name": "stdout",
     "output_type": "stream",
     "text": [
      "Processing image http://www.loc.gov/item/2019698007/...\n"
     ]
    },
    {
     "name": "stderr",
     "output_type": "stream",
     "text": [
      "Processing Batch:  25%|███████████████▌                                              | 5/20 [00:36<01:44,  6.94s/image]"
     ]
    },
    {
     "name": "stdout",
     "output_type": "stream",
     "text": [
      "Result: ```json\n",
      "{\n",
      "  \"id\": \"http://www.loc.gov/item/2019698007/\",\n",
      "  \"city\": \"Bethlehem\",\n",
      "  \"landmarks\": [\"Unknown\"]\n",
      "}\n",
      "```\n"
     ]
    },
    {
     "name": "stderr",
     "output_type": "stream",
     "text": [
      "Processing Batch:  30%|██████████████████▌                                           | 6/20 [00:41<01:36,  6.89s/image]"
     ]
    },
    {
     "name": "stdout",
     "output_type": "stream",
     "text": [
      "Processing image http://www.loc.gov/item/2019708976/...\n"
     ]
    },
    {
     "name": "stderr",
     "output_type": "stream",
     "text": [
      "Processing Batch:  30%|██████████████████▌                                           | 6/20 [00:43<01:36,  6.89s/image]"
     ]
    },
    {
     "name": "stdout",
     "output_type": "stream",
     "text": [
      "Result: {\n",
      "  \"id\": \"http://www.loc.gov/item/2019708976/\",\n",
      "  \"city\": \"Bethlehem\",\n",
      "  \"landmarks\": [\"2nd Bn. Scots Guards camp\"]\n",
      "}\n"
     ]
    },
    {
     "name": "stderr",
     "output_type": "stream",
     "text": [
      "Processing Batch:  35%|█████████████████████▋                                        | 7/20 [00:48<01:29,  6.86s/image]"
     ]
    },
    {
     "name": "stdout",
     "output_type": "stream",
     "text": [
      "Processing image http://www.loc.gov/item/2018756768/...\n"
     ]
    },
    {
     "name": "stderr",
     "output_type": "stream",
     "text": [
      "Processing Batch:  35%|█████████████████████▋                                        | 7/20 [00:50<01:29,  6.86s/image]"
     ]
    },
    {
     "name": "stdout",
     "output_type": "stream",
     "text": [
      "Result: ```json\n",
      "{\n",
      "  \"id\": \"http://www.loc.gov/item/2018756768/\",\n",
      "  \"city\": \"Jerusalem\",\n",
      "  \"landmarks\": [\"Mount Olivet\"]\n",
      "}\n",
      "```\n"
     ]
    },
    {
     "name": "stderr",
     "output_type": "stream",
     "text": [
      "Processing Batch:  40%|████████████████████████▊                                     | 8/20 [00:55<01:23,  6.97s/image]"
     ]
    },
    {
     "name": "stdout",
     "output_type": "stream",
     "text": [
      "Processing image http://www.loc.gov/item/2019696846/...\n"
     ]
    },
    {
     "name": "stderr",
     "output_type": "stream",
     "text": [
      "Processing Batch:  40%|████████████████████████▊                                     | 8/20 [00:57<01:23,  6.97s/image]"
     ]
    },
    {
     "name": "stdout",
     "output_type": "stream",
     "text": [
      "Result: {\n",
      "  \"id\": \"http://www.loc.gov/item/2019696846/\",\n",
      "  \"city\": \"Unknown\",\n",
      "  \"landmarks\": [\"Unknown\"]\n",
      "}\n"
     ]
    },
    {
     "name": "stderr",
     "output_type": "stream",
     "text": [
      "Processing Batch:  45%|███████████████████████████▉                                  | 9/20 [01:02<01:16,  6.92s/image]"
     ]
    },
    {
     "name": "stdout",
     "output_type": "stream",
     "text": [
      "Processing image http://www.loc.gov/item/2019701594/...\n"
     ]
    },
    {
     "name": "stderr",
     "output_type": "stream",
     "text": [
      "Processing Batch:  45%|███████████████████████████▉                                  | 9/20 [01:03<01:16,  6.92s/image]"
     ]
    },
    {
     "name": "stdout",
     "output_type": "stream",
     "text": [
      "Result: {\n",
      "  \"id\": \"2019701594\",\n",
      "  \"city\": \"Jerusalem\",\n",
      "  \"landmarks\": [\"Polish consulate\"]\n",
      "}\n"
     ]
    },
    {
     "name": "stderr",
     "output_type": "stream",
     "text": [
      "Processing Batch:  50%|██████████████████████████████▌                              | 10/20 [01:09<01:08,  6.88s/image]"
     ]
    },
    {
     "name": "stdout",
     "output_type": "stream",
     "text": [
      "Processing image http://www.loc.gov/item/2019697001/...\n"
     ]
    },
    {
     "name": "stderr",
     "output_type": "stream",
     "text": [
      "Processing Batch:  50%|██████████████████████████████▌                              | 10/20 [01:10<01:08,  6.88s/image]"
     ]
    },
    {
     "name": "stdout",
     "output_type": "stream",
     "text": [
      "Result: ```json\n",
      "{\n",
      "  \"id\": \"2019697001\",\n",
      "  \"city\": \"Tel Aviv\",\n",
      "  \"landmarks\": [\"Modern building completed\"]\n",
      "}\n",
      "```\n"
     ]
    },
    {
     "name": "stderr",
     "output_type": "stream",
     "text": [
      "Processing Batch:  55%|█████████████████████████████████▌                           | 11/20 [01:16<01:01,  6.83s/image]"
     ]
    },
    {
     "name": "stdout",
     "output_type": "stream",
     "text": [
      "Processing image http://www.loc.gov/item/2019703050/...\n"
     ]
    },
    {
     "name": "stderr",
     "output_type": "stream",
     "text": [
      "Processing Batch:  55%|█████████████████████████████████▌                           | 11/20 [01:17<01:01,  6.83s/image]"
     ]
    },
    {
     "name": "stdout",
     "output_type": "stream",
     "text": [
      "Result: ```json\n",
      "{\n",
      "  \"id\": \"http://www.loc.gov/item/2019703050/\",\n",
      "  \"city\": \"Unknown\",\n",
      "  \"landmarks\": [\"Unknown\"]\n",
      "}\n",
      "```\n"
     ]
    },
    {
     "name": "stderr",
     "output_type": "stream",
     "text": [
      "Processing Batch:  60%|████████████████████████████████████▌                        | 12/20 [01:23<00:54,  6.86s/image]"
     ]
    },
    {
     "name": "stdout",
     "output_type": "stream",
     "text": [
      "Processing image http://www.loc.gov/item/2019699952/...\n"
     ]
    },
    {
     "name": "stderr",
     "output_type": "stream",
     "text": [
      "Processing Batch:  60%|████████████████████████████████████▌                        | 12/20 [01:24<00:54,  6.86s/image]"
     ]
    },
    {
     "name": "stdout",
     "output_type": "stream",
     "text": [
      "Result: {\n",
      "  \"id\": \"http://www.loc.gov/item/2019699952/\",\n",
      "  \"city\": \"Jerusalem\",\n",
      "  \"landmarks\": [\"Tower of David\"]\n",
      "}\n"
     ]
    },
    {
     "name": "stderr",
     "output_type": "stream",
     "text": [
      "Processing Batch:  65%|███████████████████████████████████████▋                     | 13/20 [01:30<00:47,  6.85s/image]"
     ]
    },
    {
     "name": "stdout",
     "output_type": "stream",
     "text": [
      "Processing image http://www.loc.gov/item/2019703833/...\n"
     ]
    },
    {
     "name": "stderr",
     "output_type": "stream",
     "text": [
      "Processing Batch:  65%|███████████████████████████████████████▋                     | 13/20 [01:31<00:47,  6.85s/image]"
     ]
    },
    {
     "name": "stdout",
     "output_type": "stream",
     "text": [
      "Result: {\n",
      "  \"id\": \"http://www.loc.gov/item/2019703833/\",\n",
      "  \"city\": \"Jerusalem\",\n",
      "  \"landmarks\": [\"Kidron Valley\", \"Absalom's Pillar\"]\n",
      "}\n"
     ]
    },
    {
     "name": "stderr",
     "output_type": "stream",
     "text": [
      "Processing Batch:  70%|██████████████████████████████████████████▋                  | 14/20 [01:37<00:41,  6.90s/image]"
     ]
    },
    {
     "name": "stdout",
     "output_type": "stream",
     "text": [
      "Processing image http://www.loc.gov/item/2019692993/...\n"
     ]
    },
    {
     "name": "stderr",
     "output_type": "stream",
     "text": [
      "Processing Batch:  70%|██████████████████████████████████████████▋                  | 14/20 [01:38<00:41,  6.90s/image]"
     ]
    },
    {
     "name": "stdout",
     "output_type": "stream",
     "text": [
      "Result: {\n",
      "  \"id\": \"http://www.loc.gov/item/2019692993/\",\n",
      "  \"city\": \"Unknown\",\n",
      "  \"landmarks\": [\"Pyramids of Gizeh, Sakkara\"]\n",
      "}\n"
     ]
    },
    {
     "name": "stderr",
     "output_type": "stream",
     "text": [
      "Processing Batch:  75%|█████████████████████████████████████████████▊               | 15/20 [01:44<00:34,  6.97s/image]"
     ]
    },
    {
     "name": "stdout",
     "output_type": "stream",
     "text": [
      "Processing image http://www.loc.gov/item/2019707533/...\n"
     ]
    },
    {
     "name": "stderr",
     "output_type": "stream",
     "text": [
      "Processing Batch:  75%|█████████████████████████████████████████████▊               | 15/20 [01:45<00:34,  6.97s/image]"
     ]
    },
    {
     "name": "stdout",
     "output_type": "stream",
     "text": [
      "Result: {\n",
      "  \"id\": \"http://www.loc.gov/item/2019707533/\",\n",
      "  \"city\": \"Jerusalem\",\n",
      "  \"landmarks\": [\"Jerusalem Water Works\", \"Ras el Ain source of River Auja\"]\n",
      "}\n"
     ]
    },
    {
     "name": "stderr",
     "output_type": "stream",
     "text": [
      "Processing Batch:  80%|████████████████████████████████████████████████▊            | 16/20 [01:51<00:27,  6.99s/image]"
     ]
    },
    {
     "name": "stdout",
     "output_type": "stream",
     "text": [
      "Processing image http://www.loc.gov/item/2019695607/...\n"
     ]
    },
    {
     "name": "stderr",
     "output_type": "stream",
     "text": [
      "Processing Batch:  80%|████████████████████████████████████████████████▊            | 16/20 [01:52<00:27,  6.99s/image]"
     ]
    },
    {
     "name": "stdout",
     "output_type": "stream",
     "text": [
      "Result: {\n",
      "  \"id\": \"2019695607\",\n",
      "  \"city\": \"Unknown\",\n",
      "  \"landmarks\": [\"Unknown\"]\n",
      "}\n"
     ]
    },
    {
     "name": "stderr",
     "output_type": "stream",
     "text": [
      "Processing Batch:  85%|███████████████████████████████████████████████████▊         | 17/20 [01:58<00:20,  6.99s/image]"
     ]
    },
    {
     "name": "stdout",
     "output_type": "stream",
     "text": [
      "Processing image http://www.loc.gov/item/2019699903/...\n"
     ]
    },
    {
     "name": "stderr",
     "output_type": "stream",
     "text": [
      "Processing Batch:  85%|███████████████████████████████████████████████████▊         | 17/20 [01:59<00:20,  6.99s/image]"
     ]
    },
    {
     "name": "stdout",
     "output_type": "stream",
     "text": [
      "Result: {\n",
      "  \"id\": \"http://www.loc.gov/item/2019699903/\",\n",
      "  \"city\": \"Jerusalem\",\n",
      "  \"landmarks\": [\"Church of the Ecce Homo\"]\n",
      "}\n"
     ]
    },
    {
     "name": "stderr",
     "output_type": "stream",
     "text": [
      "Processing Batch:  90%|██████████████████████████████████████████████████████▉      | 18/20 [02:05<00:13,  6.96s/image]"
     ]
    },
    {
     "name": "stdout",
     "output_type": "stream",
     "text": [
      "Processing image http://www.loc.gov/item/2019694100/...\n"
     ]
    },
    {
     "name": "stderr",
     "output_type": "stream",
     "text": [
      "Processing Batch:  90%|██████████████████████████████████████████████████████▉      | 18/20 [02:06<00:13,  6.96s/image]"
     ]
    },
    {
     "name": "stdout",
     "output_type": "stream",
     "text": [
      "Result: {\n",
      "  \"id\": \"http://www.loc.gov/item/2019694100/\",\n",
      "  \"city\": \"Unknown\",\n",
      "  \"landmarks\": [\"Egypt. Pyramids of Gizeh\"]\n",
      "}\n"
     ]
    },
    {
     "name": "stderr",
     "output_type": "stream",
     "text": [
      "Processing Batch:  95%|█████████████████████████████████████████████████████████▉   | 19/20 [02:11<00:06,  6.90s/image]"
     ]
    },
    {
     "name": "stdout",
     "output_type": "stream",
     "text": [
      "Processing image http://www.loc.gov/item/2019709197/...\n"
     ]
    },
    {
     "name": "stderr",
     "output_type": "stream",
     "text": [
      "Processing Batch:  95%|█████████████████████████████████████████████████████████▉   | 19/20 [02:13<00:06,  6.90s/image]"
     ]
    },
    {
     "name": "stdout",
     "output_type": "stream",
     "text": [
      "Result: {\n",
      "  \"id\": \"http://www.loc.gov/item/2019709197/\",\n",
      "  \"city\": \"Unknown\",\n",
      "  \"landmarks\": [\"Concrete Road House, Haifa-Acre Junction\"]\n",
      "}\n"
     ]
    },
    {
     "name": "stderr",
     "output_type": "stream",
     "text": [
      "Processing Batch: 100%|█████████████████████████████████████████████████████████████| 20/20 [02:18<00:00,  6.91s/image]\n"
     ]
    },
    {
     "name": "stdout",
     "output_type": "stream",
     "text": [
      "Completed a batch. Pausing for 15 minutes before starting the next batch.\n"
     ]
    },
    {
     "name": "stderr",
     "output_type": "stream",
     "text": [
      "Processing Batch:   0%|                                                                       | 0/4 [00:00<?, ?image/s]"
     ]
    },
    {
     "name": "stdout",
     "output_type": "stream",
     "text": [
      "Processing image http://www.loc.gov/item/2019695345/...\n"
     ]
    },
    {
     "name": "stderr",
     "output_type": "stream",
     "text": [
      "Processing Batch:   0%|                                                                       | 0/4 [00:01<?, ?image/s]"
     ]
    },
    {
     "name": "stdout",
     "output_type": "stream",
     "text": [
      "Result: {\n",
      "  \"id\": \"http://www.loc.gov/item/2019695345/\",\n",
      "  \"city\": \"Jerusalem\",\n",
      "  \"landmarks\": [\"Ophel\", \"City of David\"]\n",
      "}\n"
     ]
    },
    {
     "name": "stderr",
     "output_type": "stream",
     "text": [
      "Processing Batch:  25%|███████████████▊                                               | 1/4 [00:07<00:20,  6.85s/image]"
     ]
    },
    {
     "name": "stdout",
     "output_type": "stream",
     "text": [
      "Processing image http://www.loc.gov/item/2019695965/...\n"
     ]
    },
    {
     "name": "stderr",
     "output_type": "stream",
     "text": [
      "Processing Batch:  25%|███████████████▊                                               | 1/4 [00:08<00:20,  6.85s/image]"
     ]
    },
    {
     "name": "stdout",
     "output_type": "stream",
     "text": [
      "Result: {\n",
      "  \"id\": \"http://www.loc.gov/item/2019695965/\",\n",
      "  \"city\": \"Tel Aviv\",\n",
      "  \"landmarks\": [\"Unknown\"]\n",
      "}\n"
     ]
    },
    {
     "name": "stderr",
     "output_type": "stream",
     "text": [
      "Processing Batch:  50%|███████████████████████████████▌                               | 2/4 [00:14<00:13,  6.76s/image]"
     ]
    },
    {
     "name": "stdout",
     "output_type": "stream",
     "text": [
      "Processing image http://www.loc.gov/item/2019699116/...\n"
     ]
    },
    {
     "name": "stderr",
     "output_type": "stream",
     "text": [
      "Processing Batch:  50%|███████████████████████████████▌                               | 2/4 [00:15<00:13,  6.76s/image]"
     ]
    },
    {
     "name": "stdout",
     "output_type": "stream",
     "text": [
      "Result: ```json\n",
      "{\n",
      "  \"id\": \"http://www.loc.gov/item/2019699116/\",\n",
      "  \"city\": \"Jerusalem\",\n",
      "  \"landmarks\": [\"Government House\"]\n",
      "}\n",
      "```\n"
     ]
    },
    {
     "name": "stderr",
     "output_type": "stream",
     "text": [
      "Processing Batch:  75%|███████████████████████████████████████████████▎               | 3/4 [00:21<00:06,  6.84s/image]"
     ]
    },
    {
     "name": "stdout",
     "output_type": "stream",
     "text": [
      "Processing image http://www.loc.gov/item/2019696832/...\n"
     ]
    },
    {
     "name": "stderr",
     "output_type": "stream",
     "text": [
      "Processing Batch:  75%|███████████████████████████████████████████████▎               | 3/4 [00:22<00:06,  6.84s/image]"
     ]
    },
    {
     "name": "stdout",
     "output_type": "stream",
     "text": [
      "Result: {\n",
      "  \"id\": \"2019696832\",\n",
      "  \"city\": \"Unknown\",\n",
      "  \"landmarks\": [\"Unknown\"]\n",
      "}\n"
     ]
    },
    {
     "name": "stderr",
     "output_type": "stream",
     "text": [
      "Processing Batch: 100%|███████████████████████████████████████████████████████████████| 4/4 [00:27<00:00,  6.81s/image]"
     ]
    },
    {
     "name": "stdout",
     "output_type": "stream",
     "text": [
      "Completed a batch. Pausing for 15 minutes before starting the next batch.\n",
      "Total time taken: 852.26 seconds\n"
     ]
    },
    {
     "name": "stderr",
     "output_type": "stream",
     "text": [
      "\n"
     ]
    }
   ],
   "source": [
    "#usage\n",
    "prompt = \"\"\"I am going to give you the metadata of a historical photograph. From it, extract the city and landmark(s) represented in\n",
    "the picture.Your response should be in JSON format.\n",
    "Don’t give any polite introduction on your response, just JSON format, following this template: \n",
    "{{\n",
    "  \"id\": \"2019696982\",\n",
    "  \"city\": \"Jerusalem\",\n",
    "  \"landmarks\": [\"Hebrew University\"]\n",
    "}}\n",
    "where, id refers to a field already provided in the metadata. city refers to the city where the photo was shot. landmark refers \n",
    "to any specific building or location inside of the city. \n",
    "If it is impossible to detect a specific landmark or city, use the word \"Unknown\".\n",
    "If there are multiple landmarks depicted, list them.\n",
    "\n",
    "Metadata: {metadata}\"\"\"  \n",
    "\n",
    "# list of image URLs\n",
    "image_urls = random_urls\n",
    "\n",
    "# Run the analysis\n",
    "analyze_image_metadata(prompt, image_urls,  delay_seconds=5)"
   ]
  },
  {
   "cell_type": "code",
   "execution_count": 9,
   "id": "77e8ab7c",
   "metadata": {},
   "outputs": [
    {
     "name": "stdout",
     "output_type": "stream",
     "text": [
      "```json\n",
      "\n",
      "{\n",
      "\n",
      "  \"id\": \"http://www.loc.gov/item/2019698100/\",\n",
      "\n",
      "  \"city\": \"Jerusalem\",\n",
      "\n",
      "  \"landmarks\": [\"Unknown\"]\n",
      "\n",
      "}\n",
      "\n",
      "```\n",
      "\n",
      "{\n",
      "\n",
      "  \"id\": \"http://www.loc.gov/item/2019695847/\",\n",
      "\n",
      "  \"city\": \"Aleppo\",\n",
      "\n",
      "  \"landmarks\": [\"Jami el-Adliyeh\"]\n",
      "\n",
      "}\n",
      "\n",
      "{\n",
      "\n",
      "  \"id\": \"http://www.loc.gov/item/2019696630/\",\n",
      "\n",
      "  \"city\": \"Unknown\",\n",
      "\n",
      "  \"landmarks\": [\"Sahyun Castle\", \"Qal'at Salahuddin\"]\n",
      "\n",
      "}\n",
      "\n",
      "{\n",
      "\n",
      "  \"id\": \"http://www.loc.gov/item/2019706891/\",\n",
      "\n",
      "  \"city\": \"Unknown\",\n",
      "\n",
      "  \"landmarks\": [\"Unknown\"]\n",
      "\n",
      "}\n",
      "\n",
      "{\n",
      "\n",
      "  \"id\": \"http://www.loc.gov/item/2019695725/\",\n",
      "\n",
      "  \"city\": \"Unknown\",\n",
      "\n",
      "  \"landmarks\": [\"Monastery of St. Catherine\"]\n",
      "\n",
      "}\n",
      "\n",
      "{\n",
      "\n",
      "  \"id\": \"http://www.loc.gov/item/2019704839/\",\n",
      "\n",
      "  \"city\": \"Jerusalem\",\n",
      "\n",
      "  \"landmarks\": [\"St. George's School\"]\n",
      "\n",
      "}\n",
      "\n",
      "```json\n",
      "\n",
      "{\n",
      "\n",
      "  \"id\": \"2019699738\",\n",
      "\n",
      "  \"city\": \"Jerusalem\",\n",
      "\n",
      "  \"landmarks\": [\"Unknown\"]\n",
      "\n",
      "}\n",
      "\n",
      "```\n",
      "\n",
      "{\n",
      "\n",
      "  \"id\": \"http://www.loc.gov/item/2019698895/\",\n",
      "\n",
      "  \"city\": \"Beirut\",\n",
      "\n",
      "  \"landmarks\": [\"American University\"]\n",
      "\n",
      "}\n",
      "\n",
      "{\n",
      "\n",
      "  \"id\": \"http://www.loc.gov/item/2019696549/\",\n",
      "\n",
      "  \"city\": \"Jerusalem\",\n",
      "\n",
      "  \"landmarks\": [\"Mount Scopus\"]\n",
      "\n",
      "}\n",
      "\n",
      "{\n",
      "\n",
      "  \"id\": \"http://www.loc.gov/item/2006686285/\",\n",
      "\n",
      "  \"city\": \"Jerusalem\",\n",
      "\n",
      "  \"landmarks\": [\"Unknown\"]\n",
      "\n",
      "}\n",
      "\n",
      "```json\n",
      "\n",
      "{\n",
      "\n",
      "  \"id\": \"http://www.loc.gov/item/2019713028/\",\n",
      "\n",
      "  \"city\": \"Jerusalem\",\n",
      "\n",
      "  \"landmarks\": [\"The Old City\", \"Damascus Gate\", \"Governorate\"]\n",
      "\n",
      "}\n",
      "\n",
      "```\n",
      "\n",
      "```json\n",
      "\n",
      "{\n",
      "\n",
      "  \"id\": \"http://www.loc.gov/item/2019706007/\",\n",
      "\n",
      "  \"city\": \"Geva\",\n",
      "\n",
      "  \"landmarks\": [\"The Keren Hayesod\", \"Agricultural Colonies on Plain of Esdraelon\", \"Homes and chicken yards\"]\n",
      "\n",
      "}\n",
      "\n",
      "```\n",
      "\n",
      "{\n",
      "\n",
      "  \"id\": \"http://www.loc.gov/item/2019710082/\",\n",
      "\n",
      "  \"city\": \"Tel Aviv\",\n",
      "\n",
      "  \"landmarks\": [\"Unknown\"]\n",
      "\n",
      "}\n",
      "\n",
      "{\n",
      "\n",
      "  \"id\": \"http://www.loc.gov/item/2023681976/\",\n",
      "\n",
      "  \"city\": \"Jerusalem\",\n",
      "\n",
      "  \"landmarks\": [\"Apartment hotel (Residential hotel)\", \"Hebrew University\"]\n",
      "\n",
      "}\n",
      "\n",
      "{\n",
      "\n",
      "  \"id\": \"http://www.loc.gov/item/2006675890/\",\n",
      "\n",
      "  \"city\": \"Jerusalem\",\n",
      "\n",
      "  \"landmarks\": [\"Church of the Holy Sepulchre\"]\n",
      "\n",
      "}\n",
      "\n",
      "{\n",
      "\n",
      "  \"id\": \"http://www.loc.gov/item/2019711778/\",\n",
      "\n",
      "  \"city\": \"Jerusalem\",\n",
      "\n",
      "  \"landmarks\": [\"Holy Sepulchre\"]\n",
      "\n",
      "}\n",
      "\n",
      "{\n",
      "\n",
      "  \"id\": \"http://www.loc.gov/item/2019694162/\",\n",
      "\n",
      "  \"city\": \"Unknown\",\n",
      "\n",
      "  \"landmarks\": [\"Sphinx\", \"Pyramids\", \"Temple\"]\n",
      "\n",
      "}\n",
      "\n",
      "{\n",
      "\n",
      "  \"id\": \"2019702474\",\n",
      "\n",
      "  \"city\": \"Jerusalem\",\n",
      "\n",
      "  \"landmarks\": [\"Anna Spafford baby home\"]\n",
      "\n",
      "}\n",
      "\n",
      "{\n",
      "\n",
      "  \"id\": \"http://www.loc.gov/item/2019697433/\",\n",
      "\n",
      "  \"city\": \"Jerusalem\",\n",
      "\n",
      "  \"landmarks\": [\"Unknown\"]\n",
      "\n",
      "}\n",
      "\n",
      "{\n",
      "\n",
      "  \"id\": \"http://www.loc.gov/item/2019697722/\",\n",
      "\n",
      "  \"city\": \"Jerusalem\",\n",
      "\n",
      "  \"landmarks\": [\"Municipal Hospital\"]\n",
      "\n",
      "}\n",
      "\n",
      "```json\n",
      "\n",
      "{\n",
      "\n",
      "  \"id\": \"http://www.loc.gov/item/2019709143/\",\n",
      "\n",
      "  \"city\": \"Tel Aviv\",\n",
      "\n",
      "  \"landmarks\": [\"Unknown\"]\n",
      "\n",
      "}\n",
      "\n",
      "```\n",
      "\n",
      "{\n",
      "\n",
      "  \"id\": \"http://www.loc.gov/item/2019713120/\",\n",
      "\n",
      "  \"city\": \"Unknown\",\n",
      "\n",
      "  \"landmarks\": [\"Al-Qubaybah (al-Qubeibah)\"]\n",
      "\n",
      "}\n",
      "\n",
      "{\n",
      "\n",
      "  \"id\": \"http://www.loc.gov/item/2019703357/\",\n",
      "\n",
      "  \"city\": \"Unknown\",\n",
      "\n",
      "  \"landmarks\": [\"Unknown\"]\n",
      "\n",
      "}\n",
      "\n",
      "{\n",
      "\n",
      "  \"id\": \"http://www.loc.gov/item/2019694298/\",\n",
      "\n",
      "  \"city\": \"Caesarea\",\n",
      "\n",
      "  \"landmarks\": [\"Roman aqueduct\"]\n",
      "\n",
      "}\n",
      "\n",
      "```json\n",
      "\n",
      "{\n",
      "\n",
      "  \"id\": \"http://www.loc.gov/item/2019692641/\",\n",
      "\n",
      "  \"city\": \"Damascus\",\n",
      "\n",
      "  \"landmarks\": [\"Old Damascus\"]\n",
      "\n",
      "}\n",
      "\n",
      "```\n",
      "\n",
      "{\n",
      "\n",
      "  \"id\": \"http://www.loc.gov/item/2019694669/\",\n",
      "\n",
      "  \"city\": \"Jerusalem\",\n",
      "\n",
      "  \"landmarks\": [\"The Greek patriarch\"]\n",
      "\n",
      "}\n",
      "\n",
      "{\n",
      "\n",
      "  \"id\": \"http://www.loc.gov/item/2019709114/\",\n",
      "\n",
      "  \"city\": \"Jerusalem\",\n",
      "\n",
      "  \"landmarks\": [\"King George Avenue\"]\n",
      "\n",
      "}\n",
      "\n",
      "{\n",
      "\n",
      "  \"id\": \"http://www.loc.gov/item/2019704649/\",\n",
      "\n",
      "  \"city\": \"Unknown\",\n",
      "\n",
      "  \"landmarks\": [\"Unknown\"]\n",
      "\n",
      "}\n",
      "\n",
      "{\n",
      "\n",
      "  \"id\": \"http://www.loc.gov/item/2019699936/\",\n",
      "\n",
      "  \"city\": \"Jerusalem\",\n",
      "\n",
      "  \"landmarks\": [\"Y.M.C.A.\" ]\n",
      "\n",
      "}\n",
      "\n",
      "{\n",
      "\n",
      "  \"id\": \"http://www.loc.gov/item/2019710830/\",\n",
      "\n",
      "  \"city\": \"Beersheba\",\n",
      "\n",
      "  \"landmarks\": [\"Unknown\"]\n",
      "\n",
      "}\n",
      "\n",
      "```json\n",
      "\n",
      "{\n",
      "\n",
      "  \"id\": \"2019692639\",\n",
      "\n",
      "  \"city\": \"Damascus\",\n",
      "\n",
      "  \"landmarks\": [\"Esh-Sham Oriental Bazaar\"]\n",
      "\n",
      "}\n",
      "\n",
      "```\n",
      "\n",
      "{\n",
      "\n",
      "  \"id\": \"http://www.loc.gov/item/2019705596/\",\n",
      "\n",
      "  \"city\": \"Jerusalem\",\n",
      "\n",
      "  \"landmarks\": [\"Ahab's Well, Jezreel\"]\n",
      "\n",
      "}\n",
      "\n",
      "```json\n",
      "\n",
      "{\n",
      "\n",
      "  \"id\": \"http://www.loc.gov/item/2019701771/\",\n",
      "\n",
      "  \"city\": \"Unknown\",\n",
      "\n",
      "  \"landmarks\": [\"Unknown\"]\n",
      "\n",
      "}\n",
      "\n",
      "```\n",
      "\n",
      "{\n",
      "\n",
      "  \"id\": \"2019692500\",\n",
      "\n",
      "  \"city\": \"Jerusalem\",\n",
      "\n",
      "  \"landmarks\": [\"St. George's Convent\"]\n",
      "\n",
      "}\n",
      "\n",
      "{\n",
      "\n",
      "  \"id\": \"http://www.loc.gov/item/2019709213/\",\n",
      "\n",
      "  \"city\": \"Jerusalem\",\n",
      "\n",
      "  \"landmarks\": [\"Iranian Consulate\"]\n",
      "\n",
      "}\n",
      "\n",
      "```json\n",
      "\n",
      "{\n",
      "\n",
      "  \"id\": \"http://www.loc.gov/item/2019709115/\",\n",
      "\n",
      "  \"city\": \"Jerusalem\",\n",
      "\n",
      "  \"landmarks\": [\"Yeshurun Synagogue\"]\n",
      "\n",
      "}\n",
      "\n",
      "```\n",
      "\n",
      "```json\n",
      "\n",
      "{\n",
      "\n",
      "  \"id\": \"http://www.loc.gov/item/2019706305/\",\n",
      "\n",
      "  \"city\": \"Unknown\",\n",
      "\n",
      "  \"landmarks\": [\"Beersheba\"]\n",
      "\n",
      "}\n",
      "\n",
      "```\n",
      "\n",
      "{\n",
      "\n",
      "  \"id\": \"http://www.loc.gov/item/2019707678/\",\n",
      "\n",
      "  \"city\": \"Unknown\",\n",
      "\n",
      "  \"landmarks\": [\"Caesarea\"]\n",
      "\n",
      "}\n",
      "\n",
      "{\n",
      "\n",
      "  \"id\": \"2019706916\",\n",
      "\n",
      "  \"city\": \"Unknown\",\n",
      "\n",
      "  \"landmarks\": [\"Jewish shrine to the prophet Ezekiel\"]\n",
      "\n",
      "}\n",
      "\n",
      "{\n",
      "\n",
      "  \"id\": \"http://www.loc.gov/item/2019712373/\",\n",
      "\n",
      "  \"city\": \"Jerusalem\",\n",
      "\n",
      "  \"landmarks\": [\"Barclays Bank\"]\n",
      "\n",
      "}\n",
      "\n",
      "{\n",
      "\n",
      "  \"id\": \"2019696318\",\n",
      "\n",
      "  \"city\": \"Hebron\",\n",
      "\n",
      "  \"landmarks\": [\"Machpelah\"]\n",
      "\n",
      "}\n",
      "\n",
      "{\n",
      "\n",
      "  \"id\": \"http://www.loc.gov/item/2019691868/\",\n",
      "\n",
      "  \"city\": \"Unknown\",\n",
      "\n",
      "  \"landmarks\": [\"Unknown\"]\n",
      "\n",
      "}\n",
      "\n",
      "{\n",
      "\n",
      "  \"id\": \"2019697552\",\n",
      "\n",
      "  \"city\": \"Jerusalem\",\n",
      "\n",
      "  \"landmarks\": [\"Dome of the Rock\"]\n",
      "\n",
      "}\n",
      "\n",
      "{\n",
      "\n",
      "  \"id\": \"http://www.loc.gov/item/2019693605/\",\n",
      "\n",
      "  \"city\": \"Unknown\",\n",
      "\n",
      "  \"landmarks\": [\"Temple of Baal\", \"Justinian's Byzantine wall\"]\n",
      "\n",
      "}\n",
      "\n",
      "{\n",
      "\n",
      "  \"id\": \"http://www.loc.gov/item/2019695130/\",\n",
      "\n",
      "  \"city\": \"Amman\",\n",
      "\n",
      "  \"landmarks\": [\"Unknown\"]\n",
      "\n",
      "}\n",
      "\n",
      "{\n",
      "\n",
      "  \"id\": \"http://www.loc.gov/item/2019695779/\",\n",
      "\n",
      "  \"city\": \"Unknown\",\n",
      "\n",
      "  \"landmarks\": [\"Unknown\"]\n",
      "\n",
      "}\n",
      "\n",
      "{\n",
      "\n",
      "  \"id\": \"http://www.loc.gov/item/2019695347/\",\n",
      "\n",
      "  \"city\": \"Unknown\",\n",
      "\n",
      "  \"landmarks\": [\"Unknown\"]\n",
      "\n",
      "}\n",
      "\n",
      "{\n",
      "\n",
      "  \"id\": \"http://www.loc.gov/item/2019712928/\",\n",
      "\n",
      "  \"city\": \"Jerusalem\",\n",
      "\n",
      "  \"landmarks\": [\"Good Samaritan's Inn\"]\n",
      "\n",
      "}\n",
      "\n",
      "{\n",
      "\n",
      "  \"id\": \"http://www.loc.gov/item/2019701717/\",\n",
      "\n",
      "  \"city\": \"Jerusalem\",\n",
      "\n",
      "  \"landmarks\": [\"Jaffa Gate\"]\n",
      "\n",
      "}\n",
      "\n",
      "{\n",
      "\n",
      "  \"id\": \"http://www.loc.gov/item/2019705863/\",\n",
      "\n",
      "  \"city\": \"Bethany\",\n",
      "\n",
      "  \"landmarks\": [\"Ruins of House of Simon the Leper\"]\n",
      "\n",
      "}\n",
      "\n",
      "{\n",
      "\n",
      "  \"id\": \"http://www.loc.gov/item/2019702999/\",\n",
      "\n",
      "  \"city\": \"Jerusalem\",\n",
      "\n",
      "  \"landmarks\": [\"Dome of the Rock\"]\n",
      "\n",
      "}\n",
      "\n",
      "{\n",
      "\n",
      "  \"id\": \"http://www.loc.gov/item/2019705175/\",\n",
      "\n",
      "  \"city\": \"Jerusalem\",\n",
      "\n",
      "  \"landmarks\": [\"Mount of Olives\"]\n",
      "\n",
      "}\n",
      "\n",
      "```json\n",
      "\n",
      "{\n",
      "\n",
      "  \"id\": \"http://www.loc.gov/item/2019691766/\",\n",
      "\n",
      "  \"city\": \"Unknown\",\n",
      "\n",
      "  \"landmarks\": [\"Church of Annunciation\"]\n",
      "\n",
      "}\n",
      "\n",
      "```\n",
      "\n",
      "{\n",
      "\n",
      "  \"id\": \"http://www.loc.gov/item/2019709971/\",\n",
      "\n",
      "  \"city\": \"Bethlehem\",\n",
      "\n",
      "  \"landmarks\": [\"Police barracks\", \"Post office\"]\n",
      "\n",
      "}\n",
      "\n",
      "{\n",
      "\n",
      "  \"id\": \"http://www.loc.gov/item/2019694358/\",\n",
      "\n",
      "  \"city\": \"Unknown\",\n",
      "\n",
      "  \"landmarks\": [\"Caesarea Hippodrome\"]\n",
      "\n",
      "}\n",
      "\n",
      "{\n",
      "\n",
      "  \"id\": \"http://www.loc.gov/item/2019710536/\",\n",
      "\n",
      "  \"city\": \"Rishon Le-Zion\",\n",
      "\n",
      "  \"landmarks\": [\"Unknown\"]\n",
      "\n",
      "}\n",
      "\n",
      "{\n",
      "\n",
      "  \"id\": \"http://www.loc.gov/item/2019713187/\",\n",
      "\n",
      "  \"city\": \"Jerusalem\",\n",
      "\n",
      "  \"landmarks\": [\"New broadcasting studios on Queen Milisande's Way\"]\n",
      "\n",
      "}\n",
      "\n",
      "```json\n",
      "\n",
      "{\n",
      "\n",
      "  \"id\": \"2019696235\",\n",
      "\n",
      "  \"city\": \"Jerusalem\",\n",
      "\n",
      "  \"landmarks\": [\"Church of All Nations\", \"Church of the Agony\"]\n",
      "\n",
      "}\n",
      "\n",
      "```\n",
      "\n",
      "{\n",
      "\n",
      "  \"id\": \"http://www.loc.gov/item/2019702275/\",\n",
      "\n",
      "  \"city\": \"Unknown\",\n",
      "\n",
      "  \"landmarks\": [\"Palmyra, Temple of Baal\"]\n",
      "\n",
      "}\n",
      "\n",
      "{\n",
      "\n",
      "  \"id\": \"http://www.loc.gov/item/2019707058/\",\n",
      "\n",
      "  \"city\": \"Unknown\",\n",
      "\n",
      "  \"landmarks\": [\"Petra\", \"El-Habis area\", \"Sacellum on el-Habis\"]\n",
      "\n",
      "}\n",
      "\n",
      "{\n",
      "\n",
      "  \"id\": \"http://www.loc.gov/item/2019709882/\",\n",
      "\n",
      "  \"city\": \"Jerusalem\",\n",
      "\n",
      "  \"landmarks\": [\"Unknown\"]\n",
      "\n",
      "}\n",
      "\n",
      "{\n",
      "\n",
      "  \"id\": \"http://www.loc.gov/item/2019709508/\",\n",
      "\n",
      "  \"city\": \"Jerusalem\",\n",
      "\n",
      "  \"landmarks\": [\"Jericho Road\"]\n",
      "\n",
      "}\n",
      "\n",
      "{\n",
      "\n",
      "  \"id\": \"http://www.loc.gov/item/2019692595/\",\n",
      "\n",
      "  \"city\": \"Unknown\",\n",
      "\n",
      "  \"landmarks\": [\"Unknown\"]\n",
      "\n",
      "}\n",
      "\n",
      "{\n",
      "\n",
      "  \"id\": \"http://www.loc.gov/item/2019709470/\",\n",
      "\n",
      "  \"city\": \"Jerusalem\",\n",
      "\n",
      "  \"landmarks\": [\"Jaffa Gate\"]\n",
      "\n",
      "}\n",
      "\n",
      "```json\n",
      "\n",
      "{\n",
      "\n",
      "  \"id\": \"http://www.loc.gov/item/2019707907/\",\n",
      "\n",
      "  \"city\": \"Jerusalem\",\n",
      "\n",
      "  \"landmarks\": [\"St. Stephen's Gate\"]\n",
      "\n",
      "}\n",
      "\n",
      "```\n",
      "\n",
      "```json\n",
      "\n",
      "{\n",
      "\n",
      "  \"id\": \"http://www.loc.gov/item/2019706961/\",\n",
      "\n",
      "  \"city\": \"Unknown\",\n",
      "\n",
      "  \"landmarks\": [\"Unknown\"]\n",
      "\n",
      "}\n",
      "\n",
      "```\n",
      "\n",
      "```json\n",
      "\n",
      "{\n",
      "\n",
      "  \"id\": \"2019698732\",\n",
      "\n",
      "  \"city\": \"Nazareth\",\n",
      "\n",
      "  \"landmarks\": [\"Home of Christ\"]\n",
      "\n",
      "}\n",
      "\n",
      "```\n",
      "\n",
      "{\n",
      "\n",
      "  \"id\": \"http://www.loc.gov/item/2019711341/\",\n",
      "\n",
      "  \"city\": \"Jerusalem\",\n",
      "\n",
      "  \"landmarks\": [\"Y.M.C.A. Hostel\", \"Garden tea after opening\"]\n",
      "\n",
      "}\n",
      "\n",
      "{\n",
      "\n",
      "  \"id\": \"http://www.loc.gov/item/2019694177/\",\n",
      "\n",
      "  \"city\": \"Tabgha\",\n",
      "\n",
      "  \"landmarks\": [\"Plain of Gennesareth\"]\n",
      "\n",
      "}\n",
      "\n",
      "{\n",
      "\n",
      "  \"id\": \"http://www.loc.gov/item/2019694408/\",\n",
      "\n",
      "  \"city\": \"Tiberias\",\n",
      "\n",
      "  \"landmarks\": [\"Scots Mission Hospital\"]\n",
      "\n",
      "}\n",
      "\n",
      "{\n",
      "\n",
      "  \"id\": \"http://www.loc.gov/item/2019701827/\",\n",
      "\n",
      "  \"city\": \"Jerusalem\",\n",
      "\n",
      "  \"landmarks\": [\"Garden Tomb\"]\n",
      "\n",
      "}\n",
      "\n",
      "```json\n",
      "\n",
      "{\n",
      "\n",
      "  \"id\": \"http://www.loc.gov/item/2019705918/\",\n",
      "\n",
      "  \"city\": \"Istanbul\",\n",
      "\n",
      "  \"landmarks\": [\"Mosque of St. Sophia\"]\n",
      "\n",
      "}\n",
      "\n",
      "```\n",
      "\n",
      "{\n",
      "\n",
      "  \"id\": \"http://www.loc.gov/item/92500667/\",\n",
      "\n",
      "  \"city\": \"Jerusalem\",\n",
      "\n",
      "  \"landmarks\": [\"Tombs of St. James\", \"Tombs of Zachariah\", \"Valley of Kedron\"]\n",
      "\n",
      "}\n",
      "\n",
      "```json\n",
      "\n",
      "{\n",
      "\n",
      "  \"id\": \"http://www.loc.gov/item/2019700506/\",\n",
      "\n",
      "  \"city\": \"Unknown\",\n",
      "\n",
      "  \"landmarks\": [\"Unknown\"]\n",
      "\n",
      "}\n",
      "\n",
      "```\n",
      "\n",
      "{\n",
      "\n",
      "  \"id\": \"http://www.loc.gov/item/2002725076/\",\n",
      "\n",
      "  \"city\": \"Jerusalem\",\n",
      "\n",
      "  \"landmarks\": [\"Unknown\"]\n",
      "\n",
      "}\n",
      "\n",
      "{\n",
      "\n",
      "  \"id\": \"http://www.loc.gov/item/2003653058/\",\n",
      "\n",
      "  \"city\": \"Jerusalem\",\n",
      "\n",
      "  \"landmarks\": [\"Unknown\"]\n",
      "\n",
      "}\n",
      "\n",
      "```json\n",
      "\n",
      "{\n",
      "\n",
      "  \"id\": \"http://www.loc.gov/item/2019711883/\",\n",
      "\n",
      "  \"city\": \"Jerusalem\",\n",
      "\n",
      "  \"landmarks\": [\"Y.M.C.A. hostel\", \"Old Post Office\"]\n",
      "\n",
      "}\n",
      "\n",
      "```\n",
      "\n",
      "```json\n",
      "\n",
      "{\n",
      "\n",
      "  \"id\": \"2019712799\",\n",
      "\n",
      "  \"city\": \"Unknown\",\n",
      "\n",
      "  \"landmarks\": [\"Unknown\"]\n",
      "\n",
      "}\n",
      "\n",
      "```\n",
      "\n",
      "{\n",
      "\n",
      "  \"id\": \"http://www.loc.gov/item/2019693188/\",\n",
      "\n",
      "  \"city\": \"Amman\",\n",
      "\n",
      "  \"landmarks\": [\"Rabbath Amman\", \"Philadelphia\"]\n",
      "\n",
      "}\n",
      "\n",
      "{\n",
      "\n",
      "  \"id\": \"http://www.loc.gov/item/2019693170/\",\n",
      "\n",
      "  \"city\": \"Unknown\",\n",
      "\n",
      "  \"landmarks\": [\"Shobeck\"]\n",
      "\n",
      "}\n",
      "\n",
      "{\n",
      "\n",
      "  \"id\": \"2019694155\",\n",
      "\n",
      "  \"city\": \"Unknown\",\n",
      "\n",
      "  \"landmarks\": [\"Egypt. Sphinx & pyramids\"]\n",
      "\n",
      "}\n",
      "\n",
      "```json\n",
      "\n",
      "{\n",
      "\n",
      "  \"id\": \"http://www.loc.gov/item/2019698743/\",\n",
      "\n",
      "  \"city\": \"Nazareth\",\n",
      "\n",
      "  \"landmarks\": [\"Joseph's workshop\"]\n",
      "\n",
      "}\n",
      "\n",
      "```\n",
      "\n",
      "{\n",
      "\n",
      "  \"id\": \"2019710608\",\n",
      "\n",
      "  \"city\": \"Unknown\",\n",
      "\n",
      "  \"landmarks\": []\n",
      "\n",
      "}\n",
      "\n",
      "{\n",
      "\n",
      "  \"id\": \"2019697321\",\n",
      "\n",
      "  \"city\": \"Jerusalem\",\n",
      "\n",
      "  \"landmarks\": [\"Russian Chapel in Alexander Hospice\"]\n",
      "\n",
      "}\n",
      "\n",
      "{\n",
      "\n",
      "  \"id\": \"http://www.loc.gov/item/2019706831/\",\n",
      "\n",
      "  \"city\": \"Baghdad\",\n",
      "\n",
      "  \"landmarks\": [\"Unknown\"]\n",
      "\n",
      "}\n",
      "\n",
      "```json\n",
      "\n",
      "{\n",
      "\n",
      "  \"id\": \"http://www.loc.gov/item/2019698007/\",\n",
      "\n",
      "  \"city\": \"Bethlehem\",\n",
      "\n",
      "  \"landmarks\": [\"Unknown\"]\n",
      "\n",
      "}\n",
      "\n",
      "```\n",
      "\n",
      "{\n",
      "\n",
      "  \"id\": \"http://www.loc.gov/item/2019708976/\",\n",
      "\n",
      "  \"city\": \"Bethlehem\",\n",
      "\n",
      "  \"landmarks\": [\"2nd Bn. Scots Guards camp\"]\n",
      "\n",
      "}\n",
      "\n",
      "```json\n",
      "\n",
      "{\n",
      "\n",
      "  \"id\": \"http://www.loc.gov/item/2018756768/\",\n",
      "\n",
      "  \"city\": \"Jerusalem\",\n",
      "\n",
      "  \"landmarks\": [\"Mount Olivet\"]\n",
      "\n",
      "}\n",
      "\n",
      "```\n",
      "\n",
      "{\n",
      "\n",
      "  \"id\": \"http://www.loc.gov/item/2019696846/\",\n",
      "\n",
      "  \"city\": \"Unknown\",\n",
      "\n",
      "  \"landmarks\": [\"Unknown\"]\n",
      "\n",
      "}\n",
      "\n",
      "{\n",
      "\n",
      "  \"id\": \"2019701594\",\n",
      "\n",
      "  \"city\": \"Jerusalem\",\n",
      "\n",
      "  \"landmarks\": [\"Polish consulate\"]\n",
      "\n",
      "}\n",
      "\n",
      "```json\n",
      "\n",
      "{\n",
      "\n",
      "  \"id\": \"2019697001\",\n",
      "\n",
      "  \"city\": \"Tel Aviv\",\n",
      "\n",
      "  \"landmarks\": [\"Modern building completed\"]\n",
      "\n",
      "}\n",
      "\n",
      "```\n",
      "\n",
      "```json\n",
      "\n",
      "{\n",
      "\n",
      "  \"id\": \"http://www.loc.gov/item/2019703050/\",\n",
      "\n",
      "  \"city\": \"Unknown\",\n",
      "\n",
      "  \"landmarks\": [\"Unknown\"]\n",
      "\n",
      "}\n",
      "\n",
      "```\n",
      "\n",
      "{\n",
      "\n",
      "  \"id\": \"http://www.loc.gov/item/2019699952/\",\n",
      "\n",
      "  \"city\": \"Jerusalem\",\n",
      "\n",
      "  \"landmarks\": [\"Tower of David\"]\n",
      "\n",
      "}\n",
      "\n",
      "{\n",
      "\n",
      "  \"id\": \"http://www.loc.gov/item/2019703833/\",\n",
      "\n",
      "  \"city\": \"Jerusalem\",\n",
      "\n",
      "  \"landmarks\": [\"Kidron Valley\", \"Absalom's Pillar\"]\n",
      "\n",
      "}\n",
      "\n",
      "{\n",
      "\n",
      "  \"id\": \"http://www.loc.gov/item/2019692993/\",\n",
      "\n",
      "  \"city\": \"Unknown\",\n",
      "\n",
      "  \"landmarks\": [\"Pyramids of Gizeh, Sakkara\"]\n",
      "\n",
      "}\n",
      "\n",
      "{\n",
      "\n",
      "  \"id\": \"http://www.loc.gov/item/2019707533/\",\n",
      "\n",
      "  \"city\": \"Jerusalem\",\n",
      "\n",
      "  \"landmarks\": [\"Jerusalem Water Works\", \"Ras el Ain source of River Auja\"]\n",
      "\n",
      "}\n",
      "\n",
      "{\n",
      "\n",
      "  \"id\": \"2019695607\",\n",
      "\n",
      "  \"city\": \"Unknown\",\n",
      "\n",
      "  \"landmarks\": [\"Unknown\"]\n",
      "\n",
      "}\n",
      "\n",
      "{\n",
      "\n",
      "  \"id\": \"http://www.loc.gov/item/2019699903/\",\n",
      "\n",
      "  \"city\": \"Jerusalem\",\n",
      "\n",
      "  \"landmarks\": [\"Church of the Ecce Homo\"]\n",
      "\n",
      "}\n",
      "\n",
      "{\n",
      "\n",
      "  \"id\": \"http://www.loc.gov/item/2019694100/\",\n",
      "\n",
      "  \"city\": \"Unknown\",\n",
      "\n",
      "  \"landmarks\": [\"Egypt. Pyramids of Gizeh\"]\n",
      "\n",
      "}\n",
      "\n",
      "{\n",
      "\n",
      "  \"id\": \"http://www.loc.gov/item/2019709197/\",\n",
      "\n",
      "  \"city\": \"Unknown\",\n",
      "\n",
      "  \"landmarks\": [\"Concrete Road House, Haifa-Acre Junction\"]\n",
      "\n",
      "}\n",
      "\n",
      "{\n",
      "\n",
      "  \"id\": \"http://www.loc.gov/item/2019695345/\",\n",
      "\n",
      "  \"city\": \"Jerusalem\",\n",
      "\n",
      "  \"landmarks\": [\"Ophel\", \"City of David\"]\n",
      "\n",
      "}\n",
      "\n",
      "{\n",
      "\n",
      "  \"id\": \"http://www.loc.gov/item/2019695965/\",\n",
      "\n",
      "  \"city\": \"Tel Aviv\",\n",
      "\n",
      "  \"landmarks\": [\"Unknown\"]\n",
      "\n",
      "}\n",
      "\n",
      "```json\n",
      "\n",
      "{\n",
      "\n",
      "  \"id\": \"http://www.loc.gov/item/2019699116/\",\n",
      "\n",
      "  \"city\": \"Jerusalem\",\n",
      "\n",
      "  \"landmarks\": [\"Government House\"]\n",
      "\n",
      "}\n",
      "\n",
      "```\n",
      "\n",
      "{\n",
      "\n",
      "  \"id\": \"2019696832\",\n",
      "\n",
      "  \"city\": \"Unknown\",\n",
      "\n",
      "  \"landmarks\": [\"Unknown\"]\n",
      "\n",
      "}\n",
      "\n"
     ]
    }
   ],
   "source": [
    "# To read the saved results later\n",
    "with open('results.txt', 'r') as file:\n",
    "    saved_results = file.readlines()\n",
    "    for result in saved_results:\n",
    "        print(result)"
   ]
  },
  {
   "cell_type": "code",
   "execution_count": null,
   "id": "c76603fc",
   "metadata": {},
   "outputs": [],
   "source": []
  }
 ],
 "metadata": {
  "kernelspec": {
   "display_name": "Python 3 (ipykernel)",
   "language": "python",
   "name": "python3"
  },
  "language_info": {
   "codemirror_mode": {
    "name": "ipython",
    "version": 3
   },
   "file_extension": ".py",
   "mimetype": "text/x-python",
   "name": "python",
   "nbconvert_exporter": "python",
   "pygments_lexer": "ipython3",
   "version": "3.9.12"
  }
 },
 "nbformat": 4,
 "nbformat_minor": 5
}
