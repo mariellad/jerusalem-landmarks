{
 "cells": [
  {
   "cell_type": "code",
   "execution_count": 16,
   "id": "a227362c",
   "metadata": {},
   "outputs": [],
   "source": [
    "import pandas as pd\n",
    "import openai\n",
    "import time\n",
    "import requests\n",
    "from tqdm import tqdm\n",
    "from tenacity import retry, wait_exponential, stop_after_attempt, retry_if_exception_type, RetryError\n",
    "\n",
    "#insert openAI key\n",
    "openai.api_key = 'my-key'"
   ]
  },
  {
   "cell_type": "code",
   "execution_count": 17,
   "id": "8c356bea",
   "metadata": {},
   "outputs": [],
   "source": [
    "# read file containing 300 randomly slected urls from the total urls \n",
    "#that we got from the search result: jerusalem, from the LOC\n",
    "with open('./random_jerusalem.csv', 'r') as file:\n",
    "      df = (pd.read_csv(file))"
   ]
  },
  {
   "cell_type": "code",
   "execution_count": 18,
   "id": "f47a81ae",
   "metadata": {},
   "outputs": [],
   "source": [
    "#convert csv to list\n",
    "random_urls = df['URLs'].to_list()"
   ]
  },
  {
   "cell_type": "code",
   "execution_count": 20,
   "id": "57d435c6",
   "metadata": {},
   "outputs": [
    {
     "ename": "AttributeError",
     "evalue": "'list' object has no attribute 'head'",
     "output_type": "error",
     "traceback": [
      "\u001b[1;31m---------------------------------------------------------------------------\u001b[0m",
      "\u001b[1;31mAttributeError\u001b[0m                            Traceback (most recent call last)",
      "Input \u001b[1;32mIn [20]\u001b[0m, in \u001b[0;36m<cell line: 1>\u001b[1;34m()\u001b[0m\n\u001b[1;32m----> 1\u001b[0m random_urls \u001b[38;5;241m=\u001b[39m \u001b[43mrandom_urls\u001b[49m\u001b[38;5;241;43m.\u001b[39;49m\u001b[43mhead\u001b[49m(\u001b[38;5;241m1000\u001b[39m)\n",
      "\u001b[1;31mAttributeError\u001b[0m: 'list' object has no attribute 'head'"
     ]
    }
   ],
   "source": [
    "random_urls = random_urls[:1000]"
   ]
  },
  {
   "cell_type": "code",
   "execution_count": null,
   "id": "f4c90999",
   "metadata": {},
   "outputs": [
    {
     "name": "stderr",
     "output_type": "stream",
     "text": [
      "Processing Batch:   0%|                                                                      | 0/20 [00:03<?, ?image/s]"
     ]
    },
    {
     "name": "stdout",
     "output_type": "stream",
     "text": [
      "Processing image http://www.loc.gov/item/2019698317/...\n"
     ]
    },
    {
     "name": "stderr",
     "output_type": "stream",
     "text": [
      "Processing Batch:   0%|                                                                      | 0/20 [00:07<?, ?image/s]"
     ]
    },
    {
     "name": "stdout",
     "output_type": "stream",
     "text": [
      "Result: ```json\n",
      "{\n",
      "  \"id\": \"2019698317\",\n",
      "  \"city\": \"Jerusalem\",\n",
      "  \"landmarks\": [\"St. John Hostel\", \"German Church\", \"Church of Holy Sepulchre\"]\n",
      "}\n",
      "```\n"
     ]
    },
    {
     "name": "stderr",
     "output_type": "stream",
     "text": [
      "Processing Batch:   5%|███                                                           | 1/20 [00:14<04:01, 12.72s/image]"
     ]
    },
    {
     "name": "stdout",
     "output_type": "stream",
     "text": [
      "Processing image http://www.loc.gov/item/2004674263/...\n"
     ]
    },
    {
     "name": "stderr",
     "output_type": "stream",
     "text": [
      "Processing Batch:   5%|███                                                           | 1/20 [00:17<04:01, 12.72s/image]"
     ]
    },
    {
     "name": "stdout",
     "output_type": "stream",
     "text": [
      "Result: ```json\n",
      "{\n",
      "  \"id\": \"2004674263\",\n",
      "  \"city\": \"Jerusalem\",\n",
      "  \"landmarks\": [\"Mount of Olives\"]\n",
      "}\n",
      "```\n"
     ]
    },
    {
     "name": "stderr",
     "output_type": "stream",
     "text": [
      "Processing Batch:  10%|██████▏                                                       | 2/20 [00:24<03:13, 10.76s/image]"
     ]
    },
    {
     "name": "stdout",
     "output_type": "stream",
     "text": [
      "Processing image http://www.loc.gov/item/2001695436/...\n"
     ]
    },
    {
     "name": "stderr",
     "output_type": "stream",
     "text": [
      "Processing Batch:  10%|██████▏                                                       | 2/20 [00:27<03:13, 10.76s/image]"
     ]
    },
    {
     "name": "stdout",
     "output_type": "stream",
     "text": [
      "Result: ```json\n",
      "{\n",
      "  \"id\": \"2001695436\",\n",
      "  \"city\": \"Jerusalem\",\n",
      "  \"landmarks\": [\"Unknown\"]\n",
      "}\n",
      "```\n"
     ]
    },
    {
     "name": "stderr",
     "output_type": "stream",
     "text": [
      "Processing Batch:  15%|█████████▎                                                    | 3/20 [00:34<02:58, 10.48s/image]"
     ]
    },
    {
     "name": "stdout",
     "output_type": "stream",
     "text": [
      "Processing image http://www.loc.gov/item/93513671/...\n"
     ]
    },
    {
     "name": "stderr",
     "output_type": "stream",
     "text": [
      "Processing Batch:  15%|█████████▎                                                    | 3/20 [00:38<02:58, 10.48s/image]"
     ]
    },
    {
     "name": "stdout",
     "output_type": "stream",
     "text": [
      "Result: ```json\n",
      "{\n",
      "  \"id\": \"93513671\",\n",
      "  \"city\": \"Jerusalem\",\n",
      "  \"landmarks\": [\"Jaffa Gate\"]\n",
      "}\n",
      "```\n"
     ]
    },
    {
     "name": "stderr",
     "output_type": "stream",
     "text": [
      "Processing Batch:  20%|████████████▍                                                 | 4/20 [00:45<02:52, 10.79s/image]"
     ]
    },
    {
     "name": "stdout",
     "output_type": "stream",
     "text": [
      "Processing image http://www.loc.gov/item/2019691596/...\n"
     ]
    },
    {
     "name": "stderr",
     "output_type": "stream",
     "text": [
      "Processing Batch:  20%|████████████▍                                                 | 4/20 [00:49<02:52, 10.79s/image]"
     ]
    },
    {
     "name": "stdout",
     "output_type": "stream",
     "text": [
      "Result: ```json\n",
      "{\n",
      "  \"id\": \"2019691596\",\n",
      "  \"city\": \"Jerusalem\",\n",
      "  \"landmarks\": [\"Gethsemane\"]\n",
      "}\n",
      "```\n"
     ]
    },
    {
     "name": "stderr",
     "output_type": "stream",
     "text": [
      "Processing Batch:  25%|███████████████▌                                              | 5/20 [00:57<02:42, 10.83s/image]"
     ]
    },
    {
     "name": "stdout",
     "output_type": "stream",
     "text": [
      "Processing image http://www.loc.gov/item/2001695420/...\n"
     ]
    },
    {
     "name": "stderr",
     "output_type": "stream",
     "text": [
      "Processing Batch:  25%|███████████████▌                                              | 5/20 [01:00<02:42, 10.83s/image]"
     ]
    },
    {
     "name": "stdout",
     "output_type": "stream",
     "text": [
      "Result: ```json\n",
      "{\n",
      "  \"id\": \"2001695420\",\n",
      "  \"city\": \"Jerusalem\",\n",
      "  \"landmarks\": [\"Jaffa Gate\"]\n",
      "}\n",
      "```\n"
     ]
    },
    {
     "name": "stderr",
     "output_type": "stream",
     "text": [
      "Processing Batch:  30%|██████████████████▌                                           | 6/20 [01:08<02:34, 11.03s/image]"
     ]
    },
    {
     "name": "stdout",
     "output_type": "stream",
     "text": [
      "Processing image http://www.loc.gov/item/2019697934/...\n"
     ]
    },
    {
     "name": "stderr",
     "output_type": "stream",
     "text": [
      "Processing Batch:  30%|██████████████████▌                                           | 6/20 [01:11<02:34, 11.03s/image]"
     ]
    },
    {
     "name": "stdout",
     "output_type": "stream",
     "text": [
      "Result: ```json\n",
      "{\n",
      "  \"id\": \"2019697934\",\n",
      "  \"city\": \"Jerusalem\",\n",
      "  \"landmarks\": [\"Mount of Olives\"]\n",
      "}\n",
      "```\n"
     ]
    },
    {
     "name": "stderr",
     "output_type": "stream",
     "text": [
      "Processing Batch:  35%|█████████████████████▋                                        | 7/20 [01:18<02:22, 10.99s/image]"
     ]
    },
    {
     "name": "stdout",
     "output_type": "stream",
     "text": [
      "Processing image http://www.loc.gov/item/2019698428/...\n"
     ]
    },
    {
     "name": "stderr",
     "output_type": "stream",
     "text": [
      "Processing Batch:  35%|█████████████████████▋                                        | 7/20 [01:22<02:22, 10.99s/image]"
     ]
    },
    {
     "name": "stdout",
     "output_type": "stream",
     "text": [
      "Result: ```json\n",
      "{\n",
      "  \"id\": \"2019698428\",\n",
      "  \"city\": \"Jerusalem\",\n",
      "  \"landmarks\": [\"Mount of Olives\"]\n",
      "}\n",
      "```\n"
     ]
    },
    {
     "name": "stderr",
     "output_type": "stream",
     "text": [
      "Processing Batch:  40%|████████████████████████▊                                     | 8/20 [01:30<02:11, 10.92s/image]"
     ]
    },
    {
     "name": "stdout",
     "output_type": "stream",
     "text": [
      "Processing image http://www.loc.gov/item/2019698441/...\n"
     ]
    },
    {
     "name": "stderr",
     "output_type": "stream",
     "text": [
      "Processing Batch:  40%|████████████████████████▊                                     | 8/20 [01:34<02:11, 10.92s/image]"
     ]
    },
    {
     "name": "stdout",
     "output_type": "stream",
     "text": [
      "Result: ```json\n",
      "{\n",
      "  \"id\": \"2019698441\",\n",
      "  \"city\": \"Jerusalem\",\n",
      "  \"landmarks\": [\"Mount of Olives\", \"Temple Mount\"]\n",
      "}\n",
      "```\n"
     ]
    },
    {
     "name": "stderr",
     "output_type": "stream",
     "text": [
      "Processing Batch:  45%|███████████████████████████▉                                  | 9/20 [01:40<02:02, 11.12s/image]"
     ]
    },
    {
     "name": "stdout",
     "output_type": "stream",
     "text": [
      "Processing image http://www.loc.gov/item/2019698452/...\n"
     ]
    },
    {
     "name": "stderr",
     "output_type": "stream",
     "text": [
      "Processing Batch:  45%|███████████████████████████▉                                  | 9/20 [01:44<02:02, 11.12s/image]"
     ]
    },
    {
     "name": "stdout",
     "output_type": "stream",
     "text": [
      "Result: ```json\n",
      "{\n",
      "  \"id\": \"2019698452\",\n",
      "  \"city\": \"Jerusalem\",\n",
      "  \"landmarks\": [\"Mount of Olives\"]\n",
      "}\n",
      "```\n"
     ]
    },
    {
     "name": "stderr",
     "output_type": "stream",
     "text": [
      "Processing Batch:  50%|██████████████████████████████▌                              | 10/20 [01:51<01:48, 10.81s/image]"
     ]
    },
    {
     "name": "stdout",
     "output_type": "stream",
     "text": [
      "Processing image http://www.loc.gov/item/2019698443/...\n"
     ]
    },
    {
     "name": "stderr",
     "output_type": "stream",
     "text": [
      "Processing Batch:  50%|██████████████████████████████▌                              | 10/20 [01:56<01:48, 10.81s/image]"
     ]
    },
    {
     "name": "stdout",
     "output_type": "stream",
     "text": [
      "Result: ```json\n",
      "{\n",
      "  \"id\": \"2019698443\",\n",
      "  \"city\": \"Jerusalem\",\n",
      "  \"landmarks\": [\"Mount of Olives\"]\n",
      "}\n",
      "```\n"
     ]
    },
    {
     "name": "stderr",
     "output_type": "stream",
     "text": [
      "Processing Batch:  55%|█████████████████████████████████▌                           | 11/20 [02:03<01:40, 11.16s/image]"
     ]
    },
    {
     "name": "stdout",
     "output_type": "stream",
     "text": [
      "Processing image http://www.loc.gov/item/2019698450/...\n"
     ]
    },
    {
     "name": "stderr",
     "output_type": "stream",
     "text": [
      "Processing Batch:  55%|█████████████████████████████████▌                           | 11/20 [02:10<01:40, 11.16s/image]"
     ]
    },
    {
     "name": "stdout",
     "output_type": "stream",
     "text": [
      "Result: ```json\n",
      "{\n",
      "  \"id\": \"2019698450\",\n",
      "  \"city\": \"Jerusalem\",\n",
      "  \"landmarks\": [\"Mount of Olives\"]\n",
      "}\n",
      "```\n"
     ]
    },
    {
     "name": "stderr",
     "output_type": "stream",
     "text": [
      "Processing Batch:  60%|████████████████████████████████████▌                        | 12/20 [02:17<01:37, 12.18s/image]"
     ]
    },
    {
     "name": "stdout",
     "output_type": "stream",
     "text": [
      "Processing image http://www.loc.gov/item/2019698451/...\n"
     ]
    },
    {
     "name": "stderr",
     "output_type": "stream",
     "text": [
      "Processing Batch:  60%|████████████████████████████████████▌                        | 12/20 [02:19<01:37, 12.18s/image]"
     ]
    },
    {
     "name": "stdout",
     "output_type": "stream",
     "text": [
      "Result: ```json\n",
      "{\n",
      "  \"id\": \"2019698451\",\n",
      "  \"city\": \"Jerusalem\",\n",
      "  \"landmarks\": [\"Mount of Olives\"]\n",
      "}\n",
      "```\n"
     ]
    },
    {
     "name": "stderr",
     "output_type": "stream",
     "text": [
      "Processing Batch:  65%|███████████████████████████████████████▋                     | 13/20 [02:27<01:19, 11.30s/image]"
     ]
    },
    {
     "name": "stdout",
     "output_type": "stream",
     "text": [
      "Processing image http://www.loc.gov/item/2001695441/...\n"
     ]
    },
    {
     "name": "stderr",
     "output_type": "stream",
     "text": [
      "Processing Batch:  65%|███████████████████████████████████████▋                     | 13/20 [02:30<01:19, 11.30s/image]"
     ]
    },
    {
     "name": "stdout",
     "output_type": "stream",
     "text": [
      "Result: ```json\n",
      "{\n",
      "  \"id\": \"2001695441\",\n",
      "  \"city\": \"Jerusalem\",\n",
      "  \"landmarks\": [\"Unknown\"]\n",
      "}\n",
      "```\n"
     ]
    },
    {
     "name": "stderr",
     "output_type": "stream",
     "text": [
      "Processing Batch:  70%|██████████████████████████████████████████▋                  | 14/20 [02:37<01:06, 11.10s/image]"
     ]
    },
    {
     "name": "stdout",
     "output_type": "stream",
     "text": [
      "Processing image http://www.loc.gov/item/2019696011/...\n"
     ]
    },
    {
     "name": "stderr",
     "output_type": "stream",
     "text": [
      "Processing Batch:  70%|██████████████████████████████████████████▋                  | 14/20 [02:42<01:06, 11.10s/image]"
     ]
    },
    {
     "name": "stdout",
     "output_type": "stream",
     "text": [
      "Result: ```json\n",
      "{\n",
      "  \"id\": \"2019696011\",\n",
      "  \"city\": \"Jerusalem\",\n",
      "  \"landmarks\": [\"Jerusalem water works\", \"Reservoir\"]\n",
      "}\n",
      "```\n"
     ]
    },
    {
     "name": "stderr",
     "output_type": "stream",
     "text": [
      "Processing Batch:  75%|█████████████████████████████████████████████▊               | 15/20 [02:51<00:56, 11.32s/image]"
     ]
    },
    {
     "name": "stdout",
     "output_type": "stream",
     "text": [
      "Processing image http://www.loc.gov/item/2019705454/...\n"
     ]
    },
    {
     "name": "stderr",
     "output_type": "stream",
     "text": [
      "Processing Batch:  75%|█████████████████████████████████████████████▊               | 15/20 [02:54<00:56, 11.32s/image]"
     ]
    },
    {
     "name": "stdout",
     "output_type": "stream",
     "text": [
      "Result: ```json\n",
      "{\n",
      "  \"id\": \"2019705454\",\n",
      "  \"city\": \"Jerusalem\",\n",
      "  \"landmarks\": [\"Gordon's Calvary\"]\n",
      "}\n",
      "```\n"
     ]
    },
    {
     "name": "stderr",
     "output_type": "stream",
     "text": [
      "Processing Batch:  80%|████████████████████████████████████████████████▊            | 16/20 [03:01<00:46, 11.50s/image]"
     ]
    },
    {
     "name": "stdout",
     "output_type": "stream",
     "text": [
      "Processing image http://www.loc.gov/item/2019705461/...\n"
     ]
    },
    {
     "name": "stderr",
     "output_type": "stream",
     "text": [
      "Processing Batch:  80%|████████████████████████████████████████████████▊            | 16/20 [03:03<00:46, 11.50s/image]"
     ]
    },
    {
     "name": "stdout",
     "output_type": "stream",
     "text": [
      "Result: ```json\n",
      "{\n",
      "  \"id\": \"2019705461\",\n",
      "  \"city\": \"Jerusalem\",\n",
      "  \"landmarks\": [\"Mt. Bezetha\"]\n",
      "}\n",
      "```\n"
     ]
    },
    {
     "name": "stderr",
     "output_type": "stream",
     "text": [
      "Processing Batch:  85%|███████████████████████████████████████████████████▊         | 17/20 [03:12<00:32, 10.83s/image]"
     ]
    },
    {
     "name": "stdout",
     "output_type": "stream",
     "text": [
      "Processing image http://www.loc.gov/item/2019705413/...\n"
     ]
    },
    {
     "name": "stderr",
     "output_type": "stream",
     "text": [
      "Processing Batch:  85%|███████████████████████████████████████████████████▊         | 17/20 [03:20<00:32, 10.83s/image]"
     ]
    },
    {
     "name": "stdout",
     "output_type": "stream",
     "text": [
      "Result: ```json\n",
      "{\n",
      "  \"id\": \"2019705413\",\n",
      "  \"city\": \"Jerusalem\",\n",
      "  \"landmarks\": [\"Moriah\", \"Olivet\"]\n",
      "}\n",
      "```\n"
     ]
    },
    {
     "name": "stderr",
     "output_type": "stream",
     "text": [
      "Processing Batch:  90%|██████████████████████████████████████████████████████▉      | 18/20 [03:29<00:25, 12.54s/image]"
     ]
    },
    {
     "name": "stdout",
     "output_type": "stream",
     "text": [
      "Processing image http://www.loc.gov/item/2019697344/...\n"
     ]
    },
    {
     "name": "stderr",
     "output_type": "stream",
     "text": [
      "Processing Batch:  90%|██████████████████████████████████████████████████████▉      | 18/20 [03:33<00:25, 12.54s/image]"
     ]
    },
    {
     "name": "stdout",
     "output_type": "stream",
     "text": [
      "Result: ```json\n",
      "{\n",
      "  \"id\": \"2019697344\",\n",
      "  \"city\": \"Jerusalem\",\n",
      "  \"landmarks\": [\"4th Station of the Cross\"]\n",
      "}\n",
      "```\n"
     ]
    },
    {
     "name": "stderr",
     "output_type": "stream",
     "text": [
      "Processing Batch:  95%|█████████████████████████████████████████████████████████▉   | 19/20 [03:42<00:12, 12.90s/image]"
     ]
    },
    {
     "name": "stdout",
     "output_type": "stream",
     "text": [
      "Processing image http://www.loc.gov/item/2019694426/...\n"
     ]
    },
    {
     "name": "stderr",
     "output_type": "stream",
     "text": [
      "Processing Batch:  95%|█████████████████████████████████████████████████████████▉   | 19/20 [03:47<00:12, 12.90s/image]"
     ]
    },
    {
     "name": "stdout",
     "output_type": "stream",
     "text": [
      "Result: ```json\n",
      "{\n",
      "  \"id\": \"2019694426\",\n",
      "  \"city\": \"Jerusalem\",\n",
      "  \"landmarks\": [\"Unknown\"]\n",
      "}\n",
      "```\n"
     ]
    },
    {
     "name": "stderr",
     "output_type": "stream",
     "text": [
      "Processing Batch: 100%|█████████████████████████████████████████████████████████████| 20/20 [03:52<00:00, 11.62s/image]\n"
     ]
    },
    {
     "name": "stdout",
     "output_type": "stream",
     "text": [
      "Completed a batch. Pausing for 15 minutes before starting the next batch.\n"
     ]
    },
    {
     "name": "stderr",
     "output_type": "stream",
     "text": [
      "Processing Batch:   0%|                                                                      | 0/20 [00:02<?, ?image/s]"
     ]
    },
    {
     "name": "stdout",
     "output_type": "stream",
     "text": [
      "Processing image http://www.loc.gov/item/2019694427/...\n"
     ]
    },
    {
     "name": "stderr",
     "output_type": "stream",
     "text": [
      "Processing Batch:   0%|                                                                      | 0/20 [00:05<?, ?image/s]"
     ]
    },
    {
     "name": "stdout",
     "output_type": "stream",
     "text": [
      "Result: ```json\n",
      "{\n",
      "  \"id\": \"2019694427\",\n",
      "  \"city\": \"Jerusalem\",\n",
      "  \"landmarks\": [\"Unknown\"]\n",
      "}\n",
      "```\n"
     ]
    },
    {
     "name": "stderr",
     "output_type": "stream",
     "text": [
      "Processing Batch:   5%|███                                                           | 1/20 [00:13<03:20, 10.54s/image]"
     ]
    },
    {
     "name": "stdout",
     "output_type": "stream",
     "text": [
      "Processing image http://www.loc.gov/item/2019694428/...\n"
     ]
    },
    {
     "name": "stderr",
     "output_type": "stream",
     "text": [
      "Processing Batch:   5%|███                                                           | 1/20 [00:17<03:20, 10.54s/image]"
     ]
    },
    {
     "name": "stdout",
     "output_type": "stream",
     "text": [
      "Result: ```json\n",
      "{\n",
      "  \"id\": \"2019694428\",\n",
      "  \"city\": \"Jerusalem\",\n",
      "  \"landmarks\": [\"Unknown\"]\n",
      "}\n",
      "```\n"
     ]
    },
    {
     "name": "stderr",
     "output_type": "stream",
     "text": [
      "Processing Batch:  10%|██████▏                                                       | 2/20 [00:24<03:20, 11.12s/image]"
     ]
    },
    {
     "name": "stdout",
     "output_type": "stream",
     "text": [
      "Processing image http://www.loc.gov/item/2019694429/...\n"
     ]
    },
    {
     "name": "stderr",
     "output_type": "stream",
     "text": [
      "Processing Batch:  10%|██████▏                                                       | 2/20 [00:27<03:20, 11.12s/image]"
     ]
    },
    {
     "name": "stdout",
     "output_type": "stream",
     "text": [
      "Result: ```json\n",
      "{\n",
      "  \"id\": \"2019694429\",\n",
      "  \"city\": \"Jerusalem\",\n",
      "  \"landmarks\": [\"Unknown\"]\n",
      "}\n",
      "```\n"
     ]
    },
    {
     "name": "stderr",
     "output_type": "stream",
     "text": [
      "Processing Batch:  15%|█████████▎                                                    | 3/20 [00:35<03:06, 10.98s/image]"
     ]
    },
    {
     "name": "stdout",
     "output_type": "stream",
     "text": [
      "Processing image http://www.loc.gov/item/2019694430/...\n"
     ]
    },
    {
     "name": "stderr",
     "output_type": "stream",
     "text": [
      "Processing Batch:  15%|█████████▎                                                    | 3/20 [00:38<03:06, 10.98s/image]"
     ]
    },
    {
     "name": "stdout",
     "output_type": "stream",
     "text": [
      "Result: ```json\n",
      "{\n",
      "  \"id\": \"2019694430\",\n",
      "  \"city\": \"Jerusalem\",\n",
      "  \"landmarks\": [\"Unknown\"]\n",
      "}\n",
      "```\n"
     ]
    },
    {
     "name": "stderr",
     "output_type": "stream",
     "text": [
      "Processing Batch:  20%|████████████▍                                                 | 4/20 [00:46<02:54, 10.89s/image]"
     ]
    },
    {
     "name": "stdout",
     "output_type": "stream",
     "text": [
      "Processing image http://www.loc.gov/item/2019694452/...\n"
     ]
    },
    {
     "name": "stderr",
     "output_type": "stream",
     "text": [
      "Processing Batch:  20%|████████████▍                                                 | 4/20 [00:50<02:54, 10.89s/image]"
     ]
    },
    {
     "name": "stdout",
     "output_type": "stream",
     "text": [
      "Result: ```json\n",
      "{\n",
      "  \"id\": \"2019694452\",\n",
      "  \"city\": \"Jerusalem\",\n",
      "  \"landmarks\": [\"Unknown\"]\n",
      "}\n",
      "```\n"
     ]
    },
    {
     "name": "stderr",
     "output_type": "stream",
     "text": [
      "Processing Batch:  25%|███████████████▌                                              | 5/20 [00:57<02:49, 11.33s/image]"
     ]
    },
    {
     "name": "stdout",
     "output_type": "stream",
     "text": [
      "Processing image http://www.loc.gov/item/2019697371/...\n"
     ]
    },
    {
     "name": "stderr",
     "output_type": "stream",
     "text": [
      "Processing Batch:  25%|███████████████▌                                              | 5/20 [01:00<02:49, 11.33s/image]"
     ]
    },
    {
     "name": "stdout",
     "output_type": "stream",
     "text": [
      "Result: ```json\n",
      "{\n",
      "  \"id\": \"2019697371\",\n",
      "  \"city\": \"Jerusalem\",\n",
      "  \"landmarks\": [\"Unknown\"]\n",
      "}\n",
      "```\n"
     ]
    },
    {
     "name": "stderr",
     "output_type": "stream",
     "text": [
      "Processing Batch:  30%|██████████████████▌                                           | 6/20 [01:11<02:30, 10.77s/image]"
     ]
    },
    {
     "name": "stdout",
     "output_type": "stream",
     "text": [
      "Processing image http://www.loc.gov/item/2019697382/...\n"
     ]
    },
    {
     "name": "stderr",
     "output_type": "stream",
     "text": [
      "Processing Batch:  30%|██████████████████▌                                           | 6/20 [01:15<02:30, 10.77s/image]"
     ]
    },
    {
     "name": "stdout",
     "output_type": "stream",
     "text": [
      "Result: ```json\n",
      "{\n",
      "  \"id\": \"2019697382\",\n",
      "  \"city\": \"Jerusalem\",\n",
      "  \"landmarks\": [\"Unknown\"]\n",
      "}\n",
      "```\n"
     ]
    },
    {
     "name": "stderr",
     "output_type": "stream",
     "text": [
      "Processing Batch:  35%|█████████████████████▋                                        | 7/20 [01:22<02:36, 12.02s/image]"
     ]
    },
    {
     "name": "stdout",
     "output_type": "stream",
     "text": [
      "Processing image http://www.loc.gov/item/2019697385/...\n"
     ]
    },
    {
     "name": "stderr",
     "output_type": "stream",
     "text": [
      "Processing Batch:  35%|█████████████████████▋                                        | 7/20 [01:25<02:36, 12.02s/image]"
     ]
    },
    {
     "name": "stdout",
     "output_type": "stream",
     "text": [
      "Result: ```json\n",
      "{\n",
      "  \"id\": \"2019697385\",\n",
      "  \"city\": \"Jerusalem\",\n",
      "  \"landmarks\": [\"Unknown\"]\n",
      "}\n",
      "```\n"
     ]
    },
    {
     "name": "stderr",
     "output_type": "stream",
     "text": [
      "Processing Batch:  40%|████████████████████████▊                                     | 8/20 [01:34<02:17, 11.47s/image]"
     ]
    },
    {
     "name": "stdout",
     "output_type": "stream",
     "text": [
      "Processing image http://www.loc.gov/item/2019705499/...\n"
     ]
    },
    {
     "name": "stderr",
     "output_type": "stream",
     "text": [
      "Processing Batch:  40%|████████████████████████▊                                     | 8/20 [01:37<02:17, 11.47s/image]"
     ]
    },
    {
     "name": "stdout",
     "output_type": "stream",
     "text": [
      "Result: ```json\n",
      "{\n",
      "  \"id\": \"2019705499\",\n",
      "  \"city\": \"Jerusalem\",\n",
      "  \"landmarks\": [\"Ambassador Hotel\", \"Mt. Scopus\"]\n",
      "}\n",
      "```\n"
     ]
    },
    {
     "name": "stderr",
     "output_type": "stream",
     "text": [
      "Processing Batch:  45%|███████████████████████████▉                                  | 9/20 [01:44<02:07, 11.62s/image]"
     ]
    },
    {
     "name": "stdout",
     "output_type": "stream",
     "text": [
      "Processing image http://www.loc.gov/item/cmns001217/...\n"
     ]
    },
    {
     "name": "stderr",
     "output_type": "stream",
     "text": [
      "Processing Batch:  45%|███████████████████████████▉                                  | 9/20 [01:48<02:07, 11.62s/image]"
     ]
    },
    {
     "name": "stdout",
     "output_type": "stream",
     "text": [
      "Result: ```json\n",
      "{\n",
      "  \"id\": \"http://www.loc.gov/item/cmns001217/\",\n",
      "  \"city\": \"Unknown\",\n",
      "  \"landmarks\": [\"Gail Ballard's garden\"]\n",
      "}\n",
      "```\n"
     ]
    },
    {
     "name": "stderr",
     "output_type": "stream",
     "text": [
      "Processing Batch:  50%|██████████████████████████████▌                              | 10/20 [01:56<01:54, 11.45s/image]"
     ]
    },
    {
     "name": "stdout",
     "output_type": "stream",
     "text": [
      "Processing image http://www.loc.gov/item/2019697374/...\n"
     ]
    },
    {
     "name": "stderr",
     "output_type": "stream",
     "text": [
      "Processing Batch:  50%|██████████████████████████████▌                              | 10/20 [01:59<01:54, 11.45s/image]"
     ]
    },
    {
     "name": "stdout",
     "output_type": "stream",
     "text": [
      "Result: ```json\n",
      "{\n",
      "  \"id\": \"2019697374\",\n",
      "  \"city\": \"Jerusalem\",\n",
      "  \"landmarks\": [\"David's Tomb\"]\n",
      "}\n",
      "```\n"
     ]
    },
    {
     "name": "stderr",
     "output_type": "stream",
     "text": [
      "Processing Batch:  55%|█████████████████████████████████▌                           | 11/20 [02:07<01:42, 11.40s/image]"
     ]
    },
    {
     "name": "stdout",
     "output_type": "stream",
     "text": [
      "Processing image http://www.loc.gov/item/2019697377/...\n"
     ]
    },
    {
     "name": "stderr",
     "output_type": "stream",
     "text": [
      "Processing Batch:  55%|█████████████████████████████████▌                           | 11/20 [02:10<01:42, 11.40s/image]"
     ]
    },
    {
     "name": "stdout",
     "output_type": "stream",
     "text": [
      "Result: ```json\n",
      "{\n",
      "  \"id\": \"2019697377\",\n",
      "  \"city\": \"Jerusalem\",\n",
      "  \"landmarks\": [\"Church of the Lord's Prayer\"]\n",
      "}\n",
      "```\n"
     ]
    },
    {
     "name": "stderr",
     "output_type": "stream",
     "text": [
      "Processing Batch:  60%|████████████████████████████████████▌                        | 12/20 [02:17<01:28, 11.10s/image]"
     ]
    },
    {
     "name": "stdout",
     "output_type": "stream",
     "text": [
      "Processing image http://www.loc.gov/item/2019697381/...\n"
     ]
    },
    {
     "name": "stderr",
     "output_type": "stream",
     "text": [
      "Processing Batch:  60%|████████████████████████████████████▌                        | 12/20 [02:19<01:28, 11.10s/image]"
     ]
    },
    {
     "name": "stdout",
     "output_type": "stream",
     "text": [
      "Result: ```json\n",
      "{\n",
      "  \"id\": \"2019697381\",\n",
      "  \"city\": \"Jerusalem\",\n",
      "  \"landmarks\": [\"Unknown\"]\n",
      "}\n",
      "```\n"
     ]
    },
    {
     "name": "stderr",
     "output_type": "stream",
     "text": [
      "Processing Batch:  65%|███████████████████████████████████████▋                     | 13/20 [02:25<01:13, 10.46s/image]"
     ]
    },
    {
     "name": "stdout",
     "output_type": "stream",
     "text": [
      "Processing image http://www.loc.gov/item/2019697383/...\n"
     ]
    },
    {
     "name": "stderr",
     "output_type": "stream",
     "text": [
      "Processing Batch:  65%|███████████████████████████████████████▋                     | 13/20 [02:28<01:13, 10.46s/image]"
     ]
    },
    {
     "name": "stdout",
     "output_type": "stream",
     "text": [
      "Result: ```json\n",
      "{\n",
      "  \"id\": \"2019697383\",\n",
      "  \"city\": \"Jerusalem\",\n",
      "  \"landmarks\": [\"Unknown\"]\n",
      "}\n",
      "```\n"
     ]
    },
    {
     "name": "stderr",
     "output_type": "stream",
     "text": [
      "Processing Batch:  70%|██████████████████████████████████████████▋                  | 14/20 [02:35<01:01, 10.17s/image]"
     ]
    },
    {
     "name": "stdout",
     "output_type": "stream",
     "text": [
      "Processing image http://www.loc.gov/item/2019697388/...\n"
     ]
    },
    {
     "name": "stderr",
     "output_type": "stream",
     "text": [
      "Processing Batch:  70%|██████████████████████████████████████████▋                  | 14/20 [02:38<01:01, 10.17s/image]"
     ]
    },
    {
     "name": "stdout",
     "output_type": "stream",
     "text": [
      "Result: ```json\n",
      "{\n",
      "  \"id\": \"2019697388\",\n",
      "  \"city\": \"Jerusalem\",\n",
      "  \"landmarks\": [\"Unknown\"]\n",
      "}\n",
      "```\n"
     ]
    },
    {
     "name": "stderr",
     "output_type": "stream",
     "text": [
      "Processing Batch:  75%|█████████████████████████████████████████████▊               | 15/20 [02:47<00:51, 10.26s/image]"
     ]
    },
    {
     "name": "stdout",
     "output_type": "stream",
     "text": [
      "Processing image http://www.loc.gov/item/2019697389/...\n"
     ]
    },
    {
     "name": "stderr",
     "output_type": "stream",
     "text": [
      "Processing Batch:  75%|█████████████████████████████████████████████▊               | 15/20 [02:50<00:51, 10.26s/image]"
     ]
    },
    {
     "name": "stdout",
     "output_type": "stream",
     "text": [
      "Result: ```json\n",
      "{\n",
      "  \"id\": \"2019697389\",\n",
      "  \"city\": \"Jerusalem\",\n",
      "  \"landmarks\": [\"Unknown\"]\n",
      "}\n",
      "```\n"
     ]
    },
    {
     "name": "stderr",
     "output_type": "stream",
     "text": [
      "Processing Batch:  80%|████████████████████████████████████████████████▊            | 16/20 [02:58<00:42, 10.57s/image]"
     ]
    },
    {
     "name": "stdout",
     "output_type": "stream",
     "text": [
      "Processing image http://www.loc.gov/item/2019697392/...\n"
     ]
    },
    {
     "name": "stderr",
     "output_type": "stream",
     "text": [
      "Processing Batch:  80%|████████████████████████████████████████████████▊            | 16/20 [03:00<00:42, 10.57s/image]"
     ]
    },
    {
     "name": "stdout",
     "output_type": "stream",
     "text": [
      "Result: ```json\n",
      "{\n",
      "  \"id\": \"2019697392\",\n",
      "  \"city\": \"Jerusalem\",\n",
      "  \"landmarks\": [\"Unknown\"]\n",
      "}\n",
      "```\n"
     ]
    },
    {
     "name": "stderr",
     "output_type": "stream",
     "text": [
      "Processing Batch:  85%|███████████████████████████████████████████████████▊         | 17/20 [03:07<00:31, 10.43s/image]"
     ]
    },
    {
     "name": "stdout",
     "output_type": "stream",
     "text": [
      "Processing image http://www.loc.gov/item/2001695440/...\n"
     ]
    },
    {
     "name": "stderr",
     "output_type": "stream",
     "text": [
      "Processing Batch:  85%|███████████████████████████████████████████████████▊         | 17/20 [03:10<00:31, 10.43s/image]"
     ]
    },
    {
     "name": "stdout",
     "output_type": "stream",
     "text": [
      "Result: ```json\n",
      "{\n",
      "  \"id\": \"2001695440\",\n",
      "  \"city\": \"Jerusalem\",\n",
      "  \"landmarks\": [\"Unknown\"]\n",
      "}\n",
      "```\n"
     ]
    },
    {
     "name": "stderr",
     "output_type": "stream",
     "text": [
      "Processing Batch:  90%|██████████████████████████████████████████████████████▉      | 18/20 [03:18<00:20, 10.20s/image]"
     ]
    },
    {
     "name": "stdout",
     "output_type": "stream",
     "text": [
      "Processing image http://www.loc.gov/item/2019698107/...\n"
     ]
    },
    {
     "name": "stderr",
     "output_type": "stream",
     "text": [
      "Processing Batch:  90%|██████████████████████████████████████████████████████▉      | 18/20 [03:21<00:20, 10.20s/image]"
     ]
    },
    {
     "name": "stdout",
     "output_type": "stream",
     "text": [
      "Result: ```json\n",
      "{\n",
      "  \"id\": \"2019698107\",\n",
      "  \"city\": \"Jerusalem\",\n",
      "  \"landmarks\": [\"Mount Scopus\"]\n",
      "}\n",
      "```\n"
     ]
    },
    {
     "name": "stderr",
     "output_type": "stream",
     "text": [
      "Processing Batch:  95%|█████████████████████████████████████████████████████████▉   | 19/20 [03:30<00:10, 10.50s/image]"
     ]
    },
    {
     "name": "stdout",
     "output_type": "stream",
     "text": [
      "Processing image http://www.loc.gov/item/2019698432/...\n"
     ]
    },
    {
     "name": "stderr",
     "output_type": "stream",
     "text": [
      "Processing Batch:  95%|█████████████████████████████████████████████████████████▉   | 19/20 [03:32<00:10, 10.50s/image]"
     ]
    },
    {
     "name": "stdout",
     "output_type": "stream",
     "text": [
      "Result: ```json\n",
      "{\n",
      "  \"id\": \"2019698432\",\n",
      "  \"city\": \"Jerusalem\",\n",
      "  \"landmarks\": [\"Gordon's Calvary\"]\n",
      "}\n",
      "```\n"
     ]
    },
    {
     "name": "stderr",
     "output_type": "stream",
     "text": [
      "Processing Batch: 100%|█████████████████████████████████████████████████████████████| 20/20 [03:37<00:00, 10.87s/image]\n"
     ]
    },
    {
     "name": "stdout",
     "output_type": "stream",
     "text": [
      "Completed a batch. Pausing for 15 minutes before starting the next batch.\n"
     ]
    },
    {
     "name": "stderr",
     "output_type": "stream",
     "text": [
      "Processing Batch:   0%|                                                                      | 0/20 [00:03<?, ?image/s]"
     ]
    },
    {
     "name": "stdout",
     "output_type": "stream",
     "text": [
      "Processing image http://www.loc.gov/item/2019698266/...\n"
     ]
    },
    {
     "name": "stderr",
     "output_type": "stream",
     "text": [
      "Processing Batch:   0%|                                                                      | 0/20 [00:05<?, ?image/s]"
     ]
    },
    {
     "name": "stdout",
     "output_type": "stream",
     "text": [
      "Result: ```json\n",
      "{\n",
      "  \"id\": \"2019698266\",\n",
      "  \"city\": \"Jerusalem\",\n",
      "  \"landmarks\": [\"Mount Scopus\"]\n",
      "}\n",
      "```\n"
     ]
    },
    {
     "name": "stderr",
     "output_type": "stream",
     "text": [
      "Processing Batch:   5%|███                                                           | 1/20 [00:14<03:23, 10.71s/image]"
     ]
    },
    {
     "name": "stdout",
     "output_type": "stream",
     "text": [
      "Processing image http://www.loc.gov/item/2019698429/...\n"
     ]
    },
    {
     "name": "stderr",
     "output_type": "stream",
     "text": [
      "Processing Batch:   5%|███                                                           | 1/20 [00:17<03:23, 10.71s/image]"
     ]
    },
    {
     "name": "stdout",
     "output_type": "stream",
     "text": [
      "Result: ```json\n",
      "{\n",
      "  \"id\": \"2019698429\",\n",
      "  \"city\": \"Jerusalem\",\n",
      "  \"landmarks\": [\"Mount Scopus\", \"Kidron Valley\"]\n",
      "}\n",
      "```\n"
     ]
    },
    {
     "name": "stderr",
     "output_type": "stream",
     "text": [
      "Processing Batch:  10%|██████▏                                                       | 2/20 [00:25<03:23, 11.33s/image]"
     ]
    },
    {
     "name": "stdout",
     "output_type": "stream",
     "text": [
      "Processing image http://www.loc.gov/item/2019698298/...\n"
     ]
    },
    {
     "name": "stderr",
     "output_type": "stream",
     "text": [
      "Processing Batch:  10%|██████▏                                                       | 2/20 [00:28<03:23, 11.33s/image]"
     ]
    },
    {
     "name": "stdout",
     "output_type": "stream",
     "text": [
      "Result: ```json\n",
      "{\n",
      "  \"id\": \"2019698298\",\n",
      "  \"city\": \"Jerusalem\",\n",
      "  \"landmarks\": [\"Gordon's Calvary\", \"Garden Tomb\"]\n",
      "}\n",
      "```\n"
     ]
    },
    {
     "name": "stderr",
     "output_type": "stream",
     "text": [
      "Processing Batch:  15%|█████████▎                                                    | 3/20 [00:35<03:09, 11.17s/image]"
     ]
    },
    {
     "name": "stdout",
     "output_type": "stream",
     "text": [
      "Processing image http://www.loc.gov/item/2019698479/...\n"
     ]
    },
    {
     "name": "stderr",
     "output_type": "stream",
     "text": [
      "Processing Batch:  15%|█████████▎                                                    | 3/20 [00:37<03:09, 11.17s/image]"
     ]
    },
    {
     "name": "stdout",
     "output_type": "stream",
     "text": [
      "Result: ```json\n",
      "{\n",
      "  \"id\": \"2019698479\",\n",
      "  \"city\": \"Jerusalem\",\n",
      "  \"landmarks\": [\"Mt. Scopus\"]\n",
      "}\n",
      "```\n"
     ]
    },
    {
     "name": "stderr",
     "output_type": "stream",
     "text": [
      "Processing Batch:  20%|████████████▍                                                 | 4/20 [00:44<02:48, 10.51s/image]"
     ]
    },
    {
     "name": "stdout",
     "output_type": "stream",
     "text": [
      "Processing image http://www.loc.gov/item/2019698318/...\n"
     ]
    },
    {
     "name": "stderr",
     "output_type": "stream",
     "text": [
      "Processing Batch:  20%|████████████▍                                                 | 4/20 [00:48<02:48, 10.51s/image]"
     ]
    },
    {
     "name": "stdout",
     "output_type": "stream",
     "text": [
      "Result: ```json\n",
      "{\n",
      "  \"id\": \"2019698318\",\n",
      "  \"city\": \"Jerusalem\",\n",
      "  \"landmarks\": [\"The German Church\"]\n",
      "}\n",
      "```\n"
     ]
    },
    {
     "name": "stderr",
     "output_type": "stream",
     "text": [
      "Processing Batch:  25%|███████████████▌                                              | 5/20 [00:55<02:36, 10.42s/image]"
     ]
    },
    {
     "name": "stdout",
     "output_type": "stream",
     "text": [
      "Processing image http://www.loc.gov/item/2019698164/...\n"
     ]
    },
    {
     "name": "stderr",
     "output_type": "stream",
     "text": [
      "Processing Batch:  25%|███████████████▌                                              | 5/20 [00:58<02:36, 10.42s/image]"
     ]
    },
    {
     "name": "stdout",
     "output_type": "stream",
     "text": [
      "Result: ```json\n",
      "{\n",
      "  \"id\": \"2019698164\",\n",
      "  \"city\": \"Jerusalem\",\n",
      "  \"landmarks\": [\"Mt. Scopus\"]\n",
      "}\n",
      "```\n"
     ]
    },
    {
     "name": "stderr",
     "output_type": "stream",
     "text": [
      "Processing Batch:  30%|██████████████████▌                                           | 6/20 [01:06<02:26, 10.45s/image]"
     ]
    },
    {
     "name": "stdout",
     "output_type": "stream",
     "text": [
      "Processing image http://www.loc.gov/item/2004669816/...\n"
     ]
    },
    {
     "name": "stderr",
     "output_type": "stream",
     "text": [
      "Processing Batch:  30%|██████████████████▌                                           | 6/20 [01:07<02:26, 10.45s/image]"
     ]
    },
    {
     "name": "stdout",
     "output_type": "stream",
     "text": [
      "Result: ```json\n",
      "{\n",
      "  \"id\": \"2004669816\",\n",
      "  \"city\": \"Jerusalem\",\n",
      "  \"landmarks\": [\"Unknown\"]\n",
      "}\n",
      "```\n"
     ]
    },
    {
     "name": "stderr",
     "output_type": "stream",
     "text": [
      "Processing Batch:  35%|█████████████████████▋                                        | 7/20 [01:14<02:10, 10.03s/image]"
     ]
    },
    {
     "name": "stdout",
     "output_type": "stream",
     "text": [
      "Processing image http://www.loc.gov/item/2001695415/...\n"
     ]
    },
    {
     "name": "stderr",
     "output_type": "stream",
     "text": [
      "Processing Batch:  35%|█████████████████████▋                                        | 7/20 [01:16<02:10, 10.03s/image]"
     ]
    },
    {
     "name": "stdout",
     "output_type": "stream",
     "text": [
      "Result: ```json\n",
      "{\n",
      "  \"id\": \"2001695415\",\n",
      "  \"city\": \"Jerusalem\",\n",
      "  \"landmarks\": [\"Damascus Gate\"]\n",
      "}\n",
      "```\n"
     ]
    },
    {
     "name": "stderr",
     "output_type": "stream",
     "text": [
      "Processing Batch:  40%|████████████████████████▊                                     | 8/20 [01:23<01:55,  9.60s/image]"
     ]
    },
    {
     "name": "stdout",
     "output_type": "stream",
     "text": [
      "Processing image http://www.loc.gov/item/2004675138/...\n"
     ]
    },
    {
     "name": "stderr",
     "output_type": "stream",
     "text": [
      "Processing Batch:  40%|████████████████████████▊                                     | 8/20 [01:26<01:55,  9.60s/image]"
     ]
    },
    {
     "name": "stdout",
     "output_type": "stream",
     "text": [
      "Result: ```json\n",
      "{\n",
      "  \"id\": \"2004675138\",\n",
      "  \"city\": \"Jerusalem\",\n",
      "  \"landmarks\": [\"Unknown\"]\n",
      "}\n",
      "```\n"
     ]
    },
    {
     "name": "stderr",
     "output_type": "stream",
     "text": [
      "Processing Batch:  45%|███████████████████████████▉                                  | 9/20 [01:35<01:45,  9.57s/image]"
     ]
    },
    {
     "name": "stdout",
     "output_type": "stream",
     "text": [
      "Processing image http://www.loc.gov/item/2019704483/...\n"
     ]
    },
    {
     "name": "stderr",
     "output_type": "stream",
     "text": [
      "Processing Batch:  45%|███████████████████████████▉                                  | 9/20 [01:39<01:45,  9.57s/image]"
     ]
    },
    {
     "name": "stdout",
     "output_type": "stream",
     "text": [
      "Result: ```json\n",
      "{\n",
      "  \"id\": \"2019704483\",\n",
      "  \"city\": \"Jerusalem\",\n",
      "  \"landmarks\": [\"Palace of Hajj Amin al-Husayni\", \"YMCA\"]\n",
      "}\n",
      "```\n"
     ]
    },
    {
     "name": "stderr",
     "output_type": "stream",
     "text": [
      "Processing Batch:  50%|██████████████████████████████▌                              | 10/20 [01:48<01:46, 10.69s/image]"
     ]
    },
    {
     "name": "stdout",
     "output_type": "stream",
     "text": [
      "Processing image http://www.loc.gov/item/2004669818/...\n"
     ]
    },
    {
     "name": "stderr",
     "output_type": "stream",
     "text": [
      "Processing Batch:  50%|██████████████████████████████▌                              | 10/20 [01:51<01:46, 10.69s/image]"
     ]
    },
    {
     "name": "stdout",
     "output_type": "stream",
     "text": [
      "Result: ```json\n",
      "{\n",
      "  \"id\": \"2004669818\",\n",
      "  \"city\": \"Jerusalem\",\n",
      "  \"landmarks\": [\"Unknown\"]\n",
      "}\n",
      "```\n"
     ]
    },
    {
     "name": "stderr",
     "output_type": "stream",
     "text": [
      "Processing Batch:  55%|█████████████████████████████████▌                           | 11/20 [01:58<01:39, 11.03s/image]"
     ]
    },
    {
     "name": "stdout",
     "output_type": "stream",
     "text": [
      "Processing image http://www.loc.gov/item/2002717470/...\n"
     ]
    },
    {
     "name": "stderr",
     "output_type": "stream",
     "text": [
      "Processing Batch:  55%|█████████████████████████████████▌                           | 11/20 [02:02<01:39, 11.03s/image]"
     ]
    },
    {
     "name": "stdout",
     "output_type": "stream",
     "text": [
      "Result: ```json\n",
      "{\n",
      "  \"id\": \"2002717470\",\n",
      "  \"city\": \"Jerusalem\",\n",
      "  \"landmarks\": [\"Unknown\"]\n",
      "}\n",
      "```\n"
     ]
    },
    {
     "name": "stderr",
     "output_type": "stream",
     "text": [
      "Processing Batch:  60%|████████████████████████████████████▌                        | 12/20 [02:10<01:30, 11.26s/image]"
     ]
    },
    {
     "name": "stdout",
     "output_type": "stream",
     "text": [
      "Processing image http://www.loc.gov/item/2004669831/...\n"
     ]
    },
    {
     "name": "stderr",
     "output_type": "stream",
     "text": [
      "Processing Batch:  60%|████████████████████████████████████▌                        | 12/20 [02:14<01:30, 11.26s/image]"
     ]
    },
    {
     "name": "stdout",
     "output_type": "stream",
     "text": [
      "Result: ```json\n",
      "{\n",
      "  \"id\": \"2004669831\",\n",
      "  \"city\": \"Jerusalem\",\n",
      "  \"landmarks\": [\"Dome of the Rock\", \"Mosquée d'Omar\"]\n",
      "}\n",
      "```\n"
     ]
    },
    {
     "name": "stderr",
     "output_type": "stream",
     "text": [
      "Processing Batch:  65%|███████████████████████████████████████▋                     | 13/20 [02:21<01:19, 11.32s/image]"
     ]
    },
    {
     "name": "stdout",
     "output_type": "stream",
     "text": [
      "Processing image http://www.loc.gov/item/2014706107/...\n"
     ]
    },
    {
     "name": "stderr",
     "output_type": "stream",
     "text": [
      "Processing Batch:  65%|███████████████████████████████████████▋                     | 13/20 [02:25<01:19, 11.32s/image]"
     ]
    },
    {
     "name": "stdout",
     "output_type": "stream",
     "text": [
      "Result: ```json\n",
      "{\n",
      "  \"id\": \"2014706107\",\n",
      "  \"city\": \"Jerusalem\",\n",
      "  \"landmarks\": [\"Church of the Holy Sepulchre\"]\n",
      "}\n",
      "```\n"
     ]
    },
    {
     "name": "stderr",
     "output_type": "stream",
     "text": [
      "Processing Batch:  70%|██████████████████████████████████████████▋                  | 14/20 [02:32<01:07, 11.28s/image]"
     ]
    },
    {
     "name": "stdout",
     "output_type": "stream",
     "text": [
      "Processing image http://www.loc.gov/item/2019702209/...\n"
     ]
    },
    {
     "name": "stderr",
     "output_type": "stream",
     "text": [
      "Processing Batch:  70%|██████████████████████████████████████████▋                  | 14/20 [02:36<01:07, 11.28s/image]"
     ]
    },
    {
     "name": "stdout",
     "output_type": "stream",
     "text": [
      "Result: ```json\n",
      "{\n",
      "  \"id\": \"2019702209\",\n",
      "  \"city\": \"Jerusalem\",\n",
      "  \"landmarks\": [\"Unknown\"]\n",
      "}\n",
      "```\n"
     ]
    },
    {
     "name": "stderr",
     "output_type": "stream",
     "text": [
      "Processing Batch:  75%|█████████████████████████████████████████████▊               | 15/20 [02:43<00:56, 11.27s/image]"
     ]
    },
    {
     "name": "stdout",
     "output_type": "stream",
     "text": [
      "Processing image http://www.loc.gov/item/2019702247/...\n"
     ]
    },
    {
     "name": "stderr",
     "output_type": "stream",
     "text": [
      "Processing Batch:  75%|█████████████████████████████████████████████▊               | 15/20 [02:47<00:56, 11.27s/image]"
     ]
    },
    {
     "name": "stdout",
     "output_type": "stream",
     "text": [
      "Result: ```json\n",
      "{\n",
      "  \"id\": \"2019702247\",\n",
      "  \"city\": \"Jerusalem\",\n",
      "  \"landmarks\": [\"Unknown\"]\n",
      "}\n",
      "```\n"
     ]
    },
    {
     "name": "stderr",
     "output_type": "stream",
     "text": [
      "Processing Batch:  80%|████████████████████████████████████████████████▊            | 16/20 [02:54<00:44, 11.14s/image]"
     ]
    },
    {
     "name": "stdout",
     "output_type": "stream",
     "text": [
      "Processing image http://www.loc.gov/item/2019702938/...\n"
     ]
    },
    {
     "name": "stderr",
     "output_type": "stream",
     "text": [
      "Processing Batch:  80%|████████████████████████████████████████████████▊            | 16/20 [02:58<00:44, 11.14s/image]"
     ]
    },
    {
     "name": "stdout",
     "output_type": "stream",
     "text": [
      "Result: ```json\n",
      "{\n",
      "  \"id\": \"2019702938\",\n",
      "  \"city\": \"Jerusalem\",\n",
      "  \"landmarks\": [\"Unknown\"]\n",
      "}\n",
      "```\n"
     ]
    },
    {
     "name": "stderr",
     "output_type": "stream",
     "text": [
      "Processing Batch:  85%|███████████████████████████████████████████████████▊         | 17/20 [03:06<00:33, 11.04s/image]"
     ]
    },
    {
     "name": "stdout",
     "output_type": "stream",
     "text": [
      "Processing image http://www.loc.gov/item/2019702939/...\n"
     ]
    },
    {
     "name": "stderr",
     "output_type": "stream",
     "text": [
      "Processing Batch:  85%|███████████████████████████████████████████████████▊         | 17/20 [03:09<00:33, 11.04s/image]"
     ]
    },
    {
     "name": "stdout",
     "output_type": "stream",
     "text": [
      "Result: ```json\n",
      "{\n",
      "  \"id\": \"2019702939\",\n",
      "  \"city\": \"Jerusalem\",\n",
      "  \"landmarks\": [\"Unknown\"]\n",
      "}\n",
      "```\n"
     ]
    },
    {
     "name": "stderr",
     "output_type": "stream",
     "text": [
      "Processing Batch:  90%|██████████████████████████████████████████████████████▉      | 18/20 [03:16<00:22, 11.06s/image]"
     ]
    },
    {
     "name": "stdout",
     "output_type": "stream",
     "text": [
      "Processing image http://www.loc.gov/item/2004674262/...\n"
     ]
    },
    {
     "name": "stderr",
     "output_type": "stream",
     "text": [
      "Processing Batch:  90%|██████████████████████████████████████████████████████▉      | 18/20 [03:21<00:22, 11.06s/image]"
     ]
    },
    {
     "name": "stdout",
     "output_type": "stream",
     "text": [
      "Result: ```json\n",
      "{\n",
      "  \"id\": \"2004674262\",\n",
      "  \"city\": \"Jerusalem\",\n",
      "  \"landmarks\": [\"Unknown\"]\n",
      "}\n",
      "```\n"
     ]
    },
    {
     "name": "stderr",
     "output_type": "stream",
     "text": [
      "Processing Batch:  95%|█████████████████████████████████████████████████████████▉   | 19/20 [03:27<00:11, 11.25s/image]"
     ]
    },
    {
     "name": "stdout",
     "output_type": "stream",
     "text": [
      "Processing image http://www.loc.gov/item/2019692059/...\n"
     ]
    },
    {
     "name": "stderr",
     "output_type": "stream",
     "text": [
      "Processing Batch:  95%|█████████████████████████████████████████████████████████▉   | 19/20 [03:29<00:11, 11.25s/image]"
     ]
    },
    {
     "name": "stdout",
     "output_type": "stream",
     "text": [
      "Result: ```json\n",
      "{\n",
      "  \"id\": \"2019692059\",\n",
      "  \"city\": \"Jerusalem\",\n",
      "  \"landmarks\": [\"Unknown\"]\n",
      "}\n",
      "```\n"
     ]
    },
    {
     "name": "stderr",
     "output_type": "stream",
     "text": [
      "Processing Batch: 100%|█████████████████████████████████████████████████████████████| 20/20 [03:34<00:00, 10.74s/image]\n"
     ]
    },
    {
     "name": "stdout",
     "output_type": "stream",
     "text": [
      "Completed a batch. Pausing for 15 minutes before starting the next batch.\n"
     ]
    },
    {
     "name": "stderr",
     "output_type": "stream",
     "text": [
      "Processing Batch:   0%|                                                                      | 0/20 [00:03<?, ?image/s]"
     ]
    },
    {
     "name": "stdout",
     "output_type": "stream",
     "text": [
      "Processing image http://www.loc.gov/item/2019692060/...\n"
     ]
    },
    {
     "name": "stderr",
     "output_type": "stream",
     "text": [
      "Processing Batch:   0%|                                                                      | 0/20 [00:05<?, ?image/s]"
     ]
    },
    {
     "name": "stdout",
     "output_type": "stream",
     "text": [
      "Result: ```json\n",
      "{\n",
      "  \"id\": \"2019692060\",\n",
      "  \"city\": \"Jerusalem\",\n",
      "  \"landmarks\": [\"Unknown\"]\n",
      "}\n",
      "```\n"
     ]
    },
    {
     "name": "stderr",
     "output_type": "stream",
     "text": [
      "Processing Batch:   5%|███                                                           | 1/20 [00:13<03:22, 10.64s/image]"
     ]
    },
    {
     "name": "stdout",
     "output_type": "stream",
     "text": [
      "Processing image http://www.loc.gov/item/2019697334/...\n"
     ]
    },
    {
     "name": "stderr",
     "output_type": "stream",
     "text": [
      "Processing Batch:   5%|███                                                           | 1/20 [00:16<03:22, 10.64s/image]"
     ]
    },
    {
     "name": "stdout",
     "output_type": "stream",
     "text": [
      "Result: ```json\n",
      "{\n",
      "  \"id\": \"2019697334\",\n",
      "  \"city\": \"Jerusalem\",\n",
      "  \"landmarks\": [\"Unknown\"]\n",
      "}\n",
      "```\n"
     ]
    },
    {
     "name": "stderr",
     "output_type": "stream",
     "text": [
      "Processing Batch:  10%|██████▏                                                       | 2/20 [00:24<03:13, 10.76s/image]"
     ]
    },
    {
     "name": "stdout",
     "output_type": "stream",
     "text": [
      "Processing image http://www.loc.gov/item/2019697340/...\n"
     ]
    },
    {
     "name": "stderr",
     "output_type": "stream",
     "text": [
      "Processing Batch:  10%|██████▏                                                       | 2/20 [00:26<03:13, 10.76s/image]"
     ]
    },
    {
     "name": "stdout",
     "output_type": "stream",
     "text": [
      "Result: ```json\n",
      "{\n",
      "  \"id\": \"2019697340\",\n",
      "  \"city\": \"Jerusalem\",\n",
      "  \"landmarks\": [\"Unknown\"]\n",
      "}\n",
      "```\n"
     ]
    },
    {
     "name": "stderr",
     "output_type": "stream",
     "text": [
      "Processing Batch:  15%|█████████▎                                                    | 3/20 [00:34<02:56, 10.36s/image]"
     ]
    },
    {
     "name": "stdout",
     "output_type": "stream",
     "text": [
      "Processing image http://www.loc.gov/item/2019697298/...\n"
     ]
    },
    {
     "name": "stderr",
     "output_type": "stream",
     "text": [
      "Processing Batch:  15%|█████████▎                                                    | 3/20 [00:37<02:56, 10.36s/image]"
     ]
    },
    {
     "name": "stdout",
     "output_type": "stream",
     "text": [
      "Result: ```json\n",
      "{\n",
      "  \"id\": \"2019697298\",\n",
      "  \"city\": \"Jerusalem\",\n",
      "  \"landmarks\": [\"Unknown\"]\n",
      "}\n",
      "```\n"
     ]
    },
    {
     "name": "stderr",
     "output_type": "stream",
     "text": [
      "Processing Batch:  20%|████████████▍                                                 | 4/20 [00:44<02:49, 10.59s/image]"
     ]
    },
    {
     "name": "stdout",
     "output_type": "stream",
     "text": [
      "Processing image http://www.loc.gov/item/2019697305/...\n"
     ]
    },
    {
     "name": "stderr",
     "output_type": "stream",
     "text": [
      "Processing Batch:  20%|████████████▍                                                 | 4/20 [00:47<02:49, 10.59s/image]"
     ]
    },
    {
     "name": "stdout",
     "output_type": "stream",
     "text": [
      "Result: ```json\n",
      "{\n",
      "  \"id\": \"2019697305\",\n",
      "  \"city\": \"Jerusalem\",\n",
      "  \"landmarks\": [\"Unknown\"]\n",
      "}\n",
      "```\n"
     ]
    },
    {
     "name": "stderr",
     "output_type": "stream",
     "text": [
      "Processing Batch:  25%|███████████████▌                                              | 5/20 [00:54<02:36, 10.46s/image]"
     ]
    },
    {
     "name": "stdout",
     "output_type": "stream",
     "text": [
      "Processing image http://www.loc.gov/item/2019697316/...\n"
     ]
    },
    {
     "name": "stderr",
     "output_type": "stream",
     "text": [
      "Processing Batch:  25%|███████████████▌                                              | 5/20 [01:05<02:36, 10.46s/image]"
     ]
    },
    {
     "name": "stdout",
     "output_type": "stream",
     "text": [
      "Result: ```json\n",
      "{\n",
      "  \"id\": \"2019697316\",\n",
      "  \"city\": \"Jerusalem\",\n",
      "  \"landmarks\": [\"Unknown\"]\n",
      "}\n",
      "```\n"
     ]
    },
    {
     "name": "stderr",
     "output_type": "stream",
     "text": [
      "Processing Batch:  30%|██████████████████▌                                           | 6/20 [01:13<03:01, 12.99s/image]"
     ]
    },
    {
     "name": "stdout",
     "output_type": "stream",
     "text": [
      "Processing image http://www.loc.gov/item/2019697317/...\n"
     ]
    },
    {
     "name": "stderr",
     "output_type": "stream",
     "text": [
      "Processing Batch:  30%|██████████████████▌                                           | 6/20 [01:15<03:01, 12.99s/image]"
     ]
    },
    {
     "name": "stdout",
     "output_type": "stream",
     "text": [
      "Result: ```json\n",
      "{\n",
      "  \"id\": \"2019697317\",\n",
      "  \"city\": \"Jerusalem\",\n",
      "  \"landmarks\": [\"Garden of Gethsemane\", \"Mount of Olives\"]\n",
      "}\n",
      "```\n"
     ]
    },
    {
     "name": "stderr",
     "output_type": "stream",
     "text": [
      "Processing Batch:  35%|█████████████████████▋                                        | 7/20 [01:22<02:38, 12.18s/image]"
     ]
    },
    {
     "name": "stdout",
     "output_type": "stream",
     "text": [
      "Processing image http://www.loc.gov/item/2019697320/...\n"
     ]
    },
    {
     "name": "stderr",
     "output_type": "stream",
     "text": [
      "Processing Batch:  35%|█████████████████████▋                                        | 7/20 [01:25<02:38, 12.18s/image]"
     ]
    },
    {
     "name": "stdout",
     "output_type": "stream",
     "text": [
      "Result: ```json\n",
      "{\n",
      "  \"id\": \"2019697320\",\n",
      "  \"city\": \"Jerusalem\",\n",
      "  \"landmarks\": [\"Unknown\"]\n",
      "}\n",
      "```\n"
     ]
    },
    {
     "name": "stderr",
     "output_type": "stream",
     "text": [
      "Processing Batch:  40%|████████████████████████▊                                     | 8/20 [01:32<02:16, 11.35s/image]"
     ]
    },
    {
     "name": "stdout",
     "output_type": "stream",
     "text": [
      "Processing image http://www.loc.gov/item/2019691889/...\n"
     ]
    },
    {
     "name": "stderr",
     "output_type": "stream",
     "text": [
      "Processing Batch:  40%|████████████████████████▊                                     | 8/20 [01:35<02:16, 11.35s/image]"
     ]
    },
    {
     "name": "stdout",
     "output_type": "stream",
     "text": [
      "Result: ```json\n",
      "{\n",
      "  \"id\": \"2019691889\",\n",
      "  \"city\": \"Jerusalem\",\n",
      "  \"landmarks\": [\"Unknown\"]\n",
      "}\n",
      "```\n"
     ]
    },
    {
     "name": "stderr",
     "output_type": "stream",
     "text": [
      "Processing Batch:  45%|███████████████████████████▉                                  | 9/20 [01:42<02:00, 10.92s/image]"
     ]
    },
    {
     "name": "stdout",
     "output_type": "stream",
     "text": [
      "Processing image http://www.loc.gov/item/2019695404/...\n"
     ]
    },
    {
     "name": "stderr",
     "output_type": "stream",
     "text": [
      "Processing Batch:  45%|███████████████████████████▉                                  | 9/20 [01:45<02:00, 10.92s/image]"
     ]
    },
    {
     "name": "stdout",
     "output_type": "stream",
     "text": [
      "Result: ```json\n",
      "{\n",
      "  \"id\": \"2019695404\",\n",
      "  \"city\": \"Jerusalem\",\n",
      "  \"landmarks\": [\"Unknown\"]\n",
      "}\n",
      "```\n"
     ]
    },
    {
     "name": "stderr",
     "output_type": "stream",
     "text": [
      "Processing Batch:  50%|██████████████████████████████▌                              | 10/20 [01:52<01:46, 10.64s/image]"
     ]
    },
    {
     "name": "stdout",
     "output_type": "stream",
     "text": [
      "Processing image http://www.loc.gov/item/2019697306/...\n"
     ]
    },
    {
     "name": "stderr",
     "output_type": "stream",
     "text": [
      "Processing Batch:  50%|██████████████████████████████▌                              | 10/20 [01:55<01:46, 10.64s/image]"
     ]
    },
    {
     "name": "stdout",
     "output_type": "stream",
     "text": [
      "Result: ```json\n",
      "{\n",
      "  \"id\": \"2019697306\",\n",
      "  \"city\": \"Jerusalem\",\n",
      "  \"landmarks\": [\"German Catholic Hospice\"]\n",
      "}\n",
      "```\n"
     ]
    },
    {
     "name": "stderr",
     "output_type": "stream",
     "text": [
      "Processing Batch:  55%|█████████████████████████████████▌                           | 11/20 [02:03<01:34, 10.45s/image]"
     ]
    },
    {
     "name": "stdout",
     "output_type": "stream",
     "text": [
      "Processing image http://www.loc.gov/item/2006691705/...\n"
     ]
    },
    {
     "name": "stderr",
     "output_type": "stream",
     "text": [
      "Processing Batch:  55%|█████████████████████████████████▌                           | 11/20 [02:06<01:34, 10.45s/image]"
     ]
    },
    {
     "name": "stdout",
     "output_type": "stream",
     "text": [
      "Result: ```json\n",
      "{\n",
      "  \"id\": \"2006691705\",\n",
      "  \"city\": \"Jerusalem\",\n",
      "  \"landmarks\": [\"Ecce Homo Arch\"]\n",
      "}\n",
      "```\n"
     ]
    },
    {
     "name": "stderr",
     "output_type": "stream",
     "text": [
      "Processing Batch:  60%|████████████████████████████████████▌                        | 12/20 [02:13<01:24, 10.54s/image]"
     ]
    },
    {
     "name": "stdout",
     "output_type": "stream",
     "text": [
      "Processing image http://www.loc.gov/item/2019697361/...\n"
     ]
    },
    {
     "name": "stderr",
     "output_type": "stream",
     "text": [
      "Processing Batch:  60%|████████████████████████████████████▌                        | 12/20 [02:15<01:24, 10.54s/image]"
     ]
    },
    {
     "name": "stdout",
     "output_type": "stream",
     "text": [
      "Result: ```json\n",
      "{\n",
      "  \"id\": \"2019697361\",\n",
      "  \"city\": \"Jerusalem\",\n",
      "  \"landmarks\": [\"Unknown\"]\n",
      "}\n",
      "```\n"
     ]
    },
    {
     "name": "stderr",
     "output_type": "stream",
     "text": [
      "Processing Batch:  65%|███████████████████████████████████████▋                     | 13/20 [02:22<01:11, 10.22s/image]"
     ]
    },
    {
     "name": "stdout",
     "output_type": "stream",
     "text": [
      "Processing image http://www.loc.gov/item/2019697393/...\n"
     ]
    },
    {
     "name": "stderr",
     "output_type": "stream",
     "text": [
      "Processing Batch:  65%|███████████████████████████████████████▋                     | 13/20 [02:25<01:11, 10.22s/image]"
     ]
    },
    {
     "name": "stdout",
     "output_type": "stream",
     "text": [
      "Result: ```json\n",
      "{\n",
      "  \"id\": \"2019697393\",\n",
      "  \"city\": \"Jerusalem\",\n",
      "  \"landmarks\": [\"Unknown\"]\n",
      "}\n",
      "```\n"
     ]
    },
    {
     "name": "stderr",
     "output_type": "stream",
     "text": [
      "Processing Batch:  70%|██████████████████████████████████████████▋                  | 14/20 [02:31<00:59,  9.96s/image]"
     ]
    },
    {
     "name": "stdout",
     "output_type": "stream",
     "text": [
      "Processing image http://www.loc.gov/item/2019697398/...\n"
     ]
    },
    {
     "name": "stderr",
     "output_type": "stream",
     "text": [
      "Processing Batch:  70%|██████████████████████████████████████████▋                  | 14/20 [02:36<00:59,  9.96s/image]"
     ]
    },
    {
     "name": "stdout",
     "output_type": "stream",
     "text": [
      "Result: ```json\n",
      "{\n",
      "  \"id\": \"2019697398\",\n",
      "  \"city\": \"Jerusalem\",\n",
      "  \"landmarks\": [\"Unknown\"]\n",
      "}\n",
      "```\n"
     ]
    },
    {
     "name": "stderr",
     "output_type": "stream",
     "text": [
      "Processing Batch:  75%|█████████████████████████████████████████████▊               | 15/20 [02:43<00:51, 10.28s/image]"
     ]
    },
    {
     "name": "stdout",
     "output_type": "stream",
     "text": [
      "Processing image http://www.loc.gov/item/2019697400/...\n"
     ]
    },
    {
     "name": "stderr",
     "output_type": "stream",
     "text": [
      "Processing Batch:  75%|█████████████████████████████████████████████▊               | 15/20 [02:45<00:51, 10.28s/image]"
     ]
    },
    {
     "name": "stdout",
     "output_type": "stream",
     "text": [
      "Result: ```json\n",
      "{\n",
      "  \"id\": \"2019697400\",\n",
      "  \"city\": \"Jerusalem\",\n",
      "  \"landmarks\": [\"Unknown\"]\n",
      "}\n",
      "```\n"
     ]
    },
    {
     "name": "stderr",
     "output_type": "stream",
     "text": [
      "Processing Batch:  80%|████████████████████████████████████████████████▊            | 16/20 [02:53<00:40, 10.04s/image]"
     ]
    },
    {
     "name": "stdout",
     "output_type": "stream",
     "text": [
      "Processing image http://www.loc.gov/item/2019697329/...\n"
     ]
    },
    {
     "name": "stderr",
     "output_type": "stream",
     "text": [
      "Processing Batch:  80%|████████████████████████████████████████████████▊            | 16/20 [02:56<00:40, 10.04s/image]"
     ]
    },
    {
     "name": "stdout",
     "output_type": "stream",
     "text": [
      "Result: ```json\n",
      "{\n",
      "  \"id\": \"2019697329\",\n",
      "  \"city\": \"Jerusalem\",\n",
      "  \"landmarks\": [\"Unknown\"]\n",
      "}\n",
      "```\n"
     ]
    },
    {
     "name": "stderr",
     "output_type": "stream",
     "text": [
      "Processing Batch:  85%|███████████████████████████████████████████████████▊         | 17/20 [03:03<00:31, 10.41s/image]"
     ]
    },
    {
     "name": "stdout",
     "output_type": "stream",
     "text": [
      "Processing image http://www.loc.gov/item/2019697331/...\n"
     ]
    },
    {
     "name": "stderr",
     "output_type": "stream",
     "text": [
      "Processing Batch:  85%|███████████████████████████████████████████████████▊         | 17/20 [03:06<00:31, 10.41s/image]"
     ]
    },
    {
     "name": "stdout",
     "output_type": "stream",
     "text": [
      "Result: ```json\n",
      "{\n",
      "  \"id\": \"2019697331\",\n",
      "  \"city\": \"Jerusalem\",\n",
      "  \"landmarks\": [\"Unknown\"]\n",
      "}\n",
      "```\n"
     ]
    },
    {
     "name": "stderr",
     "output_type": "stream",
     "text": [
      "Processing Batch:  90%|██████████████████████████████████████████████████████▉      | 18/20 [03:13<00:20, 10.15s/image]"
     ]
    },
    {
     "name": "stdout",
     "output_type": "stream",
     "text": [
      "Processing image http://www.loc.gov/item/2019697562/...\n"
     ]
    },
    {
     "name": "stderr",
     "output_type": "stream",
     "text": [
      "Processing Batch:  90%|██████████████████████████████████████████████████████▉      | 18/20 [03:16<00:20, 10.15s/image]"
     ]
    },
    {
     "name": "stdout",
     "output_type": "stream",
     "text": [
      "Result: ```json\n",
      "{\n",
      "  \"id\": \"2019697562\",\n",
      "  \"city\": \"Jerusalem\",\n",
      "  \"landmarks\": [\"Unknown\"]\n",
      "}\n",
      "```\n"
     ]
    },
    {
     "name": "stderr",
     "output_type": "stream",
     "text": [
      "Processing Batch:  95%|█████████████████████████████████████████████████████████▉   | 19/20 [03:23<00:09,  9.99s/image]"
     ]
    },
    {
     "name": "stdout",
     "output_type": "stream",
     "text": [
      "Processing image http://www.loc.gov/item/2019697304/...\n"
     ]
    },
    {
     "name": "stderr",
     "output_type": "stream",
     "text": [
      "Processing Batch:  95%|█████████████████████████████████████████████████████████▉   | 19/20 [03:26<00:09,  9.99s/image]"
     ]
    },
    {
     "name": "stdout",
     "output_type": "stream",
     "text": [
      "Result: ```json\n",
      "{\n",
      "  \"id\": \"2019697304\",\n",
      "  \"city\": \"Jerusalem\",\n",
      "  \"landmarks\": [\"Unknown\"]\n",
      "}\n",
      "```\n"
     ]
    },
    {
     "name": "stderr",
     "output_type": "stream",
     "text": [
      "Processing Batch: 100%|█████████████████████████████████████████████████████████████| 20/20 [03:31<00:00, 10.56s/image]\n"
     ]
    },
    {
     "name": "stdout",
     "output_type": "stream",
     "text": [
      "Completed a batch. Pausing for 15 minutes before starting the next batch.\n"
     ]
    },
    {
     "name": "stderr",
     "output_type": "stream",
     "text": [
      "Processing Batch:   0%|                                                                      | 0/20 [00:01<?, ?image/s]"
     ]
    },
    {
     "name": "stdout",
     "output_type": "stream",
     "text": [
      "Processing image http://www.loc.gov/item/2019697307/...\n"
     ]
    },
    {
     "name": "stderr",
     "output_type": "stream",
     "text": [
      "Processing Batch:   0%|                                                                      | 0/20 [00:04<?, ?image/s]"
     ]
    },
    {
     "name": "stdout",
     "output_type": "stream",
     "text": [
      "Result: ```json\n",
      "{\n",
      "  \"id\": \"2019697307\",\n",
      "  \"city\": \"Jerusalem\",\n",
      "  \"landmarks\": [\"Unknown\"]\n",
      "}\n",
      "```\n"
     ]
    },
    {
     "name": "stderr",
     "output_type": "stream",
     "text": [
      "Processing Batch:   5%|███                                                           | 1/20 [00:11<02:52,  9.10s/image]"
     ]
    },
    {
     "name": "stdout",
     "output_type": "stream",
     "text": [
      "Processing image http://www.loc.gov/item/2019697309/...\n"
     ]
    },
    {
     "name": "stderr",
     "output_type": "stream",
     "text": [
      "Processing Batch:   5%|███                                                           | 1/20 [00:13<02:52,  9.10s/image]"
     ]
    },
    {
     "name": "stdout",
     "output_type": "stream",
     "text": [
      "Result: ```json\n",
      "{\n",
      "  \"id\": \"2019697309\",\n",
      "  \"city\": \"Jerusalem\",\n",
      "  \"landmarks\": [\"Unknown\"]\n",
      "}\n",
      "```\n"
     ]
    },
    {
     "name": "stderr",
     "output_type": "stream",
     "text": [
      "Processing Batch:  10%|██████▏                                                       | 2/20 [00:20<02:43,  9.08s/image]"
     ]
    },
    {
     "name": "stdout",
     "output_type": "stream",
     "text": [
      "Processing image http://www.loc.gov/item/2019697310/...\n"
     ]
    },
    {
     "name": "stderr",
     "output_type": "stream",
     "text": [
      "Processing Batch:  10%|██████▏                                                       | 2/20 [00:24<02:43,  9.08s/image]"
     ]
    },
    {
     "name": "stdout",
     "output_type": "stream",
     "text": [
      "Result: ```json\n",
      "{\n",
      "  \"id\": \"2019697310\",\n",
      "  \"city\": \"Jerusalem\",\n",
      "  \"landmarks\": [\"Unknown\"]\n",
      "}\n",
      "```\n"
     ]
    },
    {
     "name": "stderr",
     "output_type": "stream",
     "text": [
      "Processing Batch:  15%|█████████▎                                                    | 3/20 [00:31<02:51, 10.11s/image]"
     ]
    },
    {
     "name": "stdout",
     "output_type": "stream",
     "text": [
      "Processing image http://www.loc.gov/item/2019697311/...\n"
     ]
    },
    {
     "name": "stderr",
     "output_type": "stream",
     "text": [
      "Processing Batch:  15%|█████████▎                                                    | 3/20 [00:34<02:51, 10.11s/image]"
     ]
    },
    {
     "name": "stdout",
     "output_type": "stream",
     "text": [
      "Result: ```json\n",
      "{\n",
      "  \"id\": \"2019697311\",\n",
      "  \"city\": \"Jerusalem\",\n",
      "  \"landmarks\": [\"Unknown\"]\n",
      "}\n",
      "```\n"
     ]
    },
    {
     "name": "stderr",
     "output_type": "stream",
     "text": [
      "Processing Batch:  20%|████████████▍                                                 | 4/20 [00:43<02:43, 10.25s/image]"
     ]
    },
    {
     "name": "stdout",
     "output_type": "stream",
     "text": [
      "Processing image http://www.loc.gov/item/2019697328/...\n"
     ]
    },
    {
     "name": "stderr",
     "output_type": "stream",
     "text": [
      "Processing Batch:  20%|████████████▍                                                 | 4/20 [00:46<02:43, 10.25s/image]"
     ]
    },
    {
     "name": "stdout",
     "output_type": "stream",
     "text": [
      "Result: ```json\n",
      "{\n",
      "  \"id\": \"2019697328\",\n",
      "  \"city\": \"Jerusalem\",\n",
      "  \"landmarks\": [\"Unknown\"]\n",
      "}\n",
      "```\n"
     ]
    },
    {
     "name": "stderr",
     "output_type": "stream",
     "text": [
      "Processing Batch:  25%|███████████████▌                                              | 5/20 [00:53<02:42, 10.85s/image]"
     ]
    },
    {
     "name": "stdout",
     "output_type": "stream",
     "text": [
      "Processing image http://www.loc.gov/item/2019696012/...\n"
     ]
    },
    {
     "name": "stderr",
     "output_type": "stream",
     "text": [
      "Processing Batch:  25%|███████████████▌                                              | 5/20 [00:56<02:42, 10.85s/image]"
     ]
    },
    {
     "name": "stdout",
     "output_type": "stream",
     "text": [
      "Result: ```json\n",
      "{\n",
      "  \"id\": \"2019696012\",\n",
      "  \"city\": \"Jerusalem\",\n",
      "  \"landmarks\": [\"Jerusalem water works\", \"Guard house at Jerusalem reservoir\"]\n",
      "}\n",
      "```\n"
     ]
    },
    {
     "name": "stderr",
     "output_type": "stream",
     "text": [
      "Processing Batch:  30%|██████████████████▌                                           | 6/20 [01:04<02:27, 10.55s/image]"
     ]
    },
    {
     "name": "stdout",
     "output_type": "stream",
     "text": [
      "Processing image http://www.loc.gov/item/2019699370/...\n"
     ]
    },
    {
     "name": "stderr",
     "output_type": "stream",
     "text": [
      "Processing Batch:  30%|██████████████████▌                                           | 6/20 [01:09<02:27, 10.55s/image]"
     ]
    },
    {
     "name": "stdout",
     "output_type": "stream",
     "text": [
      "Result: ```json\n",
      "{\n",
      "  \"id\": \"2019699370\",\n",
      "  \"city\": \"Jerusalem\",\n",
      "  \"landmarks\": [\"Jerusalem Waterworks\"]\n",
      "}\n",
      "```\n"
     ]
    },
    {
     "name": "stderr",
     "output_type": "stream",
     "text": [
      "Processing Batch:  35%|█████████████████████▋                                        | 7/20 [01:18<02:27, 11.33s/image]"
     ]
    },
    {
     "name": "stdout",
     "output_type": "stream",
     "text": [
      "Processing image http://www.loc.gov/item/2019696754/...\n"
     ]
    },
    {
     "name": "stderr",
     "output_type": "stream",
     "text": [
      "Processing Batch:  35%|█████████████████████▋                                        | 7/20 [01:24<02:27, 11.33s/image]"
     ]
    },
    {
     "name": "stdout",
     "output_type": "stream",
     "text": [
      "Result: ```json\n",
      "{\n",
      "  \"id\": \"2019696754\",\n",
      "  \"city\": \"Jerusalem\",\n",
      "  \"landmarks\": [\"Jerusalem Reservoir\"]\n",
      "}\n",
      "```\n"
     ]
    },
    {
     "name": "stderr",
     "output_type": "stream",
     "text": [
      "Processing Batch:  40%|████████████████████████▊                                     | 8/20 [01:31<02:27, 12.33s/image]"
     ]
    },
    {
     "name": "stdout",
     "output_type": "stream",
     "text": [
      "Processing image http://www.loc.gov/item/2019696667/...\n"
     ]
    },
    {
     "name": "stderr",
     "output_type": "stream",
     "text": [
      "Processing Batch:  40%|████████████████████████▊                                     | 8/20 [01:36<02:27, 12.33s/image]"
     ]
    },
    {
     "name": "stdout",
     "output_type": "stream",
     "text": [
      "Result: ```json\n",
      "{\n",
      "  \"id\": \"2019696667\",\n",
      "  \"city\": \"Jerusalem\",\n",
      "  \"landmarks\": [\"Jerusalem Reservoir\"]\n",
      "}\n",
      "```\n"
     ]
    },
    {
     "name": "stderr",
     "output_type": "stream",
     "text": [
      "Processing Batch:  45%|███████████████████████████▉                                  | 9/20 [01:44<02:14, 12.24s/image]"
     ]
    },
    {
     "name": "stdout",
     "output_type": "stream",
     "text": [
      "Processing image http://www.loc.gov/item/2019696668/...\n"
     ]
    },
    {
     "name": "stderr",
     "output_type": "stream",
     "text": [
      "Processing Batch:  45%|███████████████████████████▉                                  | 9/20 [01:49<02:14, 12.24s/image]"
     ]
    },
    {
     "name": "stdout",
     "output_type": "stream",
     "text": [
      "Result: ```json\n",
      "{\n",
      "  \"id\": \"2019696668\",\n",
      "  \"city\": \"Jerusalem\",\n",
      "  \"landmarks\": [\"Jerusalem Reservoir\"]\n",
      "}\n",
      "```\n"
     ]
    },
    {
     "name": "stderr",
     "output_type": "stream",
     "text": [
      "Processing Batch:  50%|██████████████████████████████▌                              | 10/20 [01:56<02:05, 12.56s/image]"
     ]
    },
    {
     "name": "stdout",
     "output_type": "stream",
     "text": [
      "Processing image http://www.loc.gov/item/2019699372/...\n"
     ]
    },
    {
     "name": "stderr",
     "output_type": "stream",
     "text": [
      "Processing Batch:  50%|██████████████████████████████▌                              | 10/20 [02:02<02:05, 12.56s/image]"
     ]
    },
    {
     "name": "stdout",
     "output_type": "stream",
     "text": [
      "Result: ```json\n",
      "{\n",
      "  \"id\": \"2019699372\",\n",
      "  \"city\": \"Jerusalem\",\n",
      "  \"landmarks\": [\"Jerusalem Waterworks\"]\n",
      "}\n",
      "```\n"
     ]
    },
    {
     "name": "stderr",
     "output_type": "stream",
     "text": [
      "Processing Batch:  55%|█████████████████████████████████▌                           | 11/20 [02:10<01:54, 12.76s/image]"
     ]
    },
    {
     "name": "stdout",
     "output_type": "stream",
     "text": [
      "Processing image http://www.loc.gov/item/2019699373/...\n"
     ]
    },
    {
     "name": "stderr",
     "output_type": "stream",
     "text": [
      "Processing Batch:  55%|█████████████████████████████████▌                           | 11/20 [02:14<01:54, 12.76s/image]"
     ]
    },
    {
     "name": "stdout",
     "output_type": "stream",
     "text": [
      "Result: ```json\n",
      "{\n",
      "  \"id\": \"2019699373\",\n",
      "  \"city\": \"Jerusalem\",\n",
      "  \"landmarks\": [\"Jerusalem Waterworks\"]\n",
      "}\n",
      "```\n"
     ]
    },
    {
     "name": "stderr",
     "output_type": "stream",
     "text": [
      "Processing Batch:  60%|████████████████████████████████████▌                        | 12/20 [02:22<01:38, 12.34s/image]"
     ]
    },
    {
     "name": "stdout",
     "output_type": "stream",
     "text": [
      "Processing image http://www.loc.gov/item/2019699375/...\n"
     ]
    },
    {
     "name": "stderr",
     "output_type": "stream",
     "text": [
      "Processing Batch:  60%|████████████████████████████████████▌                        | 12/20 [02:26<01:38, 12.34s/image]"
     ]
    },
    {
     "name": "stdout",
     "output_type": "stream",
     "text": [
      "Result: ```json\n",
      "{\n",
      "  \"id\": \"2019699375\",\n",
      "  \"city\": \"Jerusalem\",\n",
      "  \"landmarks\": [\"Jerusalem Waterworks\"]\n",
      "}\n",
      "```\n"
     ]
    },
    {
     "name": "stderr",
     "output_type": "stream",
     "text": [
      "Processing Batch:  65%|███████████████████████████████████████▋                     | 13/20 [02:33<01:27, 12.48s/image]"
     ]
    },
    {
     "name": "stdout",
     "output_type": "stream",
     "text": [
      "Processing image http://www.loc.gov/item/2019694464/...\n"
     ]
    },
    {
     "name": "stderr",
     "output_type": "stream",
     "text": [
      "Processing Batch:  65%|███████████████████████████████████████▋                     | 13/20 [02:37<01:27, 12.48s/image]"
     ]
    },
    {
     "name": "stdout",
     "output_type": "stream",
     "text": [
      "Result: ```json\n",
      "{\n",
      "  \"id\": \"2019694464\",\n",
      "  \"city\": \"Jerusalem\",\n",
      "  \"landmarks\": [\"Mount of Olives\", \"Tower of Latin Convent\"]\n",
      "}\n",
      "```\n"
     ]
    },
    {
     "name": "stderr",
     "output_type": "stream",
     "text": [
      "Processing Batch:  70%|██████████████████████████████████████████▋                  | 14/20 [02:44<01:10, 11.80s/image]"
     ]
    },
    {
     "name": "stdout",
     "output_type": "stream",
     "text": [
      "Processing image http://www.loc.gov/item/2019694465/...\n"
     ]
    },
    {
     "name": "stderr",
     "output_type": "stream",
     "text": [
      "Processing Batch:  70%|██████████████████████████████████████████▋                  | 14/20 [02:47<01:10, 11.80s/image]"
     ]
    },
    {
     "name": "stdout",
     "output_type": "stream",
     "text": [
      "Result: ```json\n",
      "{\n",
      "  \"id\": \"2019694465\",\n",
      "  \"city\": \"Jerusalem\",\n",
      "  \"landmarks\": [\"Mount of Olives\", \"Latin Convent\"]\n",
      "}\n",
      "```\n"
     ]
    },
    {
     "name": "stderr",
     "output_type": "stream",
     "text": [
      "Processing Batch:  75%|█████████████████████████████████████████████▊               | 15/20 [02:54<00:56, 11.32s/image]"
     ]
    },
    {
     "name": "stdout",
     "output_type": "stream",
     "text": [
      "Processing image http://www.loc.gov/item/2001695421/...\n"
     ]
    },
    {
     "name": "stderr",
     "output_type": "stream",
     "text": [
      "Processing Batch:  75%|█████████████████████████████████████████████▊               | 15/20 [02:57<00:56, 11.32s/image]"
     ]
    },
    {
     "name": "stdout",
     "output_type": "stream",
     "text": [
      "Result: ```json\n",
      "{\n",
      "  \"id\": \"2001695421\",\n",
      "  \"city\": \"Jerusalem\",\n",
      "  \"landmarks\": [\"Tomb of Zacharias\"]\n",
      "}\n",
      "```\n"
     ]
    },
    {
     "name": "stderr",
     "output_type": "stream",
     "text": [
      "Processing Batch:  80%|████████████████████████████████████████████████▊            | 16/20 [03:04<00:44, 11.04s/image]"
     ]
    },
    {
     "name": "stdout",
     "output_type": "stream",
     "text": [
      "Processing image http://www.loc.gov/item/2020735277/...\n"
     ]
    },
    {
     "name": "stderr",
     "output_type": "stream",
     "text": [
      "Processing Batch:  80%|████████████████████████████████████████████████▊            | 16/20 [03:08<00:44, 11.04s/image]"
     ]
    },
    {
     "name": "stdout",
     "output_type": "stream",
     "text": [
      "Result: ```json\n",
      "{\n",
      "  \"id\": \"2020735277\",\n",
      "  \"city\": \"Jerusalem\",\n",
      "  \"landmarks\": [\"Unknown\"]\n",
      "}\n",
      "```\n"
     ]
    },
    {
     "name": "stderr",
     "output_type": "stream",
     "text": [
      "Processing Batch:  85%|███████████████████████████████████████████████████▊         | 17/20 [03:16<00:32, 10.80s/image]"
     ]
    },
    {
     "name": "stdout",
     "output_type": "stream",
     "text": [
      "Processing image http://www.loc.gov/item/2020735278/...\n"
     ]
    },
    {
     "name": "stderr",
     "output_type": "stream",
     "text": [
      "Processing Batch:  85%|███████████████████████████████████████████████████▊         | 17/20 [03:20<00:32, 10.80s/image]"
     ]
    },
    {
     "name": "stdout",
     "output_type": "stream",
     "text": [
      "Result: ```json\n",
      "{\n",
      "  \"id\": \"2020735278\",\n",
      "  \"city\": \"Jerusalem\",\n",
      "  \"landmarks\": [\"Unknown\"]\n",
      "}\n",
      "```\n"
     ]
    },
    {
     "name": "stderr",
     "output_type": "stream",
     "text": [
      "Processing Batch:  90%|██████████████████████████████████████████████████████▉      | 18/20 [03:28<00:22, 11.20s/image]"
     ]
    },
    {
     "name": "stdout",
     "output_type": "stream",
     "text": [
      "Processing image http://www.loc.gov/item/2020735283/...\n"
     ]
    },
    {
     "name": "stderr",
     "output_type": "stream",
     "text": [
      "Processing Batch:  90%|██████████████████████████████████████████████████████▉      | 18/20 [03:30<00:22, 11.20s/image]"
     ]
    },
    {
     "name": "stdout",
     "output_type": "stream",
     "text": [
      "Result: ```json\n",
      "{\n",
      "  \"id\": \"2020735283\",\n",
      "  \"city\": \"Jerusalem\",\n",
      "  \"landmarks\": [\"Unknown\"]\n",
      "}\n",
      "```\n"
     ]
    },
    {
     "name": "stderr",
     "output_type": "stream",
     "text": [
      "Processing Batch:  95%|█████████████████████████████████████████████████████████▉   | 19/20 [03:38<00:10, 10.94s/image]"
     ]
    },
    {
     "name": "stdout",
     "output_type": "stream",
     "text": [
      "Processing image http://www.loc.gov/item/2020735306/...\n"
     ]
    },
    {
     "name": "stderr",
     "output_type": "stream",
     "text": [
      "Processing Batch:  95%|█████████████████████████████████████████████████████████▉   | 19/20 [03:41<00:10, 10.94s/image]"
     ]
    },
    {
     "name": "stdout",
     "output_type": "stream",
     "text": [
      "Result: ```json\n",
      "{\n",
      "  \"id\": \"2020735306\",\n",
      "  \"city\": \"Jerusalem\",\n",
      "  \"landmarks\": [\"Unknown\"]\n",
      "}\n",
      "```\n"
     ]
    },
    {
     "name": "stderr",
     "output_type": "stream",
     "text": [
      "Processing Batch: 100%|█████████████████████████████████████████████████████████████| 20/20 [03:46<00:00, 11.32s/image]\n"
     ]
    },
    {
     "name": "stdout",
     "output_type": "stream",
     "text": [
      "Completed a batch. Pausing for 15 minutes before starting the next batch.\n"
     ]
    },
    {
     "name": "stderr",
     "output_type": "stream",
     "text": [
      "Processing Batch:   0%|                                                                      | 0/20 [00:03<?, ?image/s]"
     ]
    },
    {
     "name": "stdout",
     "output_type": "stream",
     "text": [
      "Processing image http://www.loc.gov/item/2002707657/...\n"
     ]
    },
    {
     "name": "stderr",
     "output_type": "stream",
     "text": [
      "Processing Batch:   0%|                                                                      | 0/20 [00:05<?, ?image/s]"
     ]
    },
    {
     "name": "stdout",
     "output_type": "stream",
     "text": [
      "Result: ```json\n",
      "{\n",
      "  \"id\": \"http://www.loc.gov/item/2002707657/\",\n",
      "  \"city\": \"Jerusalem\",\n",
      "  \"landmarks\": [\"Unknown\"]\n",
      "}\n",
      "```\n"
     ]
    },
    {
     "name": "stderr",
     "output_type": "stream",
     "text": [
      "Processing Batch:   5%|███                                                           | 1/20 [00:13<03:16, 10.35s/image]"
     ]
    },
    {
     "name": "stdout",
     "output_type": "stream",
     "text": [
      "Processing image http://www.loc.gov/item/2017648272/...\n"
     ]
    },
    {
     "name": "stderr",
     "output_type": "stream",
     "text": [
      "Processing Batch:   5%|███                                                           | 1/20 [00:18<03:16, 10.35s/image]"
     ]
    },
    {
     "name": "stdout",
     "output_type": "stream",
     "text": [
      "Result: ```json\n",
      "{\n",
      "  \"id\": \"2017648272\",\n",
      "  \"city\": \"Jerusalem\",\n",
      "  \"landmarks\": [\"Unknown\"]\n",
      "}\n",
      "```\n"
     ]
    },
    {
     "name": "stderr",
     "output_type": "stream",
     "text": [
      "Processing Batch:  10%|██████▏                                                       | 2/20 [00:27<03:39, 12.21s/image]"
     ]
    },
    {
     "name": "stdout",
     "output_type": "stream",
     "text": [
      "Processing image http://www.loc.gov/item/2019697724/...\n"
     ]
    },
    {
     "name": "stderr",
     "output_type": "stream",
     "text": [
      "Processing Batch:  10%|██████▏                                                       | 2/20 [00:30<03:39, 12.21s/image]"
     ]
    },
    {
     "name": "stdout",
     "output_type": "stream",
     "text": [
      "Result: ```json\n",
      "{\n",
      "  \"id\": \"2019697724\",\n",
      "  \"city\": \"Jerusalem\",\n",
      "  \"landmarks\": [\"Dome of the Rock Tiles workshop\", \"Via Dolorosa\"]\n",
      "}\n",
      "```\n"
     ]
    },
    {
     "name": "stderr",
     "output_type": "stream",
     "text": [
      "Processing Batch:  15%|█████████▎                                                    | 3/20 [00:37<03:24, 12.04s/image]"
     ]
    },
    {
     "name": "stdout",
     "output_type": "stream",
     "text": [
      "Processing image http://www.loc.gov/item/2019699374/...\n"
     ]
    },
    {
     "name": "stderr",
     "output_type": "stream",
     "text": [
      "Processing Batch:  15%|█████████▎                                                    | 3/20 [00:41<03:24, 12.04s/image]"
     ]
    },
    {
     "name": "stdout",
     "output_type": "stream",
     "text": [
      "Result: ```json\n",
      "{\n",
      "  \"id\": \"2019699374\",\n",
      "  \"city\": \"Jerusalem\",\n",
      "  \"landmarks\": [\"Jerusalem Waterworks\"]\n",
      "}\n",
      "```\n"
     ]
    },
    {
     "name": "stderr",
     "output_type": "stream",
     "text": [
      "Processing Batch:  20%|████████████▍                                                 | 4/20 [00:49<03:05, 11.62s/image]"
     ]
    },
    {
     "name": "stdout",
     "output_type": "stream",
     "text": [
      "Processing image http://www.loc.gov/item/2019699377/...\n"
     ]
    },
    {
     "name": "stderr",
     "output_type": "stream",
     "text": [
      "Processing Batch:  20%|████████████▍                                                 | 4/20 [00:52<03:05, 11.62s/image]"
     ]
    },
    {
     "name": "stdout",
     "output_type": "stream",
     "text": [
      "Result: ```json\n",
      "{\n",
      "  \"id\": \"2019699377\",\n",
      "  \"city\": \"Jerusalem\",\n",
      "  \"landmarks\": [\"Jerusalem Waterworks\"]\n",
      "}\n",
      "```\n"
     ]
    },
    {
     "name": "stderr",
     "output_type": "stream",
     "text": [
      "Processing Batch:  25%|███████████████▌                                              | 5/20 [01:00<02:52, 11.48s/image]"
     ]
    },
    {
     "name": "stdout",
     "output_type": "stream",
     "text": [
      "Processing image http://www.loc.gov/item/2019699389/...\n"
     ]
    },
    {
     "name": "stderr",
     "output_type": "stream",
     "text": [
      "Processing Batch:  25%|███████████████▌                                              | 5/20 [01:06<02:52, 11.48s/image]"
     ]
    },
    {
     "name": "stdout",
     "output_type": "stream",
     "text": [
      "Result: ```json\n",
      "{\n",
      "  \"id\": \"2019699389\",\n",
      "  \"city\": \"Jerusalem\",\n",
      "  \"landmarks\": [\"Jerusalem Waterworks\"]\n",
      "}\n",
      "```\n"
     ]
    },
    {
     "name": "stderr",
     "output_type": "stream",
     "text": [
      "Processing Batch:  30%|██████████████████▌                                           | 6/20 [01:12<02:48, 12.04s/image]"
     ]
    },
    {
     "name": "stdout",
     "output_type": "stream",
     "text": [
      "Processing image http://www.loc.gov/item/2001695431/...\n"
     ]
    },
    {
     "name": "stderr",
     "output_type": "stream",
     "text": [
      "Processing Batch:  30%|██████████████████▌                                           | 6/20 [01:19<02:48, 12.04s/image]"
     ]
    },
    {
     "name": "stdout",
     "output_type": "stream",
     "text": [
      "Result: ```json\n",
      "{\n",
      "  \"id\": \"2001695431\",\n",
      "  \"city\": \"Jerusalem\",\n",
      "  \"landmarks\": [\"Garden of Olives\"]\n",
      "}\n",
      "```\n"
     ]
    },
    {
     "name": "stderr",
     "output_type": "stream",
     "text": [
      "Processing Batch:  35%|█████████████████████▋                                        | 7/20 [01:27<02:40, 12.38s/image]"
     ]
    },
    {
     "name": "stdout",
     "output_type": "stream",
     "text": [
      "Processing image http://www.loc.gov/item/2023688923/...\n"
     ]
    },
    {
     "name": "stderr",
     "output_type": "stream",
     "text": [
      "Processing Batch:  35%|█████████████████████▋                                        | 7/20 [01:30<02:40, 12.38s/image]"
     ]
    },
    {
     "name": "stdout",
     "output_type": "stream",
     "text": [
      "Result: ```json\n",
      "{\n",
      "  \"id\": \"2023688923\",\n",
      "  \"city\": \"Jerusalem\",\n",
      "  \"landmarks\": [\"Al-Aqsa Mosque\"]\n",
      "}\n",
      "```\n"
     ]
    },
    {
     "name": "stderr",
     "output_type": "stream",
     "text": [
      "Processing Batch:  40%|████████████████████████▊                                     | 8/20 [01:39<02:25, 12.13s/image]"
     ]
    },
    {
     "name": "stdout",
     "output_type": "stream",
     "text": [
      "Processing image http://www.loc.gov/item/93508061/...\n"
     ]
    },
    {
     "name": "stderr",
     "output_type": "stream",
     "text": [
      "Processing Batch:  40%|████████████████████████▊                                     | 8/20 [01:41<02:25, 12.13s/image]"
     ]
    },
    {
     "name": "stdout",
     "output_type": "stream",
     "text": [
      "Result: ```json\n",
      "{\n",
      "  \"id\": \"93508061\",\n",
      "  \"city\": \"Jerusalem\",\n",
      "  \"landmarks\": [\"Unknown\"]\n",
      "}\n",
      "```\n"
     ]
    },
    {
     "name": "stderr",
     "output_type": "stream",
     "text": [
      "Processing Batch:  45%|███████████████████████████▉                                  | 9/20 [01:49<02:10, 11.84s/image]"
     ]
    },
    {
     "name": "stdout",
     "output_type": "stream",
     "text": [
      "Processing image http://www.loc.gov/item/00652990/...\n"
     ]
    },
    {
     "name": "stderr",
     "output_type": "stream",
     "text": [
      "Processing Batch:  45%|███████████████████████████▉                                  | 9/20 [01:53<02:10, 11.84s/image]"
     ]
    },
    {
     "name": "stdout",
     "output_type": "stream",
     "text": [
      "Result: ```json\n",
      "{\n",
      "  \"id\": \"00652990\",\n",
      "  \"city\": \"Jerusalem\",\n",
      "  \"landmarks\": [\"Mount of Olives\", \"Mount Scopus\"]\n",
      "}\n",
      "```\n"
     ]
    },
    {
     "name": "stderr",
     "output_type": "stream",
     "text": [
      "Processing Batch:  50%|██████████████████████████████▌                              | 10/20 [02:01<01:58, 11.85s/image]"
     ]
    },
    {
     "name": "stdout",
     "output_type": "stream",
     "text": [
      "Processing image http://www.loc.gov/item/2001695407/...\n"
     ]
    },
    {
     "name": "stderr",
     "output_type": "stream",
     "text": [
      "Processing Batch:  50%|██████████████████████████████▌                              | 10/20 [02:04<01:58, 11.85s/image]"
     ]
    },
    {
     "name": "stdout",
     "output_type": "stream",
     "text": [
      "Result: ```json\n",
      "{\n",
      "  \"id\": \"2001695407\",\n",
      "  \"city\": \"Jerusalem\",\n",
      "  \"landmarks\": [\"Tomb of Absalom\"]\n",
      "}\n",
      "```\n"
     ]
    },
    {
     "name": "stderr",
     "output_type": "stream",
     "text": [
      "Processing Batch:  55%|█████████████████████████████████▌                           | 11/20 [02:13<01:43, 11.45s/image]"
     ]
    },
    {
     "name": "stdout",
     "output_type": "stream",
     "text": [
      "Processing image http://www.loc.gov/item/2007675850/...\n"
     ]
    },
    {
     "name": "stderr",
     "output_type": "stream",
     "text": [
      "Processing Batch:  55%|█████████████████████████████████▌                           | 11/20 [02:15<01:43, 11.45s/image]"
     ]
    },
    {
     "name": "stdout",
     "output_type": "stream",
     "text": [
      "Result: ```json\n",
      "{\n",
      "  \"id\": \"2007675850\",\n",
      "  \"city\": \"Jerusalem\",\n",
      "  \"landmarks\": [\"Armenian Patriarchate\"]\n",
      "}\n",
      "```\n"
     ]
    },
    {
     "name": "stderr",
     "output_type": "stream",
     "text": [
      "Processing Batch:  60%|████████████████████████████████████▌                        | 12/20 [02:25<01:30, 11.26s/image]"
     ]
    },
    {
     "name": "stdout",
     "output_type": "stream",
     "text": [
      "Processing image http://www.loc.gov/item/2019702929/...\n"
     ]
    },
    {
     "name": "stderr",
     "output_type": "stream",
     "text": [
      "Processing Batch:  60%|████████████████████████████████████▌                        | 12/20 [02:29<01:30, 11.26s/image]"
     ]
    },
    {
     "name": "stdout",
     "output_type": "stream",
     "text": [
      "Result: ```json\n",
      "{\n",
      "  \"id\": \"2019702929\",\n",
      "  \"city\": \"Jerusalem\",\n",
      "  \"landmarks\": [\"Sansur Building\", \"Zion Square\", \"Café Europe\"]\n",
      "}\n",
      "```\n"
     ]
    },
    {
     "name": "stderr",
     "output_type": "stream",
     "text": [
      "Processing Batch:  65%|███████████████████████████████████████▋                     | 13/20 [02:37<01:25, 12.25s/image]"
     ]
    },
    {
     "name": "stdout",
     "output_type": "stream",
     "text": [
      "Processing image http://www.loc.gov/item/2001695425/...\n"
     ]
    },
    {
     "name": "stderr",
     "output_type": "stream",
     "text": [
      "Processing Batch:  65%|███████████████████████████████████████▋                     | 13/20 [02:39<01:25, 12.25s/image]"
     ]
    },
    {
     "name": "stdout",
     "output_type": "stream",
     "text": [
      "Result: ```json\n",
      "{\n",
      "  \"id\": \"2001695425\",\n",
      "  \"city\": \"Jerusalem\",\n",
      "  \"landmarks\": [\"Via Dolorosa\"]\n",
      "}\n",
      "```\n"
     ]
    },
    {
     "name": "stderr",
     "output_type": "stream",
     "text": [
      "Processing Batch:  70%|██████████████████████████████████████████▋                  | 14/20 [02:46<01:08, 11.50s/image]"
     ]
    },
    {
     "name": "stdout",
     "output_type": "stream",
     "text": [
      "Processing image http://www.loc.gov/item/2023688924/...\n"
     ]
    },
    {
     "name": "stderr",
     "output_type": "stream",
     "text": [
      "Processing Batch:  70%|██████████████████████████████████████████▋                  | 14/20 [02:49<01:08, 11.50s/image]"
     ]
    },
    {
     "name": "stdout",
     "output_type": "stream",
     "text": [
      "Result: ```json\n",
      "{\n",
      "  \"id\": \"2023688924\",\n",
      "  \"city\": \"Jerusalem\",\n",
      "  \"landmarks\": [\"Dung Gate\", \"Jerusalem Hotel\"]\n",
      "}\n",
      "```\n"
     ]
    },
    {
     "name": "stderr",
     "output_type": "stream",
     "text": [
      "Processing Batch:  75%|█████████████████████████████████████████████▊               | 15/20 [02:58<00:55, 11.05s/image]"
     ]
    },
    {
     "name": "stdout",
     "output_type": "stream",
     "text": [
      "Processing image http://www.loc.gov/item/2019698434/...\n"
     ]
    },
    {
     "name": "stderr",
     "output_type": "stream",
     "text": [
      "Processing Batch:  75%|█████████████████████████████████████████████▊               | 15/20 [03:01<00:55, 11.05s/image]"
     ]
    },
    {
     "name": "stdout",
     "output_type": "stream",
     "text": [
      "Result: ```json\n",
      "{\n",
      "  \"id\": \"2019698434\",\n",
      "  \"city\": \"Jerusalem\",\n",
      "  \"landmarks\": [\"Mount of Olives\", \"German Lutheran Church\"]\n",
      "}\n",
      "```\n"
     ]
    },
    {
     "name": "stderr",
     "output_type": "stream",
     "text": [
      "Processing Batch:  80%|████████████████████████████████████████████████▊            | 16/20 [03:08<00:45, 11.31s/image]"
     ]
    },
    {
     "name": "stdout",
     "output_type": "stream",
     "text": [
      "Processing image http://www.loc.gov/item/93512416/...\n"
     ]
    },
    {
     "name": "stderr",
     "output_type": "stream",
     "text": [
      "Processing Batch:  80%|████████████████████████████████████████████████▊            | 16/20 [03:10<00:45, 11.31s/image]"
     ]
    },
    {
     "name": "stdout",
     "output_type": "stream",
     "text": [
      "Result: ```json\n",
      "{\n",
      "  \"id\": \"93512416\",\n",
      "  \"city\": \"Jerusalem\",\n",
      "  \"landmarks\": [\"Unknown\"]\n",
      "}\n",
      "```\n"
     ]
    },
    {
     "name": "stderr",
     "output_type": "stream",
     "text": [
      "Processing Batch:  85%|███████████████████████████████████████████████████▊         | 17/20 [03:18<00:32, 10.76s/image]"
     ]
    },
    {
     "name": "stdout",
     "output_type": "stream",
     "text": [
      "Processing image http://www.loc.gov/item/2019698683/...\n"
     ]
    },
    {
     "name": "stderr",
     "output_type": "stream",
     "text": [
      "Processing Batch:  85%|███████████████████████████████████████████████████▊         | 17/20 [03:22<00:32, 10.76s/image]"
     ]
    },
    {
     "name": "stdout",
     "output_type": "stream",
     "text": [
      "Result: ```json\n",
      "{\n",
      "  \"id\": \"2019698683\",\n",
      "  \"city\": \"Jerusalem\",\n",
      "  \"landmarks\": [\"Relief map of Jerusalem by Ernest Forrest Beaumont\"]\n",
      "}\n",
      "```\n"
     ]
    },
    {
     "name": "stderr",
     "output_type": "stream",
     "text": [
      "Processing Batch:  90%|██████████████████████████████████████████████████████▉      | 18/20 [03:29<00:22, 11.08s/image]"
     ]
    },
    {
     "name": "stdout",
     "output_type": "stream",
     "text": [
      "Processing image http://www.loc.gov/item/2019705392/...\n"
     ]
    },
    {
     "name": "stderr",
     "output_type": "stream",
     "text": [
      "Processing Batch:  90%|██████████████████████████████████████████████████████▉      | 18/20 [03:34<00:22, 11.08s/image]"
     ]
    },
    {
     "name": "stdout",
     "output_type": "stream",
     "text": [
      "Result: ```json\n",
      "{\n",
      "  \"id\": \"2019705392\",\n",
      "  \"city\": \"Jerusalem\",\n",
      "  \"landmarks\": [\"Tower of David\", \"Mount of Olives\"]\n",
      "}\n",
      "```\n"
     ]
    },
    {
     "name": "stderr",
     "output_type": "stream",
     "text": [
      "Processing Batch:  95%|█████████████████████████████████████████████████████████▉   | 19/20 [03:41<00:11, 11.18s/image]"
     ]
    },
    {
     "name": "stdout",
     "output_type": "stream",
     "text": [
      "Processing image http://www.loc.gov/item/2019705412/...\n"
     ]
    },
    {
     "name": "stderr",
     "output_type": "stream",
     "text": [
      "Processing Batch:  95%|█████████████████████████████████████████████████████████▉   | 19/20 [03:43<00:11, 11.18s/image]"
     ]
    },
    {
     "name": "stdout",
     "output_type": "stream",
     "text": [
      "Result: ```json\n",
      "{\n",
      "  \"id\": \"2019705412\",\n",
      "  \"city\": \"Jerusalem\",\n",
      "  \"landmarks\": [\"Mount of Olives\", \"German Church\"]\n",
      "}\n",
      "```\n"
     ]
    },
    {
     "name": "stderr",
     "output_type": "stream",
     "text": [
      "Processing Batch: 100%|█████████████████████████████████████████████████████████████| 20/20 [03:48<00:00, 11.42s/image]\n"
     ]
    },
    {
     "name": "stdout",
     "output_type": "stream",
     "text": [
      "Completed a batch. Pausing for 15 minutes before starting the next batch.\n"
     ]
    },
    {
     "name": "stderr",
     "output_type": "stream",
     "text": [
      "Processing Batch:   0%|                                                                      | 0/20 [00:02<?, ?image/s]"
     ]
    },
    {
     "name": "stdout",
     "output_type": "stream",
     "text": [
      "Processing image http://www.loc.gov/item/2001695416/...\n"
     ]
    },
    {
     "name": "stderr",
     "output_type": "stream",
     "text": [
      "Processing Batch:   0%|                                                                      | 0/20 [00:05<?, ?image/s]"
     ]
    },
    {
     "name": "stdout",
     "output_type": "stream",
     "text": [
      "Result: ```json\n",
      "{\n",
      "  \"id\": \"2001695416\",\n",
      "  \"city\": \"Jerusalem\",\n",
      "  \"landmarks\": [\"Church of the Holy Sepulchre\"]\n",
      "}\n",
      "```\n"
     ]
    },
    {
     "name": "stderr",
     "output_type": "stream",
     "text": [
      "Processing Batch:   5%|███                                                           | 1/20 [00:15<03:14, 10.24s/image]"
     ]
    },
    {
     "name": "stdout",
     "output_type": "stream",
     "text": [
      "Processing image http://www.loc.gov/item/2006691714/...\n"
     ]
    },
    {
     "name": "stderr",
     "output_type": "stream",
     "text": [
      "Processing Batch:   5%|███                                                           | 1/20 [00:18<03:14, 10.24s/image]"
     ]
    },
    {
     "name": "stdout",
     "output_type": "stream",
     "text": [
      "Result: ```json\n",
      "{\n",
      "  \"id\": \"2006691714\",\n",
      "  \"city\": \"Jerusalem\",\n",
      "  \"landmarks\": [\"Unknown\"]\n",
      "}\n",
      "```\n"
     ]
    },
    {
     "name": "stderr",
     "output_type": "stream",
     "text": [
      "Processing Batch:  10%|██████▏                                                       | 2/20 [00:29<03:33, 11.85s/image]"
     ]
    },
    {
     "name": "stdout",
     "output_type": "stream",
     "text": [
      "Processing image http://www.loc.gov/item/00652992/...\n"
     ]
    },
    {
     "name": "stderr",
     "output_type": "stream",
     "text": [
      "Processing Batch:  10%|██████▏                                                       | 2/20 [00:32<03:33, 11.85s/image]"
     ]
    },
    {
     "name": "stdout",
     "output_type": "stream",
     "text": [
      "Result: ```json\n",
      "{\n",
      "  \"id\": \"00652992\",\n",
      "  \"city\": \"Jerusalem\",\n",
      "  \"landmarks\": [\"Masjid al-Aqsa\"]\n",
      "}\n",
      "```\n"
     ]
    },
    {
     "name": "stderr",
     "output_type": "stream",
     "text": [
      "Processing Batch:  15%|█████████▎                                                    | 3/20 [00:39<03:38, 12.83s/image]"
     ]
    },
    {
     "name": "stdout",
     "output_type": "stream",
     "text": [
      "Processing image http://www.loc.gov/item/2019703332/...\n"
     ]
    },
    {
     "name": "stderr",
     "output_type": "stream",
     "text": [
      "Processing Batch:  15%|█████████▎                                                    | 3/20 [00:43<03:38, 12.83s/image]"
     ]
    },
    {
     "name": "stdout",
     "output_type": "stream",
     "text": [
      "Result: ```json\n",
      "{\n",
      "  \"id\": \"2019703332\",\n",
      "  \"city\": \"Jerusalem\",\n",
      "  \"landmarks\": [\"Government House\"]\n",
      "}\n",
      "```\n"
     ]
    },
    {
     "name": "stderr",
     "output_type": "stream",
     "text": [
      "Processing Batch:  20%|████████████▍                                                 | 4/20 [00:52<03:17, 12.33s/image]"
     ]
    },
    {
     "name": "stdout",
     "output_type": "stream",
     "text": [
      "Processing image http://www.loc.gov/item/2019703333/...\n"
     ]
    },
    {
     "name": "stderr",
     "output_type": "stream",
     "text": [
      "Processing Batch:  20%|████████████▍                                                 | 4/20 [00:54<03:17, 12.33s/image]"
     ]
    },
    {
     "name": "stdout",
     "output_type": "stream",
     "text": [
      "Result: ```json\n",
      "{\n",
      "  \"id\": \"2019703333\",\n",
      "  \"city\": \"Jerusalem\",\n",
      "  \"landmarks\": [\"Government House\"]\n",
      "}\n",
      "```\n"
     ]
    },
    {
     "name": "stderr",
     "output_type": "stream",
     "text": [
      "Processing Batch:  25%|███████████████▌                                              | 5/20 [01:01<02:57, 11.83s/image]"
     ]
    },
    {
     "name": "stdout",
     "output_type": "stream",
     "text": [
      "Processing image http://www.loc.gov/item/2019703334/...\n"
     ]
    },
    {
     "name": "stderr",
     "output_type": "stream",
     "text": [
      "Processing Batch:  25%|███████████████▌                                              | 5/20 [01:11<02:57, 11.83s/image]"
     ]
    },
    {
     "name": "stdout",
     "output_type": "stream",
     "text": [
      "Result: ```json\n",
      "{\n",
      "  \"id\": \"2019703334\",\n",
      "  \"city\": \"Jerusalem\",\n",
      "  \"landmarks\": [\"Government House\"]\n",
      "}\n",
      "```\n"
     ]
    },
    {
     "name": "stderr",
     "output_type": "stream",
     "text": [
      "Processing Batch:  30%|██████████████████▌                                           | 6/20 [01:18<03:10, 13.58s/image]"
     ]
    },
    {
     "name": "stdout",
     "output_type": "stream",
     "text": [
      "Processing image http://www.loc.gov/item/2019703335/...\n"
     ]
    },
    {
     "name": "stderr",
     "output_type": "stream",
     "text": [
      "Processing Batch:  30%|██████████████████▌                                           | 6/20 [01:22<03:10, 13.58s/image]"
     ]
    },
    {
     "name": "stdout",
     "output_type": "stream",
     "text": [
      "Result: ```json\n",
      "{\n",
      "  \"id\": \"2019703335\",\n",
      "  \"city\": \"Jerusalem\",\n",
      "  \"landmarks\": [\"Government House\"]\n",
      "}\n",
      "```\n"
     ]
    },
    {
     "name": "stderr",
     "output_type": "stream",
     "text": [
      "Processing Batch:  35%|█████████████████████▋                                        | 7/20 [01:29<02:44, 12.66s/image]"
     ]
    },
    {
     "name": "stdout",
     "output_type": "stream",
     "text": [
      "Processing image http://www.loc.gov/item/2001695403/...\n"
     ]
    },
    {
     "name": "stderr",
     "output_type": "stream",
     "text": [
      "Processing Batch:  35%|█████████████████████▋                                        | 7/20 [01:32<02:44, 12.66s/image]"
     ]
    },
    {
     "name": "stdout",
     "output_type": "stream",
     "text": [
      "Result: ```json\n",
      "{\n",
      "  \"id\": \"2001695403\",\n",
      "  \"city\": \"Jerusalem\",\n",
      "  \"landmarks\": [\"Church of the Holy Sepulchre\"]\n",
      "}\n",
      "```\n"
     ]
    },
    {
     "name": "stderr",
     "output_type": "stream",
     "text": [
      "Processing Batch:  40%|████████████████████████▊                                     | 8/20 [01:39<02:20, 11.75s/image]"
     ]
    },
    {
     "name": "stdout",
     "output_type": "stream",
     "text": [
      "Processing image http://www.loc.gov/item/2019698357/...\n"
     ]
    },
    {
     "name": "stderr",
     "output_type": "stream",
     "text": [
      "Processing Batch:  40%|████████████████████████▊                                     | 8/20 [01:41<02:20, 11.75s/image]"
     ]
    },
    {
     "name": "stdout",
     "output_type": "stream",
     "text": [
      "Result: ```json\n",
      "{\n",
      "  \"id\": \"2019698357\",\n",
      "  \"city\": \"Jerusalem\",\n",
      "  \"landmarks\": [\"Unknown\"]\n",
      "}\n",
      "```\n"
     ]
    },
    {
     "name": "stderr",
     "output_type": "stream",
     "text": [
      "Processing Batch:  45%|███████████████████████████▉                                  | 9/20 [01:49<02:02, 11.13s/image]"
     ]
    },
    {
     "name": "stdout",
     "output_type": "stream",
     "text": [
      "Processing image http://www.loc.gov/item/97505993/...\n"
     ]
    },
    {
     "name": "stderr",
     "output_type": "stream",
     "text": [
      "Processing Batch:  45%|███████████████████████████▉                                  | 9/20 [01:51<02:02, 11.13s/image]"
     ]
    },
    {
     "name": "stdout",
     "output_type": "stream",
     "text": [
      "Result: ```json\n",
      "{\n",
      "  \"id\": \"97505993\",\n",
      "  \"city\": \"Jerusalem\",\n",
      "  \"landmarks\": [\"Grotto of Jeremiah\"]\n",
      "}\n",
      "```\n"
     ]
    },
    {
     "name": "stderr",
     "output_type": "stream",
     "text": [
      "Processing Batch:  50%|██████████████████████████████▌                              | 10/20 [01:58<01:45, 10.52s/image]"
     ]
    },
    {
     "name": "stdout",
     "output_type": "stream",
     "text": [
      "Processing image http://www.loc.gov/item/2019697933/...\n"
     ]
    },
    {
     "name": "stderr",
     "output_type": "stream",
     "text": [
      "Processing Batch:  50%|██████████████████████████████▌                              | 10/20 [02:01<01:45, 10.52s/image]"
     ]
    },
    {
     "name": "stdout",
     "output_type": "stream",
     "text": [
      "Result: ```json\n",
      "{\n",
      "  \"id\": \"2019697933\",\n",
      "  \"city\": \"Jerusalem\",\n",
      "  \"landmarks\": [\"Unknown\"]\n",
      "}\n",
      "```\n"
     ]
    },
    {
     "name": "stderr",
     "output_type": "stream",
     "text": [
      "Processing Batch:  55%|█████████████████████████████████▌                           | 11/20 [02:11<01:34, 10.48s/image]"
     ]
    },
    {
     "name": "stdout",
     "output_type": "stream",
     "text": [
      "Processing image http://www.loc.gov/item/2019695398/...\n"
     ]
    },
    {
     "name": "stderr",
     "output_type": "stream",
     "text": [
      "Processing Batch:  55%|█████████████████████████████████▌                           | 11/20 [02:15<01:34, 10.48s/image]"
     ]
    },
    {
     "name": "stdout",
     "output_type": "stream",
     "text": [
      "Result: ```json\n",
      "{\n",
      "  \"id\": \"2019695398\",\n",
      "  \"city\": \"Jerusalem\",\n",
      "  \"landmarks\": [\"Mount of Olives\"]\n",
      "}\n",
      "```\n"
     ]
    },
    {
     "name": "stderr",
     "output_type": "stream",
     "text": [
      "Processing Batch:  60%|████████████████████████████████████▌                        | 12/20 [02:24<01:32, 11.51s/image]"
     ]
    },
    {
     "name": "stdout",
     "output_type": "stream",
     "text": [
      "Processing image http://www.loc.gov/item/2001695408/...\n"
     ]
    },
    {
     "name": "stderr",
     "output_type": "stream",
     "text": [
      "Processing Batch:  60%|████████████████████████████████████▌                        | 12/20 [02:28<01:32, 11.51s/image]"
     ]
    },
    {
     "name": "stdout",
     "output_type": "stream",
     "text": [
      "Result: ```json\n",
      "{\n",
      "  \"id\": \"2001695408\",\n",
      "  \"city\": \"Jerusalem\",\n",
      "  \"landmarks\": [\"Tombs of the Kings\"]\n",
      "}\n",
      "```\n"
     ]
    },
    {
     "name": "stderr",
     "output_type": "stream",
     "text": [
      "Processing Batch:  65%|███████████████████████████████████████▋                     | 13/20 [02:36<01:23, 11.86s/image]"
     ]
    },
    {
     "name": "stdout",
     "output_type": "stream",
     "text": [
      "Processing image http://www.loc.gov/item/2019691983/...\n"
     ]
    },
    {
     "name": "stderr",
     "output_type": "stream",
     "text": [
      "Processing Batch:  65%|███████████████████████████████████████▋                     | 13/20 [02:39<01:23, 11.86s/image]"
     ]
    },
    {
     "name": "stdout",
     "output_type": "stream",
     "text": [
      "Result: ```json\n",
      "{\n",
      "  \"id\": \"2019691983\",\n",
      "  \"city\": \"Jerusalem\",\n",
      "  \"landmarks\": [\"Mount of Olives\"]\n",
      "}\n",
      "```\n"
     ]
    },
    {
     "name": "stderr",
     "output_type": "stream",
     "text": [
      "Processing Batch:  70%|██████████████████████████████████████████▋                  | 14/20 [02:46<01:09, 11.66s/image]"
     ]
    },
    {
     "name": "stdout",
     "output_type": "stream",
     "text": [
      "Processing image http://www.loc.gov/item/2019697932/...\n"
     ]
    },
    {
     "name": "stderr",
     "output_type": "stream",
     "text": [
      "Processing Batch:  70%|██████████████████████████████████████████▋                  | 14/20 [02:50<01:09, 11.66s/image]"
     ]
    },
    {
     "name": "stdout",
     "output_type": "stream",
     "text": [
      "Result: ```json\n",
      "{\n",
      "  \"id\": \"2019697932\",\n",
      "  \"city\": \"Jerusalem\",\n",
      "  \"landmarks\": [\"Unknown\"]\n",
      "}\n",
      "```\n"
     ]
    },
    {
     "name": "stderr",
     "output_type": "stream",
     "text": [
      "Processing Batch:  75%|█████████████████████████████████████████████▊               | 15/20 [02:58<00:57, 11.44s/image]"
     ]
    },
    {
     "name": "stdout",
     "output_type": "stream",
     "text": [
      "Processing image http://www.loc.gov/item/2019698355/...\n"
     ]
    },
    {
     "name": "stderr",
     "output_type": "stream",
     "text": [
      "Processing Batch:  75%|█████████████████████████████████████████████▊               | 15/20 [03:03<00:57, 11.44s/image]"
     ]
    },
    {
     "name": "stdout",
     "output_type": "stream",
     "text": [
      "Result: ```json\n",
      "{\n",
      "  \"id\": \"2019698355\",\n",
      "  \"city\": \"Jerusalem\",\n",
      "  \"landmarks\": [\"Jaffa Gate\"]\n",
      "}\n",
      "```\n"
     ]
    },
    {
     "name": "stderr",
     "output_type": "stream",
     "text": [
      "Processing Batch:  80%|████████████████████████████████████████████████▊            | 16/20 [03:11<00:48, 12.01s/image]"
     ]
    },
    {
     "name": "stdout",
     "output_type": "stream",
     "text": [
      "Processing image http://www.loc.gov/item/2019699379/...\n"
     ]
    },
    {
     "name": "stderr",
     "output_type": "stream",
     "text": [
      "Processing Batch:  80%|████████████████████████████████████████████████▊            | 16/20 [03:13<00:48, 12.01s/image]"
     ]
    },
    {
     "name": "stdout",
     "output_type": "stream",
     "text": [
      "Result: ```json\n",
      "{\n",
      "  \"id\": \"2019699379\",\n",
      "  \"city\": \"Jerusalem\",\n",
      "  \"landmarks\": [\"Jerusalem Waterworks\"]\n",
      "}\n",
      "```\n"
     ]
    },
    {
     "name": "stderr",
     "output_type": "stream",
     "text": [
      "Processing Batch:  85%|███████████████████████████████████████████████████▊         | 17/20 [03:22<00:34, 11.51s/image]"
     ]
    },
    {
     "name": "stdout",
     "output_type": "stream",
     "text": [
      "Processing image http://www.loc.gov/item/2019699380/...\n"
     ]
    },
    {
     "name": "stderr",
     "output_type": "stream",
     "text": [
      "Processing Batch:  85%|███████████████████████████████████████████████████▊         | 17/20 [03:26<00:34, 11.51s/image]"
     ]
    },
    {
     "name": "stdout",
     "output_type": "stream",
     "text": [
      "Result: ```json\n",
      "{\n",
      "  \"id\": \"2019699380\",\n",
      "  \"city\": \"Jerusalem\",\n",
      "  \"landmarks\": [\"Jerusalem Waterworks\"]\n",
      "}\n",
      "```\n"
     ]
    },
    {
     "name": "stderr",
     "output_type": "stream",
     "text": [
      "Processing Batch:  90%|██████████████████████████████████████████████████████▉      | 18/20 [03:33<00:23, 11.89s/image]"
     ]
    },
    {
     "name": "stdout",
     "output_type": "stream",
     "text": [
      "Processing image http://www.loc.gov/item/2019699381/...\n"
     ]
    },
    {
     "name": "stderr",
     "output_type": "stream",
     "text": [
      "Processing Batch:  90%|██████████████████████████████████████████████████████▉      | 18/20 [03:37<00:23, 11.89s/image]"
     ]
    },
    {
     "name": "stdout",
     "output_type": "stream",
     "text": [
      "Result: ```json\n",
      "{\n",
      "  \"id\": \"2019699381\",\n",
      "  \"city\": \"Jerusalem\",\n",
      "  \"landmarks\": [\"Jerusalem Waterworks\"]\n",
      "}\n",
      "```\n"
     ]
    },
    {
     "name": "stderr",
     "output_type": "stream",
     "text": [
      "Processing Batch:  95%|█████████████████████████████████████████████████████████▉   | 19/20 [03:47<00:11, 11.53s/image]"
     ]
    },
    {
     "name": "stdout",
     "output_type": "stream",
     "text": [
      "Processing image http://www.loc.gov/item/2019699365/...\n"
     ]
    },
    {
     "name": "stderr",
     "output_type": "stream",
     "text": [
      "Processing Batch:  95%|█████████████████████████████████████████████████████████▉   | 19/20 [03:49<00:11, 11.53s/image]"
     ]
    },
    {
     "name": "stdout",
     "output_type": "stream",
     "text": [
      "Result: ```json\n",
      "{\n",
      "  \"id\": \"2019699365\",\n",
      "  \"city\": \"Jerusalem\",\n",
      "  \"landmarks\": [\"Jerusalem Waterworks\"]\n",
      "}\n",
      "```\n"
     ]
    },
    {
     "name": "stderr",
     "output_type": "stream",
     "text": [
      "Processing Batch: 100%|█████████████████████████████████████████████████████████████| 20/20 [03:54<00:00, 11.72s/image]\n"
     ]
    },
    {
     "name": "stdout",
     "output_type": "stream",
     "text": [
      "Completed a batch. Pausing for 15 minutes before starting the next batch.\n"
     ]
    },
    {
     "name": "stderr",
     "output_type": "stream",
     "text": [
      "Processing Batch:   0%|                                                                      | 0/20 [00:02<?, ?image/s]"
     ]
    },
    {
     "name": "stdout",
     "output_type": "stream",
     "text": [
      "Processing image http://www.loc.gov/item/2019699384/...\n"
     ]
    },
    {
     "name": "stderr",
     "output_type": "stream",
     "text": [
      "Processing Batch:   0%|                                                                      | 0/20 [00:07<?, ?image/s]"
     ]
    },
    {
     "name": "stdout",
     "output_type": "stream",
     "text": [
      "Result: ```json\n",
      "{\n",
      "  \"id\": \"2019699384\",\n",
      "  \"city\": \"Jerusalem\",\n",
      "  \"landmarks\": [\"Jerusalem Waterworks\"]\n",
      "}\n",
      "```\n"
     ]
    },
    {
     "name": "stderr",
     "output_type": "stream",
     "text": [
      "Processing Batch:   5%|███                                                           | 1/20 [00:14<03:55, 12.41s/image]"
     ]
    },
    {
     "name": "stdout",
     "output_type": "stream",
     "text": [
      "Processing image http://www.loc.gov/item/2019699385/...\n"
     ]
    },
    {
     "name": "stderr",
     "output_type": "stream",
     "text": [
      "Processing Batch:   5%|███                                                           | 1/20 [00:17<03:55, 12.41s/image]"
     ]
    },
    {
     "name": "stdout",
     "output_type": "stream",
     "text": [
      "Result: ```json\n",
      "{\n",
      "  \"id\": \"2019699385\",\n",
      "  \"city\": \"Jerusalem\",\n",
      "  \"landmarks\": [\"Jerusalem Waterworks\"]\n",
      "}\n",
      "```\n"
     ]
    },
    {
     "name": "stderr",
     "output_type": "stream",
     "text": [
      "Processing Batch:  10%|██████▏                                                       | 2/20 [00:23<03:15, 10.88s/image]"
     ]
    },
    {
     "name": "stdout",
     "output_type": "stream",
     "text": [
      "Processing image http://www.loc.gov/item/2019699388/...\n"
     ]
    },
    {
     "name": "stderr",
     "output_type": "stream",
     "text": [
      "Processing Batch:  10%|██████▏                                                       | 2/20 [00:32<03:15, 10.88s/image]"
     ]
    },
    {
     "name": "stdout",
     "output_type": "stream",
     "text": [
      "Result: ```json\n",
      "{\n",
      "  \"id\": \"2019699388\",\n",
      "  \"city\": \"Jerusalem\",\n",
      "  \"landmarks\": [\"Jerusalem Waterworks\"]\n",
      "}\n",
      "```\n"
     ]
    },
    {
     "name": "stderr",
     "output_type": "stream",
     "text": [
      "Processing Batch:  15%|█████████▎                                                    | 3/20 [00:40<03:39, 12.92s/image]"
     ]
    },
    {
     "name": "stdout",
     "output_type": "stream",
     "text": [
      "Processing image http://www.loc.gov/item/2019699387/...\n"
     ]
    },
    {
     "name": "stderr",
     "output_type": "stream",
     "text": [
      "Processing Batch:  15%|█████████▎                                                    | 3/20 [00:43<03:39, 12.92s/image]"
     ]
    },
    {
     "name": "stdout",
     "output_type": "stream",
     "text": [
      "Result: ```json\n",
      "{\n",
      "  \"id\": \"2019699387\",\n",
      "  \"city\": \"Jerusalem\",\n",
      "  \"landmarks\": [\"Jerusalem Waterworks\"]\n",
      "}\n",
      "```\n"
     ]
    },
    {
     "name": "stderr",
     "output_type": "stream",
     "text": [
      "Processing Batch:  20%|████████████▍                                                 | 4/20 [00:50<03:11, 11.95s/image]"
     ]
    },
    {
     "name": "stdout",
     "output_type": "stream",
     "text": [
      "Processing image http://www.loc.gov/item/2019699403/...\n"
     ]
    },
    {
     "name": "stderr",
     "output_type": "stream",
     "text": [
      "Processing Batch:  20%|████████████▍                                                 | 4/20 [00:52<03:11, 11.95s/image]"
     ]
    },
    {
     "name": "stdout",
     "output_type": "stream",
     "text": [
      "Result: ```json\n",
      "{\n",
      "  \"id\": \"2019699403\",\n",
      "  \"city\": \"Jerusalem\",\n",
      "  \"landmarks\": [\"Jerusalem Waterworks\"]\n",
      "}\n",
      "```\n"
     ]
    },
    {
     "name": "stderr",
     "output_type": "stream",
     "text": [
      "Processing Batch:  25%|███████████████▌                                              | 5/20 [00:59<02:47, 11.16s/image]"
     ]
    },
    {
     "name": "stdout",
     "output_type": "stream",
     "text": [
      "Processing image http://www.loc.gov/item/2019699464/...\n"
     ]
    },
    {
     "name": "stderr",
     "output_type": "stream",
     "text": [
      "Processing Batch:  25%|███████████████▌                                              | 5/20 [01:01<02:47, 11.16s/image]"
     ]
    },
    {
     "name": "stdout",
     "output_type": "stream",
     "text": [
      "Result: ```json\n",
      "{\n",
      "  \"id\": \"2019699464\",\n",
      "  \"city\": \"Jerusalem\",\n",
      "  \"landmarks\": [\"Jerusalem Waterworks\"]\n",
      "}\n",
      "```\n"
     ]
    },
    {
     "name": "stderr",
     "output_type": "stream",
     "text": [
      "Processing Batch:  30%|██████████████████▌                                           | 6/20 [01:11<02:25, 10.40s/image]"
     ]
    },
    {
     "name": "stdout",
     "output_type": "stream",
     "text": [
      "Processing image http://www.loc.gov/item/2019699540/...\n"
     ]
    },
    {
     "name": "stderr",
     "output_type": "stream",
     "text": [
      "Processing Batch:  30%|██████████████████▌                                           | 6/20 [01:14<02:25, 10.40s/image]"
     ]
    },
    {
     "name": "stdout",
     "output_type": "stream",
     "text": [
      "Result: ```json\n",
      "{\n",
      "  \"id\": \"2019699540\",\n",
      "  \"city\": \"Jerusalem\",\n",
      "  \"landmarks\": [\"Unknown\"]\n",
      "}\n",
      "```\n"
     ]
    },
    {
     "name": "stderr",
     "output_type": "stream",
     "text": [
      "Processing Batch:  35%|█████████████████████▋                                        | 7/20 [01:21<02:24, 11.14s/image]"
     ]
    },
    {
     "name": "stdout",
     "output_type": "stream",
     "text": [
      "Processing image http://www.loc.gov/item/2019699442/...\n"
     ]
    },
    {
     "name": "stderr",
     "output_type": "stream",
     "text": [
      "Processing Batch:  35%|█████████████████████▋                                        | 7/20 [01:24<02:24, 11.14s/image]"
     ]
    },
    {
     "name": "stdout",
     "output_type": "stream",
     "text": [
      "Result: ```json\n",
      "{\n",
      "  \"id\": \"2019699442\",\n",
      "  \"city\": \"Jerusalem\",\n",
      "  \"landmarks\": [\"Jerusalem Waterworks\"]\n",
      "}\n",
      "```\n"
     ]
    },
    {
     "name": "stderr",
     "output_type": "stream",
     "text": [
      "Processing Batch:  40%|████████████████████████▊                                     | 8/20 [01:33<02:11, 10.93s/image]"
     ]
    },
    {
     "name": "stdout",
     "output_type": "stream",
     "text": [
      "Processing image http://www.loc.gov/item/2019699444/...\n"
     ]
    },
    {
     "name": "stderr",
     "output_type": "stream",
     "text": [
      "Processing Batch:  40%|████████████████████████▊                                     | 8/20 [01:36<02:11, 10.93s/image]"
     ]
    },
    {
     "name": "stdout",
     "output_type": "stream",
     "text": [
      "Result: ```json\n",
      "{\n",
      "  \"id\": \"2019699444\",\n",
      "  \"city\": \"Jerusalem\",\n",
      "  \"landmarks\": [\"Jerusalem Waterworks\"]\n",
      "}\n",
      "```\n"
     ]
    },
    {
     "name": "stderr",
     "output_type": "stream",
     "text": [
      "Processing Batch:  45%|███████████████████████████▉                                  | 9/20 [01:49<02:01, 11.07s/image]"
     ]
    },
    {
     "name": "stdout",
     "output_type": "stream",
     "text": [
      "Processing image http://www.loc.gov/item/2019699426/...\n"
     ]
    },
    {
     "name": "stderr",
     "output_type": "stream",
     "text": [
      "Processing Batch:  45%|███████████████████████████▉                                  | 9/20 [01:52<02:01, 11.07s/image]"
     ]
    },
    {
     "name": "stdout",
     "output_type": "stream",
     "text": [
      "Result: ```json\n",
      "{\n",
      "  \"id\": \"2019699426\",\n",
      "  \"city\": \"Jerusalem\",\n",
      "  \"landmarks\": [\"Jerusalem Waterworks\"]\n",
      "}\n",
      "```\n"
     ]
    },
    {
     "name": "stderr",
     "output_type": "stream",
     "text": [
      "Processing Batch:  50%|██████████████████████████████▌                              | 10/20 [02:02<02:06, 12.69s/image]"
     ]
    },
    {
     "name": "stdout",
     "output_type": "stream",
     "text": [
      "Processing image http://www.loc.gov/item/2019698977/...\n"
     ]
    },
    {
     "name": "stderr",
     "output_type": "stream",
     "text": [
      "Processing Batch:  50%|██████████████████████████████▌                              | 10/20 [02:05<02:06, 12.69s/image]"
     ]
    },
    {
     "name": "stdout",
     "output_type": "stream",
     "text": [
      "Result: ```json\n",
      "{\n",
      "  \"id\": \"2019698977\",\n",
      "  \"city\": \"Jerusalem\",\n",
      "  \"landmarks\": [\"Unknown\"]\n",
      "}\n",
      "```\n"
     ]
    },
    {
     "name": "stderr",
     "output_type": "stream",
     "text": [
      "Processing Batch:  55%|█████████████████████████████████▌                           | 11/20 [02:12<01:53, 12.62s/image]"
     ]
    },
    {
     "name": "stdout",
     "output_type": "stream",
     "text": [
      "Processing image http://www.loc.gov/item/2019698982/...\n"
     ]
    },
    {
     "name": "stderr",
     "output_type": "stream",
     "text": [
      "Processing Batch:  55%|█████████████████████████████████▌                           | 11/20 [02:18<01:53, 12.62s/image]"
     ]
    },
    {
     "name": "stdout",
     "output_type": "stream",
     "text": [
      "Result: ```json\n",
      "{\n",
      "  \"id\": \"2019698982\",\n",
      "  \"city\": \"Jerusalem\",\n",
      "  \"landmarks\": [\"Unknown\"]\n",
      "}\n",
      "```\n"
     ]
    },
    {
     "name": "stderr",
     "output_type": "stream",
     "text": [
      "Processing Batch:  60%|████████████████████████████████████▌                        | 12/20 [02:26<01:41, 12.74s/image]"
     ]
    },
    {
     "name": "stdout",
     "output_type": "stream",
     "text": [
      "Processing image http://www.loc.gov/item/2019698974/...\n"
     ]
    },
    {
     "name": "stderr",
     "output_type": "stream",
     "text": [
      "Processing Batch:  60%|████████████████████████████████████▌                        | 12/20 [02:28<01:41, 12.74s/image]"
     ]
    },
    {
     "name": "stdout",
     "output_type": "stream",
     "text": [
      "Result: ```json\n",
      "{\n",
      "  \"id\": \"2019698974\",\n",
      "  \"city\": \"Jerusalem\",\n",
      "  \"landmarks\": [\"Unknown\"]\n",
      "}\n",
      "```\n"
     ]
    },
    {
     "name": "stderr",
     "output_type": "stream",
     "text": [
      "Processing Batch:  65%|███████████████████████████████████████▋                     | 13/20 [02:35<01:24, 12.06s/image]"
     ]
    },
    {
     "name": "stdout",
     "output_type": "stream",
     "text": [
      "Processing image http://www.loc.gov/item/2019699386/...\n"
     ]
    },
    {
     "name": "stderr",
     "output_type": "stream",
     "text": [
      "Processing Batch:  65%|███████████████████████████████████████▋                     | 13/20 [02:38<01:24, 12.06s/image]"
     ]
    },
    {
     "name": "stdout",
     "output_type": "stream",
     "text": [
      "Result: ```json\n",
      "{\n",
      "  \"id\": \"2019699386\",\n",
      "  \"city\": \"Jerusalem\",\n",
      "  \"landmarks\": [\"Jerusalem Waterworks\"]\n",
      "}\n",
      "```\n"
     ]
    },
    {
     "name": "stderr",
     "output_type": "stream",
     "text": [
      "Processing Batch:  70%|██████████████████████████████████████████▋                  | 14/20 [02:46<01:07, 11.33s/image]"
     ]
    },
    {
     "name": "stdout",
     "output_type": "stream",
     "text": [
      "Processing image http://www.loc.gov/item/2019699313/...\n"
     ]
    },
    {
     "name": "stderr",
     "output_type": "stream",
     "text": [
      "Processing Batch:  70%|██████████████████████████████████████████▋                  | 14/20 [02:51<01:07, 11.33s/image]"
     ]
    },
    {
     "name": "stdout",
     "output_type": "stream",
     "text": [
      "Result: ```json\n",
      "{\n",
      "  \"id\": \"2019699313\",\n",
      "  \"city\": \"Jerusalem\",\n",
      "  \"landmarks\": [\"Citadel\", \"Tower of David\"]\n",
      "}\n",
      "```\n"
     ]
    },
    {
     "name": "stderr",
     "output_type": "stream",
     "text": [
      "Processing Batch:  75%|█████████████████████████████████████████████▊               | 15/20 [02:59<00:59, 11.92s/image]"
     ]
    },
    {
     "name": "stdout",
     "output_type": "stream",
     "text": [
      "Processing image http://www.loc.gov/item/2019709851/...\n"
     ]
    },
    {
     "name": "stderr",
     "output_type": "stream",
     "text": [
      "Processing Batch:  75%|█████████████████████████████████████████████▊               | 15/20 [03:01<00:59, 11.92s/image]"
     ]
    },
    {
     "name": "stdout",
     "output_type": "stream",
     "text": [
      "Result: ```json\n",
      "{\n",
      "  \"id\": \"2019709851\",\n",
      "  \"city\": \"Jerusalem\",\n",
      "  \"landmarks\": [\"Government museum\"]\n",
      "}\n",
      "```\n"
     ]
    },
    {
     "name": "stderr",
     "output_type": "stream",
     "text": [
      "Processing Batch:  80%|████████████████████████████████████████████████▊            | 16/20 [03:08<00:45, 11.36s/image]"
     ]
    },
    {
     "name": "stdout",
     "output_type": "stream",
     "text": [
      "Processing image http://www.loc.gov/item/2019695397/...\n"
     ]
    },
    {
     "name": "stderr",
     "output_type": "stream",
     "text": [
      "Processing Batch:  80%|████████████████████████████████████████████████▊            | 16/20 [03:11<00:45, 11.36s/image]"
     ]
    },
    {
     "name": "stdout",
     "output_type": "stream",
     "text": [
      "Result: ```json\n",
      "{\n",
      "  \"id\": \"2019695397\",\n",
      "  \"city\": \"Jerusalem\",\n",
      "  \"landmarks\": [\"Mount Scopus\"]\n",
      "}\n",
      "```\n"
     ]
    },
    {
     "name": "stderr",
     "output_type": "stream",
     "text": [
      "Processing Batch:  85%|███████████████████████████████████████████████████▊         | 17/20 [03:19<00:32, 10.84s/image]"
     ]
    },
    {
     "name": "stdout",
     "output_type": "stream",
     "text": [
      "Processing image http://www.loc.gov/item/2019699383/...\n"
     ]
    },
    {
     "name": "stderr",
     "output_type": "stream",
     "text": [
      "Processing Batch:  85%|███████████████████████████████████████████████████▊         | 17/20 [03:22<00:32, 10.84s/image]"
     ]
    },
    {
     "name": "stdout",
     "output_type": "stream",
     "text": [
      "Result: ```json\n",
      "{\n",
      "  \"id\": \"2019699383\",\n",
      "  \"city\": \"Jerusalem\",\n",
      "  \"landmarks\": [\"Jerusalem Waterworks\"]\n",
      "}\n",
      "```\n"
     ]
    },
    {
     "name": "stderr",
     "output_type": "stream",
     "text": [
      "Processing Batch:  90%|██████████████████████████████████████████████████████▉      | 18/20 [03:29<00:21, 10.94s/image]"
     ]
    },
    {
     "name": "stdout",
     "output_type": "stream",
     "text": [
      "Processing image http://www.loc.gov/item/2019693915/...\n"
     ]
    },
    {
     "name": "stderr",
     "output_type": "stream",
     "text": [
      "Processing Batch:  90%|██████████████████████████████████████████████████████▉      | 18/20 [03:32<00:21, 10.94s/image]"
     ]
    },
    {
     "name": "stdout",
     "output_type": "stream",
     "text": [
      "Result: ```json\n",
      "{\n",
      "  \"id\": \"2019693915\",\n",
      "  \"city\": \"Jerusalem\",\n",
      "  \"landmarks\": [\"Mount of Olives\"]\n",
      "}\n",
      "```\n"
     ]
    },
    {
     "name": "stderr",
     "output_type": "stream",
     "text": [
      "Processing Batch:  95%|█████████████████████████████████████████████████████████▉   | 19/20 [03:39<00:10, 10.64s/image]"
     ]
    },
    {
     "name": "stdout",
     "output_type": "stream",
     "text": [
      "Processing image http://www.loc.gov/item/2019699607/...\n"
     ]
    },
    {
     "name": "stderr",
     "output_type": "stream",
     "text": [
      "Processing Batch:  95%|█████████████████████████████████████████████████████████▉   | 19/20 [03:42<00:10, 10.64s/image]"
     ]
    },
    {
     "name": "stdout",
     "output_type": "stream",
     "text": [
      "Result: ```json\n",
      "{\n",
      "  \"id\": \"2019699607\",\n",
      "  \"city\": \"Jerusalem\",\n",
      "  \"landmarks\": [\"British Hospital\", \"British Ophthalmic Hospital\"]\n",
      "}\n",
      "```\n"
     ]
    },
    {
     "name": "stderr",
     "output_type": "stream",
     "text": [
      "Processing Batch: 100%|█████████████████████████████████████████████████████████████| 20/20 [03:47<00:00, 11.36s/image]\n"
     ]
    },
    {
     "name": "stdout",
     "output_type": "stream",
     "text": [
      "Completed a batch. Pausing for 15 minutes before starting the next batch.\n"
     ]
    },
    {
     "name": "stderr",
     "output_type": "stream",
     "text": [
      "Processing Batch:   0%|                                                                      | 0/20 [00:02<?, ?image/s]"
     ]
    },
    {
     "name": "stdout",
     "output_type": "stream",
     "text": [
      "Processing image http://www.loc.gov/item/2019699107/...\n"
     ]
    },
    {
     "name": "stderr",
     "output_type": "stream",
     "text": [
      "Processing Batch:   0%|                                                                      | 0/20 [00:08<?, ?image/s]"
     ]
    },
    {
     "name": "stdout",
     "output_type": "stream",
     "text": [
      "Result: ```json\n",
      "{\n",
      "  \"id\": \"2019699107\",\n",
      "  \"city\": \"Jerusalem\",\n",
      "  \"landmarks\": [\"Jerusalem cemetery\"]\n",
      "}\n",
      "```\n"
     ]
    },
    {
     "name": "stderr",
     "output_type": "stream",
     "text": [
      "Processing Batch:   5%|███                                                           | 1/20 [00:15<04:16, 13.50s/image]"
     ]
    },
    {
     "name": "stdout",
     "output_type": "stream",
     "text": [
      "Processing image http://www.loc.gov/item/2019698976/...\n"
     ]
    },
    {
     "name": "stderr",
     "output_type": "stream",
     "text": [
      "Processing Batch:   5%|███                                                           | 1/20 [00:18<04:16, 13.50s/image]"
     ]
    },
    {
     "name": "stdout",
     "output_type": "stream",
     "text": [
      "Result: ```json\n",
      "{\n",
      "  \"id\": \"2019698976\",\n",
      "  \"city\": \"Jerusalem\",\n",
      "  \"landmarks\": [\"Unknown\"]\n",
      "}\n",
      "```\n"
     ]
    },
    {
     "name": "stderr",
     "output_type": "stream",
     "text": [
      "Processing Batch:  10%|██████▏                                                       | 2/20 [00:26<03:24, 11.37s/image]"
     ]
    },
    {
     "name": "stdout",
     "output_type": "stream",
     "text": [
      "Processing image http://www.loc.gov/item/2019697330/...\n"
     ]
    },
    {
     "name": "stderr",
     "output_type": "stream",
     "text": [
      "Processing Batch:  10%|██████▏                                                       | 2/20 [00:29<03:24, 11.37s/image]"
     ]
    },
    {
     "name": "stdout",
     "output_type": "stream",
     "text": [
      "Result: ```json\n",
      "{\n",
      "  \"id\": \"2019697330\",\n",
      "  \"city\": \"Jerusalem\",\n",
      "  \"landmarks\": [\"Siloam\"]\n",
      "}\n",
      "```\n"
     ]
    },
    {
     "name": "stderr",
     "output_type": "stream",
     "text": [
      "Processing Batch:  15%|█████████▎                                                    | 3/20 [00:35<03:07, 11.04s/image]"
     ]
    },
    {
     "name": "stdout",
     "output_type": "stream",
     "text": [
      "Processing image http://www.loc.gov/item/2019693918/...\n"
     ]
    }
   ],
   "source": [
    "def get_selected_metadata(image_url):\n",
    "    metadata_url = image_url + \"?fo=json\"\n",
    "    try:\n",
    "        response = requests.get(metadata_url)\n",
    "        if response.status_code == 200:\n",
    "            data = response.json()\n",
    "\n",
    "            # Extracting nested fields from the JSON response\n",
    "            interesting_fields = {\n",
    "                \"id\": data.get(\"item\", {}).get(\"id\"),\n",
    "                \"contributor_names\": data.get(\"item\", {}).get(\"contributor_names\"),\n",
    "                \"created_published\": data.get(\"item\", {}).get(\"created_published\"),\n",
    "                \"created_published_date\": data.get(\"item\", {}).get(\"created_published_date\"),\n",
    "                \"description\": data.get(\"item\", {}).get(\"description\"),\n",
    "                \"format\": data.get(\"item\", {}).get(\"format\"),\n",
    "                \"location\": data.get(\"item\", {}).get(\"location\"),\n",
    "                \"title\": data.get(\"item\", {}).get(\"title\"),\n",
    "                \"notes\": data.get(\"item\", {}).get(\"notes\"),\n",
    "                \"number_lccn\": data.get(\"item\", {}).get(\"number_lccn\")  # Added \"number_lccn\"\n",
    "            }\n",
    "\n",
    "            return interesting_fields\n",
    "    except Exception as e:\n",
    "        tqdm.write(f\"An error occurred while fetching metadata for {image_url}: {e}\")\n",
    "    return None\n",
    "\n",
    "@retry(wait=wait_exponential(multiplier=1, min=4, max=10), \n",
    "       stop=stop_after_attempt(3), \n",
    "       retry=retry_if_exception_type(openai.error.RateLimitError))\n",
    "def call_openai_api(prompt, metadata, results_list):\n",
    "    response = openai.ChatCompletion.create(\n",
    "        model=\"gpt-4-1106-preview\",\n",
    "        messages=[\n",
    "            {\"role\": \"system\", \"content\": \"You are a helpful assistant.\"},\n",
    "            {\"role\": \"user\", \"content\": prompt.format(metadata=metadata)}\n",
    "        ]\n",
    "    )\n",
    "    result = response.choices[0].message['content']\n",
    "    results_list.append(result)\n",
    "    return result\n",
    "\n",
    "def save_results(results_list):\n",
    "    with open('results.txt', 'w', encoding='utf-8') as file:\n",
    "        for result in results_list:\n",
    "            file.write(result + '\\n')\n",
    "\n",
    "def batch_process(urls, batch_size):\n",
    "    for i in range(0, len(urls), batch_size):\n",
    "        yield urls[i:i + batch_size]\n",
    "\n",
    "def analyze_image_metadata(prompt, image_urls, batch_size=20, delay_seconds=5):\n",
    "    start_time = time.time()\n",
    "    results_list = []\n",
    "\n",
    "    for batch in batch_process(image_urls, batch_size):\n",
    "        for url in tqdm(batch, desc='Processing Batch', unit='image'):\n",
    "            while True:\n",
    "                try:\n",
    "                    metadata = get_selected_metadata(url)\n",
    "                    if metadata:\n",
    "                        tqdm.write(f\"Processing image {url}...\")\n",
    "                        result = call_openai_api(prompt, metadata, results_list)\n",
    "                        if result:\n",
    "                            tqdm.write(f\"Result: {result}\")\n",
    "                        time.sleep(delay_seconds)  # Fixed delay between each API call\n",
    "                        break  # Break the while loop once the API call is successful\n",
    "                    else:\n",
    "                        tqdm.write(f\"No metadata available for image {url}.\")\n",
    "                        break  # Break the while loop if no metadata is available\n",
    "                except RetryError:\n",
    "                    tqdm.write(\"Maximum retry attempts reached. Pausing for 15 minutes before retrying.\")\n",
    "                    save_results(results_list)  # Save progress\n",
    "                    time.sleep(900)  # Pause for 15 minutes\n",
    "\n",
    "        # Sleep for 15 minutes between each batch\n",
    "        tqdm.write(\"Completed a batch. Pausing for 15 minutes before starting the next batch.\")\n",
    "        #time.sleep(900)\n",
    "\n",
    "    end_time = time.time()\n",
    "    tqdm.write(f\"Total time taken: {end_time - start_time:.2f} seconds\")\n",
    "    save_results(results_list)\n",
    "\n",
    "#usage\n",
    "prompt = \"\"\"I am going to give you the metadata of a historical photograph. From it, extract the city and landmark(s) represented in\n",
    "the picture.Your response should be in JSON format.\n",
    "Don’t give any polite introduction on your response, just JSON format, following this template: \n",
    "{{\n",
    "  \"id\": \"2019696982\",\n",
    "  \"city\": \"Jerusalem\",\n",
    "  \"landmarks\": [\"Hebrew University\"]\n",
    "}}\n",
    "where, id refers to a field already provided in the metadata. city refers to the city where the photo was shot. landmark refers \n",
    "to any specific building or location inside of the city.\n",
    "If it is impossible to detect a specific landmark or city, use the word \"Unknown\".\n",
    "If there are multiple landmarks depicted, list them.\n",
    "\n",
    "Metadata: {metadata}\"\"\"  \n",
    "\n",
    "# list of image URLs\n",
    "image_urls = random_urls\n",
    "\n",
    "# Run the analysis\n",
    "analyze_image_metadata(prompt, image_urls,  delay_seconds=5)\n"
   ]
  },
  {
   "cell_type": "code",
   "execution_count": null,
   "id": "cbc766d8",
   "metadata": {},
   "outputs": [],
   "source": [
    "# To read the saved results later\n",
    "with open('results.txt', 'r') as file:\n",
    "    saved_results = file.readlines()\n",
    "    for result in saved_results:\n",
    "        print(result)"
   ]
  }
 ],
 "metadata": {
  "kernelspec": {
   "display_name": "Python 3 (ipykernel)",
   "language": "python",
   "name": "python3"
  },
  "language_info": {
   "codemirror_mode": {
    "name": "ipython",
    "version": 3
   },
   "file_extension": ".py",
   "mimetype": "text/x-python",
   "name": "python",
   "nbconvert_exporter": "python",
   "pygments_lexer": "ipython3",
   "version": "3.9.12"
  }
 },
 "nbformat": 4,
 "nbformat_minor": 5
}
